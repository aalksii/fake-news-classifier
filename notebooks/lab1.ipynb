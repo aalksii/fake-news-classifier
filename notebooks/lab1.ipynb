{
 "cells": [
  {
   "attachments": {},
   "cell_type": "markdown",
   "metadata": {},
   "source": [
    "# Laboratory work #1 (text segmentation and annotation)"
   ]
  },
  {
   "cell_type": "code",
   "execution_count": 1,
   "metadata": {},
   "outputs": [
    {
     "name": "stderr",
     "output_type": "stream",
     "text": [
      "[nltk_data] Downloading package wordnet to /Users/aleksei/nltk_data...\n",
      "[nltk_data]   Package wordnet is already up-to-date!\n"
     ]
    },
    {
     "data": {
      "text/plain": [
       "True"
      ]
     },
     "execution_count": 1,
     "metadata": {},
     "output_type": "execute_result"
    }
   ],
   "source": [
    "import pandas as pd\n",
    "import re\n",
    "from pathlib import Path\n",
    "\n",
    "from tqdm import tqdm\n",
    "from nltk.stem import SnowballStemmer\n",
    "from nltk.stem import WordNetLemmatizer\n",
    "import nltk\n",
    "nltk.download('wordnet')"
   ]
  },
  {
   "attachments": {},
   "cell_type": "markdown",
   "metadata": {},
   "source": [
    "The dataset reading is taken from https://www.kaggle.com/code/therealsampat/fake-news-detection."
   ]
  },
  {
   "cell_type": "code",
   "execution_count": 2,
   "metadata": {},
   "outputs": [],
   "source": [
    "df_fake = pd.read_csv('../data/Fake.csv')\n",
    "df_true = pd.read_csv('../data/True.csv')\n",
    "\n",
    "df_fake['class'] = 0\n",
    "df_true['class'] = 1"
   ]
  },
  {
   "cell_type": "code",
   "execution_count": 3,
   "metadata": {},
   "outputs": [],
   "source": [
    "df_fake = df_fake.drop_duplicates('text')\n",
    "df_true = df_true.drop_duplicates('text')"
   ]
  },
  {
   "cell_type": "code",
   "execution_count": 4,
   "metadata": {},
   "outputs": [
    {
     "data": {
      "text/plain": [
       "((17455, 5), (21192, 5))"
      ]
     },
     "execution_count": 4,
     "metadata": {},
     "output_type": "execute_result"
    }
   ],
   "source": [
    "df_fake.shape, df_true.shape"
   ]
  },
  {
   "cell_type": "code",
   "execution_count": 5,
   "metadata": {},
   "outputs": [
    {
     "data": {
      "text/html": [
       "<div>\n",
       "<style scoped>\n",
       "    .dataframe tbody tr th:only-of-type {\n",
       "        vertical-align: middle;\n",
       "    }\n",
       "\n",
       "    .dataframe tbody tr th {\n",
       "        vertical-align: top;\n",
       "    }\n",
       "\n",
       "    .dataframe thead th {\n",
       "        text-align: right;\n",
       "    }\n",
       "</style>\n",
       "<table border=\"1\" class=\"dataframe\">\n",
       "  <thead>\n",
       "    <tr style=\"text-align: right;\">\n",
       "      <th></th>\n",
       "      <th>title</th>\n",
       "      <th>text</th>\n",
       "      <th>subject</th>\n",
       "      <th>date</th>\n",
       "      <th>class</th>\n",
       "    </tr>\n",
       "  </thead>\n",
       "  <tbody>\n",
       "    <tr>\n",
       "      <th>7303</th>\n",
       "      <td>Obama officials work against time to wrap bank...</td>\n",
       "      <td>WASHINGTON (Reuters) - U.S. officials are stri...</td>\n",
       "      <td>politicsNews</td>\n",
       "      <td>November 13, 2016</td>\n",
       "      <td>1</td>\n",
       "    </tr>\n",
       "    <tr>\n",
       "      <th>3346</th>\n",
       "      <td>Bill Clinton HUMILIATES Trump During Surprise...</td>\n",
       "      <td>Bill Clinton finally spoke up about Donald Tru...</td>\n",
       "      <td>News</td>\n",
       "      <td>December 19, 2016</td>\n",
       "      <td>0</td>\n",
       "    </tr>\n",
       "    <tr>\n",
       "      <th>17480</th>\n",
       "      <td>German minister upsets fellow conservatives ov...</td>\n",
       "      <td>BERLIN (Reuters) - German Interior Minister Th...</td>\n",
       "      <td>worldnews</td>\n",
       "      <td>October 14, 2017</td>\n",
       "      <td>1</td>\n",
       "    </tr>\n",
       "    <tr>\n",
       "      <th>4241</th>\n",
       "      <td>Trump administration drops North Carolina 'bat...</td>\n",
       "      <td>(Reuters) - The Trump administration on Friday...</td>\n",
       "      <td>politicsNews</td>\n",
       "      <td>April 14, 2017</td>\n",
       "      <td>1</td>\n",
       "    </tr>\n",
       "    <tr>\n",
       "      <th>17860</th>\n",
       "      <td>Philippines doctor linked to New York attack p...</td>\n",
       "      <td>MANILA (Reuters) - A Filipino accused by the U...</td>\n",
       "      <td>worldnews</td>\n",
       "      <td>October 10, 2017</td>\n",
       "      <td>1</td>\n",
       "    </tr>\n",
       "    <tr>\n",
       "      <th>11523</th>\n",
       "      <td>AWESOME PHOTOS CAPTURE A “Badass” Trump And Hi...</td>\n",
       "      <td>While visiting the USS Gerald R. Ford today do...</td>\n",
       "      <td>politics</td>\n",
       "      <td>Mar 2, 2017</td>\n",
       "      <td>0</td>\n",
       "    </tr>\n",
       "    <tr>\n",
       "      <th>22209</th>\n",
       "      <td>Flynn’s Out: Is ‘The New Détente’ Really Dead ...</td>\n",
       "      <td>Andrew Korybko 21st Century Wire The global m...</td>\n",
       "      <td>US_News</td>\n",
       "      <td>February 15, 2017</td>\n",
       "      <td>0</td>\n",
       "    </tr>\n",
       "    <tr>\n",
       "      <th>12707</th>\n",
       "      <td>DRUDGE THREATENS HILLARY…He’s About To Drop Bo...</td>\n",
       "      <td>Poor old Crooked Hillary the hits are coming f...</td>\n",
       "      <td>politics</td>\n",
       "      <td>Oct 17, 2016</td>\n",
       "      <td>0</td>\n",
       "    </tr>\n",
       "    <tr>\n",
       "      <th>11319</th>\n",
       "      <td>Australian woman escapes the noose for drug tr...</td>\n",
       "      <td>KUALA LUMPUR (Reuters) - An Australian mother ...</td>\n",
       "      <td>worldnews</td>\n",
       "      <td>December 27, 2017</td>\n",
       "      <td>1</td>\n",
       "    </tr>\n",
       "    <tr>\n",
       "      <th>8564</th>\n",
       "      <td>White House candidate Clinton sees big boost i...</td>\n",
       "      <td>WASHINGTON (Reuters) - U.S. Democratic preside...</td>\n",
       "      <td>politicsNews</td>\n",
       "      <td>August 2, 2016</td>\n",
       "      <td>1</td>\n",
       "    </tr>\n",
       "  </tbody>\n",
       "</table>\n",
       "</div>"
      ],
      "text/plain": [
       "                                                   title  \\\n",
       "7303   Obama officials work against time to wrap bank...   \n",
       "3346    Bill Clinton HUMILIATES Trump During Surprise...   \n",
       "17480  German minister upsets fellow conservatives ov...   \n",
       "4241   Trump administration drops North Carolina 'bat...   \n",
       "17860  Philippines doctor linked to New York attack p...   \n",
       "11523  AWESOME PHOTOS CAPTURE A “Badass” Trump And Hi...   \n",
       "22209  Flynn’s Out: Is ‘The New Détente’ Really Dead ...   \n",
       "12707  DRUDGE THREATENS HILLARY…He’s About To Drop Bo...   \n",
       "11319  Australian woman escapes the noose for drug tr...   \n",
       "8564   White House candidate Clinton sees big boost i...   \n",
       "\n",
       "                                                    text       subject  \\\n",
       "7303   WASHINGTON (Reuters) - U.S. officials are stri...  politicsNews   \n",
       "3346   Bill Clinton finally spoke up about Donald Tru...          News   \n",
       "17480  BERLIN (Reuters) - German Interior Minister Th...     worldnews   \n",
       "4241   (Reuters) - The Trump administration on Friday...  politicsNews   \n",
       "17860  MANILA (Reuters) - A Filipino accused by the U...     worldnews   \n",
       "11523  While visiting the USS Gerald R. Ford today do...      politics   \n",
       "22209   Andrew Korybko 21st Century Wire The global m...       US_News   \n",
       "12707  Poor old Crooked Hillary the hits are coming f...      politics   \n",
       "11319  KUALA LUMPUR (Reuters) - An Australian mother ...     worldnews   \n",
       "8564   WASHINGTON (Reuters) - U.S. Democratic preside...  politicsNews   \n",
       "\n",
       "                     date  class  \n",
       "7303   November 13, 2016       1  \n",
       "3346    December 19, 2016      0  \n",
       "17480   October 14, 2017       1  \n",
       "4241      April 14, 2017       1  \n",
       "17860   October 10, 2017       1  \n",
       "11523         Mar 2, 2017      0  \n",
       "22209   February 15, 2017      0  \n",
       "12707        Oct 17, 2016      0  \n",
       "11319  December 27, 2017       1  \n",
       "8564      August 2, 2016       1  "
      ]
     },
     "execution_count": 5,
     "metadata": {},
     "output_type": "execute_result"
    }
   ],
   "source": [
    "df_merge = pd.concat([df_fake, df_true], axis=0)\n",
    "df_merge.sample(10)"
   ]
  },
  {
   "cell_type": "code",
   "execution_count": 6,
   "metadata": {},
   "outputs": [
    {
     "data": {
      "text/plain": [
       "text     0\n",
       "class    0\n",
       "dtype: int64"
      ]
     },
     "execution_count": 6,
     "metadata": {},
     "output_type": "execute_result"
    }
   ],
   "source": [
    "df = df_merge.drop(['title', 'subject', 'date'], axis=1)\n",
    "df.isnull().sum()"
   ]
  },
  {
   "cell_type": "code",
   "execution_count": 7,
   "metadata": {},
   "outputs": [],
   "source": [
    "df = df.sample(frac=1)\n",
    "df.reset_index(inplace=True)\n",
    "df.drop(['index'], axis=1, inplace=True)"
   ]
  },
  {
   "cell_type": "code",
   "execution_count": 8,
   "metadata": {},
   "outputs": [],
   "source": [
    "df['part'] = 'train'\n",
    "n = len(df)\n",
    "train_n = int(n * 0.8)\n",
    "val_n = int(n * 0.1)\n",
    "test_n = n - train_n - val_n\n",
    "df.loc[(train_n < df.index) & (df.index < train_n + val_n), 'part'] = 'val'\n",
    "df.loc[train_n + val_n <= df.index, 'part'] = 'test'"
   ]
  },
  {
   "cell_type": "code",
   "execution_count": 9,
   "metadata": {},
   "outputs": [],
   "source": [
    "df = df.sample(frac=1)\n",
    "df.reset_index(inplace=True)\n",
    "df.drop(['index'], axis=1, inplace=True)"
   ]
  },
  {
   "cell_type": "code",
   "execution_count": 10,
   "metadata": {},
   "outputs": [
    {
     "data": {
      "text/html": [
       "<div>\n",
       "<style scoped>\n",
       "    .dataframe tbody tr th:only-of-type {\n",
       "        vertical-align: middle;\n",
       "    }\n",
       "\n",
       "    .dataframe tbody tr th {\n",
       "        vertical-align: top;\n",
       "    }\n",
       "\n",
       "    .dataframe thead th {\n",
       "        text-align: right;\n",
       "    }\n",
       "</style>\n",
       "<table border=\"1\" class=\"dataframe\">\n",
       "  <thead>\n",
       "    <tr style=\"text-align: right;\">\n",
       "      <th></th>\n",
       "      <th>text</th>\n",
       "      <th>class</th>\n",
       "      <th>part</th>\n",
       "    </tr>\n",
       "  </thead>\n",
       "  <tbody>\n",
       "    <tr>\n",
       "      <th>0</th>\n",
       "      <td>WASHINGTON (Reuters) - President Donald Trump ...</td>\n",
       "      <td>1</td>\n",
       "      <td>test</td>\n",
       "    </tr>\n",
       "    <tr>\n",
       "      <th>1</th>\n",
       "      <td>BEIJING (Reuters) - Beijing police investigati...</td>\n",
       "      <td>1</td>\n",
       "      <td>train</td>\n",
       "    </tr>\n",
       "    <tr>\n",
       "      <th>2</th>\n",
       "      <td>HARRISBURG, Pa. (Reuters) - Green Party candid...</td>\n",
       "      <td>1</td>\n",
       "      <td>val</td>\n",
       "    </tr>\n",
       "    <tr>\n",
       "      <th>3</th>\n",
       "      <td>TOULON, France (Reuters) - France s defense mi...</td>\n",
       "      <td>1</td>\n",
       "      <td>train</td>\n",
       "    </tr>\n",
       "    <tr>\n",
       "      <th>4</th>\n",
       "      <td>WASHINGTON (Reuters) - New York State Attorney...</td>\n",
       "      <td>1</td>\n",
       "      <td>train</td>\n",
       "    </tr>\n",
       "    <tr>\n",
       "      <th>5</th>\n",
       "      <td>LJUBLJANA (Reuters) - Slovenian President Boru...</td>\n",
       "      <td>1</td>\n",
       "      <td>train</td>\n",
       "    </tr>\n",
       "    <tr>\n",
       "      <th>6</th>\n",
       "      <td>TORONTO (Reuters) - U.S. Republican presidenti...</td>\n",
       "      <td>1</td>\n",
       "      <td>train</td>\n",
       "    </tr>\n",
       "    <tr>\n",
       "      <th>7</th>\n",
       "      <td>SYDNEY (Reuters) - Australia s main Labor oppo...</td>\n",
       "      <td>1</td>\n",
       "      <td>val</td>\n",
       "    </tr>\n",
       "    <tr>\n",
       "      <th>8</th>\n",
       "      <td>There is most definitely no love lost between ...</td>\n",
       "      <td>0</td>\n",
       "      <td>train</td>\n",
       "    </tr>\n",
       "    <tr>\n",
       "      <th>9</th>\n",
       "      <td>MOSCOW (Reuters) - No firm date has been set y...</td>\n",
       "      <td>1</td>\n",
       "      <td>train</td>\n",
       "    </tr>\n",
       "  </tbody>\n",
       "</table>\n",
       "</div>"
      ],
      "text/plain": [
       "                                                text  class   part\n",
       "0  WASHINGTON (Reuters) - President Donald Trump ...      1   test\n",
       "1  BEIJING (Reuters) - Beijing police investigati...      1  train\n",
       "2  HARRISBURG, Pa. (Reuters) - Green Party candid...      1    val\n",
       "3  TOULON, France (Reuters) - France s defense mi...      1  train\n",
       "4  WASHINGTON (Reuters) - New York State Attorney...      1  train\n",
       "5  LJUBLJANA (Reuters) - Slovenian President Boru...      1  train\n",
       "6  TORONTO (Reuters) - U.S. Republican presidenti...      1  train\n",
       "7  SYDNEY (Reuters) - Australia s main Labor oppo...      1    val\n",
       "8  There is most definitely no love lost between ...      0  train\n",
       "9  MOSCOW (Reuters) - No firm date has been set y...      1  train"
      ]
     },
     "execution_count": 10,
     "metadata": {},
     "output_type": "execute_result"
    }
   ],
   "source": [
    "df.head(10)"
   ]
  },
  {
   "cell_type": "code",
   "execution_count": 11,
   "metadata": {},
   "outputs": [
    {
     "data": {
      "text/plain": [
       "(30918, 3863, 3866)"
      ]
     },
     "execution_count": 11,
     "metadata": {},
     "output_type": "execute_result"
    }
   ],
   "source": [
    "len(df[df['part'] == 'train']), len(df[df['part'] == 'val']), len(df[df['part'] == 'test'])"
   ]
  },
  {
   "cell_type": "code",
   "execution_count": 12,
   "metadata": {},
   "outputs": [],
   "source": [
    "df.head(10).to_csv('../data/sample.csv', index=None)"
   ]
  },
  {
   "cell_type": "code",
   "execution_count": 13,
   "metadata": {},
   "outputs": [
    {
     "name": "stdout",
     "output_type": "stream",
     "text": [
      "0 WASHINGTON (Reuters) - President Donald Trump on Wednesday ordered Education Secretary Betsy DeVos to review the U.S. government’s role in school policy, which supporters cheered as the first step in creating more local control in education and critics worried could lead to lower quality schools in poorer neighborhoods. DeVos has 300 days “to review and, if necessary, modify and repeal regulations and guidance issued by the Department of Education with a clear mandate to identify places where D.C. has overstepped its legal authority,” said Rob Goad, a Department of Education official, according to a transcript of a White House call with reporters. The second most powerful Republican in the House of Representatives, California’s Kevin McCarthy, said the federal government had in recent years exceeded its legal authority in creating regulations and guidance “Different people in different states and communities will have different goals and ways of achieving those goals. That is something we should celebrate and enable, not try to stop,” he said in a statement. The Democratic National Committee, though, said the order was politically motivated, with Trump wanting something to show in school policy in his first 100 days. The head of the American Federation of Teachers union, Randi Weingarten, said the current education law, Every Student Succeeds Act, already reduces federal power over schools, especially when it comes to standards and teacher assessments. “What the new law doesn’t do is abandon the requirement for the federal government to protect the civil rights of our students, even if those rights run counter to what states and districts want to do,” she said in a statement.  1 \n",
      "\n",
      "1 BEIJING (Reuters) - Beijing police investigating alleged child abuse at a kindergarten run by RYB Education Inc said on Saturday they had detained a teacher, in the latest scandal to hit China s booming childcare industry. Police in the Chaoyang district said it will further investigate claims of abuse after China s official Xinhua news agency reported this week they were checking allegations that children at the nursery were  reportedly sexually molested, pierced by needles and given unidentified pills . Chaoyang district police said in an online posting on Saturday they had detained a 22-year-old teacher, surnamed Liu from the Hebei province adjacent to Beijing. Police have also arrested another person, also surnamed Liu, for allegedly disrupting social order by spreading false information about the alleged kindergarten abuse, it said in a separate posting. RYB s New York-listed shares plunged 38.4 percent on Friday as the scandal sparked outrage among parents and the public.      The second woman, 31, and a Beijing native, was arrested on Thursday, police said. Parents said their children, some as young as three, gave accounts of a naked adult male conducting purported  medical check-ups  on unclothed students, other media said.  RYB provides early education services in China and at the end of June was operating 80 kindergartens and had franchised an additional 175, covering 130 cities and towns in China.   Meanwhile, Beijing city authorities have urged RYB to remove the head of the kindergarten, Xinhua reported. The Chaoyang district has launched an investigation into all childcare facilities in its area, the report said.   1 \n",
      "\n",
      "2 HARRISBURG, Pa. (Reuters) - Green Party candidate Jill Stein late Saturday vowed to bring her fight for a recount of votes cast in Pennsylvania in the U.S. presidential election to federal court, after a state judge ordered her campaign to post a $1 million bond. “The Stein campaign will continue to fight for a statewide recount in Pennsylvania,” Jonathan Abady, lead counsel to Stein’s recount efforts, said in a statement. Saying it has become clear that “the state court system is so ill-equipped to address this problem,” the statement said “we must seek federal court intervention.” The Stein campaign said it will file for emergency relief in the Pennsylvania effort in federal court on Monday, “demanding a statewide recount on constitutional grounds.” The bond was set by the Commonwealth Court of Pennsylvania a day after representatives of President-elect Donald Trump requested a $10 million bond, according to court papers.  The court gave the petitioners until 5 p.m. local time (2200 GMT) on Monday to post the bond, but said it could modify the amount if shown good cause. Instead, Stein’s campaign withdrew. “Petitioners are regular citizens of ordinary means. They cannot afford to post the $1,000,000 bond required by the court,” wrote attorney Lawrence Otter, informing the court of the decision to withdraw. Stein, who garnered about 1 percent of the presidential vote on Nov. 8, has also sought recounts in Michigan and Wisconsin. Trump won narrow victories over Democrat Hillary Clinton in all three states, part of the industrial heartland of the country until manufacturers started leaving for Mexico and other low-wage countries.   Trump and his allies have attempted to stop the initiatives in the states, calling the recount effort a “scam.” Clinton’s campaign has said it would take part in the recounts. “The judge’s outrageous demand that voters pay such an exorbitant figure is a shameful, unacceptable barrier to democratic participation,” Stein said in a statement. “No voter in America should be forced to pay thousands of dollars to know if her or his vote was counted.”  Stein said she planned to announce “the next step” in the recount effort on Monday at a previously scheduled news conference at Trump Tower in New York City. She said recounts already under way in some Pennsylvania counties would continue. The state’s election commission had approved recounts in 75 precincts where voters requested one, but refused to allow a full forensic audit of voting machines. Even if all the recounts were to take place, the overall election outcome would not likely change. The race is decided by the Electoral College, or a tally of wins from the state-by-state contests, rather than by the popular national vote. Trump surpassed the 270 electoral votes needed to win, with 306. Recounts would have to flip the result to Clinton in all three states to change the result. In the popular vote, Clinton had more than 2.5 million votes over Trump, the independent Cook Political Report said.  1 \n",
      "\n",
      "3 TOULON, France (Reuters) - France s defense minister warned on Tuesday that North Korea could develop ballistic missiles that reach Europe sooner than expected.  The scenario of an escalation towards a major conflict can not be discarded,  Florence Parly said in a speech to the French military.  Europe risks being within range of (North Korean President) Kim Jong Un s missiles sooner than expected,  she said.    1 \n",
      "\n",
      "4 WASHINGTON (Reuters) - New York State Attorney Eric Schneiderman on Tuesday said he has been investigating for six months who posted significant numbers of fake comments filed with the Federal Communications Commission in its review of net neutrality rules. The FCC got more than 22 million comments during its review and several researchers found evidence that significant numbers of submissions were fake.  Schneiderman said Tuesday the “FCC has refused multiple requests for crucial evidence.”  The FCC did not immediately comment.  On Tuesday FCC Chairman Ajit Pai proposed reversing the Obama era net neutrality rules.    1 \n",
      "\n",
      "5 LJUBLJANA (Reuters) - Slovenian President Borut Pahor was re-elected for a second term in a runoff vote on Sunday, beating his challenger in a tight race. Pahor had won about 53 percent of the vote, with 99.9 percent of the votes counted, according to the Election Commission, while his opponent, ex-comedian Marjan Sarec, had 47 percent. Turnout was about 42 percent, according to preliminary figures, the lowest for a  presidential election since Slovenia became an independent country in 1991.   I will be the president of all (Slovenians), I will connect people, build upon the things we have in common,  Pahor told reporters after securing another five-year mandate. He had said that he would focus on cooperation, political stability and security. Although the role of the president is mainly ceremonial, the president leads the army and also nominates several top officials, including the central bank governor. Most of his nominations have to be confirmed by parliament.  Pahor, 54, was forced into a second-round run-off after falling short of securing a majority in the first round last month. Sarec, who is mayor of the northern town of Kamnik and represents a party that does not even have seats in parliament, said he was encouraged by the close result even though he lost. However, he refused to say whether his party would run in a general election expected in June next year.  This is a very good result regardless of the final outcome ... and shows that the time for a generation change has arrived,  he told TV Slovenia.  Tomorrow is a new day and then we will see how to proceed,  he said when asked whether his party would run in the general election.  In the first round three weeks ago, Pahor won about 47 percent of the vote among nine candidates, with Sarec coming in second with almost 25 percent. Pahor was a long-serving leader of the center-left Social Democrats but ran for president both times as an independent candidate. He was Slovenian prime minister from 2008 to 2012, the run-up to the worst financial crisis in Slovenia s history. In 2013, the euro zone member only narrowly managed to avoid an international bailout for its banks, burdened by a large amount of bad loans. A former fashion model, Pahor is also known as  the king of the Instagram  for frequently posting photos on social media showing him in various sporting activities as well as his official duties.   Sarec, 39, campaigned arguing that a change of policy was needed to further improve the economy and lift Slovenians  living standards. He is supported by his own center-left party, Lista Marjana Sarca, which has so far only been active at local level.  1 \n",
      "\n",
      "6 TORONTO (Reuters) - U.S. Republican presidential candidate Donald Trump can be pursued for some claims made by investors in a hybrid hotel-condo tower in Toronto bearing his name, according to a Canadian court ruling released on Thursday. An Ontario appeals court reversed an earlier decision to throw out a case brought against Trump and associates by the investors, who said they were misled into investing in the development in Toronto’s financial district. The investors bought units in the tower that were then placed into a pool of rooms to be rented out at luxury rates by the hotel’s operator. “There would be no factual or legal basis to hold my client liable, principally because my client did not enter into a contract with any of the buyers, did not sell anything to any of the buyers, and did not receive any money from any of the buyers,” said Alan Garten, general counsel for the Trump Organization. A lawyer representing all the defendants, Symon Zucker, said he was still reviewing the judgment to determine the merits of an appeal, but said he was pleased it contained no adverse findings against either Trump or his associate. “As to the balance of the claim, should it be pursued, we believe that it has no chance of being successful,” he said.  The 65-story property is managed by the Trump Organization. Lawyers for Trump and two others had argued that no misrepresentations had been made or that in any event they should not attract personal liability. Trump won a victory last year when a lower court absolved the real estate businessman of any personal responsibility, as his company had only licensed the Trump name to Talon International Development Inc, which owns the property. In the Court of Appeal for Ontario ruling published on Thursday, Justice Paul Rouleau dismissed claims against Trump and two associates for misrepresentation and breach of a ruling by a securities regulator. However, the judge said it was unfair for the original ruling to dismiss claims “based on oppression, collusion, or breach of fiduciary duties,” and said these can still be heard in court. Trump “is still a defendant in this action...and he can still be held liable to these people for damages,” said Mitchell Wine, a lawyer for the plaintiffs.      “This court said you’re still very much part of this thing, and you still have to answer to all of these allegations other than the two that the court considered in this decision.” The ruling also said Talon must pay damages to one buyer for “negligent misrepresentation” and another sale must be rescinded. The case is: Singh v. Trump, 2016 ONCA 747, docket number: C60787  1 \n",
      "\n",
      "7 SYDNEY (Reuters) - Australia s main Labor opposition party said on Monday it was considering a legal challenge to more than 100 decisions made by Prime Minister Malcolm Turnbull s conservative government, after two of his cabinet ministers were expelled from parliament. Among the parliamentary votes in question was the government s defeat of a proposed wide-ranging inquiry into Australia s scandal-hit banking sector. A powerful inquiry into Australia s banks, which are under fire after scams involving money-laundering, misleading financial advice, insurance fraud and interest-rate rigging, was approved by the upper house Senate this year, but fell one vote short of passing the lower house. The government lost its one-seat lower house majority on Friday when a court ruled Deputy Prime Minister Barnaby Joyce was ineligible to sit in parliament as he had held dual citizenship when elected, in contradiction to the constitution. Former cabinet colleague Fiona Nash, along with three other politicians, were also expelled. The ruling has cast doubt over the validity of parliamentary votes Joyce and Nash have cast, said Tanya Plibersek, acting leader of the Australian Labor Party  We re going to look at all of our options,  Plibersek said on Monday in an interview with Australian Broadcasting Corporation radio.  We are very concerned about the fact that Barnaby Joyce has been voting at a time when he shouldn t have been in the Federal Parliament and we narrowly lost votes because of that.  Joyce has said many of those decisions were made by cabinet collectively rather than himself personally and so ought to remain valid. Plibersek said legal challenges could be mounted by anyone aggrieved by the government s decisions. She flagged challenging a narrowly-won vote that cut Sunday pay rates for some workers, as well as decisions taken by Joyce and Nash in their capacity as ministers. That includes a decision to relocate a government department headquarters to Joyce s electorate and decisions on water-rights allocation and the rollout of a national fast-internet scheme.    Constitutional law academic George Williams said the issue was not so clear cut.  It s certainly uncharted waters,  said Williams, Dean of Law at the University of New South Wales. The court would  look very carefully  in particular at decisions taken since August, when Joyce and Nash realized they may be dual nationals.  It s not clear what the result would be,  he said. The Australian constitution bars politicians with dual citizenship from being elected to the national parliament. Both Joyce and Nash said they were not aware they held dual citizenship and have since renounced their New Zealand and British citizenships, respectively. Turnbull s minority government now relies on three independent lawmakers to remain in office. Joyce is expected to win a by-election for his seat on Dec. 2, which would restore the government s one-seat majority.  1 \n",
      "\n",
      "8 There is most definitely no love lost between GOP presidential nominee Donald Trump and House Speaker Paul Ryan. This is especially true since Trump was caught on tape with then- Access Hollywood host Billy Bush having an extremely lewd conversation about women and bragging about sexual assault. Ryan uninvited Trump from their joint campaign event the next day. Trump has since been publicly attacking Ryan on Twitter, and he continued that trend Sunday.Here are the tweets Trump sent out, while the spineless speaker did nothing to control his own nominee:The Democrats have a corrupt political machine pushing crooked Hillary Clinton. We have Paul Ryan, always fighting the Republican nominee!  Donald J. Trump (@realDonaldTrump) October 16, 2016Paul Ryan, a man who doesn't know how to win (including failed run four years ago), must start focusing on the budget, military, vets etc.  Donald J. Trump (@realDonaldTrump) October 16, 2016Even while attacking Democratic nominee Hillary Clinton, Trump couldn t leave Ryan out of it:Wow, interview released by Wikileakes shows \"quid pro quo\" in Crooked Hillary e-mail probe.Such a dishonest person   & Paul Ryan does zilch!  Donald J. Trump (@realDonaldTrump) October 16, 2016If Trump s previous public feuds and personal grievances are any indication, his obsession with Paul Ryan will not be ending anytime soon. In fact, it will likely go right up to election day, and Trump will blame his loss on Ryan, along with the media, the Democrats, Hillary Clinton, the women making accusations against him, and everyone but himself. Buckle your seat belt for this one Speaker Ryan. You re definitely in for a rough ride.Featured image via Sarah Rice/Getty Images 0 \n",
      "\n",
      "9 MOSCOW (Reuters) - No firm date has been set yet for a Congress of Syria s peoples proposed by Russia, the Kremlin said on Tuesday, stressing that such a forum should be as inclusive as possible.  There is no clarity yet (on the date), no one is setting a task for himself to adjust this event to the New Year holidays or after them,  Kremlin spokesman Dmitry Peskov told a conference call with reporters.  The main thing is to properly prepare and agree the lists (of the participants) - this is precisely the hardest part of it.   1 \n",
      "\n",
      "10 LONDON (Reuters) - Britain is looking at all ways it can put pressure on North Korea after Pyongyang conducted a nuclear test, Prime Minister Theresa May s spokeswoman said on Monday, adding that peaceful diplomatic solutions were preferable. North Korea conducted its sixth nuclear test on Sunday, prompting a warning of a  massive  military response from the United States if it or its allies were threatened.  As the prime minister made clear yesterday ... our focus is on working with partners to increase pressure on Korea and find a diplomatic resolution to the crisis,  May s spokeswoman told reporters.  She said we want to increase the pace of implementation of existing sanctions and look at other measures ... It s our view in the UK that ... peaceful, diplomatic means are best.   1 \n",
      "\n"
     ]
    }
   ],
   "source": [
    "for index, row in df.iterrows():\n",
    "    if index > 10:\n",
    "        break\n",
    "    print(index, row['text'], row['class'], '\\n')"
   ]
  },
  {
   "cell_type": "code",
   "execution_count": 14,
   "metadata": {},
   "outputs": [
    {
     "name": "stdout",
     "output_type": "stream",
     "text": [
      "Boos and chants of  Lock her up!  were heard in the crowd assembled at the West Front of the U.S. Capitol Friday morning when defeated Democratic Party presidential nominee Hillary Clinton was introduced at the inaugural ceremony for President-elect Donald Trump.#InaugurationDay Lock her up pic.twitter.com/APVtyyYote  Bill Simms (@Mittens1245) January 20, 2017The crowd on the mall booed when the jumbotron showed a close-up shot of Hillary Clinton at #Inauguration https://t.co/1dvY5lxdKo  gpbnews (@gpbnews) January 20, 2017Some in crowd chanting LOCK HER UP as Hillary Clinton arrives  Jamie Dupree (@jamiedupree) January 20, 2017Via: Gateway Pundit \n"
     ]
    }
   ],
   "source": [
    "example_text = df.iloc[df[df['text'] == 'Boos and chants of  Lock her up!  were heard in the crowd assembled at the West Front of the U.S. Capitol Friday morning when defeated Democratic Party presidential nominee Hillary Clinton was introduced at the inaugural ceremony for President-elect Donald Trump.#InaugurationDay Lock her up pic.twitter.com/APVtyyYote  Bill Simms (@Mittens1245) January 20, 2017The crowd on the mall booed when the jumbotron showed a close-up shot of Hillary Clinton at #Inauguration https://t.co/1dvY5lxdKo  gpbnews (@gpbnews) January 20, 2017Some in crowd chanting LOCK HER UP as Hillary Clinton arrives  Jamie Dupree (@jamiedupree) January 20, 2017Via: Gateway Pundit '].index, 0].values[0]\n",
    "print(example_text)"
   ]
  },
  {
   "attachments": {},
   "cell_type": "markdown",
   "metadata": {},
   "source": [
    "We need to take care about names (i.e. @jamiedupree should be treated as separate token), hash tags (#Inauguration is one token here). Also let's say that we want to keep web sites as one token (pic.twitter.com/APVtyyYote or https://t.co/1dvY5lxdKo)."
   ]
  },
  {
   "cell_type": "code",
   "execution_count": 15,
   "metadata": {},
   "outputs": [
    {
     "name": "stdout",
     "output_type": "stream",
     "text": [
      "Boos and chants of  Lock her up!\n",
      "were heard in the crowd assembled at the West Front of the U.S. Capitol Friday morning when defeated Democratic Party presidential nominee Hillary Clinton was introduced at the inaugural ceremony for President-elect Donald Trump.\n",
      "#InaugurationDay Lock her up pic.twitter.com/APVtyyYote  Bill Simms (@Mittens1245) January 20, 2017The crowd on the mall booed when the jumbotron showed a close-up shot of Hillary Clinton at #Inauguration https://t.co/1dvY5lxdKo  gpbnews (@gpbnews) January 20, 2017Some in crowd chanting LOCK HER UP as Hillary Clinton arrives  Jamie Dupree (@jamiedupree) January 20, 2017Via: Gateway Pundit\n"
     ]
    }
   ],
   "source": [
    "def split_into_sentences(text):\n",
    "    # so the website will not split into two separate sentences by comma:\n",
    "    sentence_endings = re.compile(r'(?<!\\w\\.\\w.)(?<![A-Z][a-z]\\.)(?<=\\.|\\?|!)(?=\\s|[#])')\n",
    "    sentences = sentence_endings.split(text)\n",
    "    sentences = [sentence.strip() for sentence in sentences if sentence.strip()]\n",
    "    return sentences\n",
    "\n",
    "sentences = split_into_sentences(example_text)\n",
    "for sentence in sentences:\n",
    "    print(sentence)"
   ]
  },
  {
   "cell_type": "code",
   "execution_count": 16,
   "metadata": {},
   "outputs": [
    {
     "name": "stdout",
     "output_type": "stream",
     "text": [
      "['Boos', 'and', 'chants', 'of', 'Lock', 'her', 'up', '!']\n",
      "['were', 'heard', 'in', 'the', 'crowd', 'assembled', 'at', 'the', 'West', 'Front', 'of', 'the', 'U', '.', 'S', '.', 'Capitol', 'Friday', 'morning', 'when', 'defeated', 'Democratic', 'Party', 'presidential', 'nominee', 'Hillary', 'Clinton', 'was', 'introduced', 'at', 'the', 'inaugural', 'ceremony', 'for', 'President', '-elect', 'Donald', 'Trump', '.']\n",
      "['#InaugurationDay', 'Lock', 'her', 'up', 'pic.twitter.com/APVtyyYote', 'Bill', 'Simms', '@Mittens1245', 'January', '20', ',', '2017The', 'crowd', 'on', 'the', 'mall', 'booed', 'when', 'the', 'jumbotron', 'showed', 'a', 'close', '-up', 'shot', 'of', 'Hillary', 'Clinton', 'at', '#Inauguration', 'https://t.co/1dvY5lxdKo', 'gpbnews', '@gpbnews', 'January', '20', ',', '2017Some', 'in', 'crowd', 'chanting', 'LOCK', 'HER', 'UP', 'as', 'Hillary', 'Clinton', 'arrives', 'Jamie', 'Dupree', '@jamiedupree', 'January', '20', ',', '2017Via', 'Gateway', 'Pundit']\n"
     ]
    }
   ],
   "source": [
    "def split_into_words(sentences):\n",
    "    # Regular expression to match URLs, hashtags, handles, words, and standalone punctuation\n",
    "    word_pattern = re.compile(r'pic.twitter.com/\\S+|https?://\\S+|www\\.\\S+|\\#\\S+|\\@\\w+|\\b\\w+\\'?\\w*|[\\w\\'-]+|[.,!?;]')\n",
    "    tokenized_sentences = []\n",
    "    for sentence in sentences:\n",
    "        words = word_pattern.findall(sentence)\n",
    "        tokenized_sentences.append(words)\n",
    "    return tokenized_sentences\n",
    "\n",
    "tokenized = split_into_words(sentences)\n",
    "for tokens in tokenized:\n",
    "    print(tokens)"
   ]
  },
  {
   "cell_type": "code",
   "execution_count": 19,
   "metadata": {},
   "outputs": [
    {
     "name": "stdout",
     "output_type": "stream",
     "text": [
      "['boo', 'and', 'chant', 'of', 'lock', 'her', 'up', '!']\n",
      "['were', 'heard', 'in', 'the', 'crowd', 'assembl', 'at', 'the', 'west', 'front', 'of', 'the', 'u', '.', 's', '.', 'capitol', 'friday', 'morn', 'when', 'defeat', 'democrat', 'parti', 'presidenti', 'nomine', 'hillari', 'clinton', 'was', 'introduc', 'at', 'the', 'inaugur', 'ceremoni', 'for', 'presid', '-elect', 'donald', 'trump', '.']\n",
      "['#inaugurationday', 'lock', 'her', 'up', 'pic.twitter.com/apvtyyyot', 'bill', 'simm', '@mittens1245', 'januari', '20', ',', '2017the', 'crowd', 'on', 'the', 'mall', 'boo', 'when', 'the', 'jumbotron', 'show', 'a', 'close', '-up', 'shot', 'of', 'hillari', 'clinton', 'at', '#inaugur', 'https://t.co/1dvy5lxdko', 'gpbnew', '@gpbnew', 'januari', '20', ',', '2017some', 'in', 'crowd', 'chant', 'lock', 'her', 'up', 'as', 'hillari', 'clinton', 'arriv', 'jami', 'dupre', '@jamiedupre', 'januari', '20', ',', '2017via', 'gateway', 'pundit']\n"
     ]
    }
   ],
   "source": [
    "def stem_words(tokenized_sentences, language=\"english\"):\n",
    "    stemmer = SnowballStemmer(language)\n",
    "    stemmed_sentences = []\n",
    "    for tokens in tokenized_sentences:\n",
    "        stemmed_tokens = [stemmer.stem(token) for token in tokens]\n",
    "        stemmed_sentences.append(stemmed_tokens)\n",
    "    return stemmed_sentences\n",
    "\n",
    "stemmed = stem_words(tokenized)\n",
    "for s in stemmed:\n",
    "    print(s)"
   ]
  },
  {
   "cell_type": "code",
   "execution_count": 21,
   "metadata": {},
   "outputs": [
    {
     "name": "stdout",
     "output_type": "stream",
     "text": [
      "['Boos', 'and', 'chant', 'of', 'Lock', 'her', 'up', '!']\n",
      "['were', 'heard', 'in', 'the', 'crowd', 'assembled', 'at', 'the', 'West', 'Front', 'of', 'the', 'U', '.', 'S', '.', 'Capitol', 'Friday', 'morning', 'when', 'defeated', 'Democratic', 'Party', 'presidential', 'nominee', 'Hillary', 'Clinton', 'wa', 'introduced', 'at', 'the', 'inaugural', 'ceremony', 'for', 'President', '-elect', 'Donald', 'Trump', '.']\n",
      "['#InaugurationDay', 'Lock', 'her', 'up', 'pic.twitter.com/APVtyyYote', 'Bill', 'Simms', '@Mittens1245', 'January', '20', ',', '2017The', 'crowd', 'on', 'the', 'mall', 'booed', 'when', 'the', 'jumbotron', 'showed', 'a', 'close', '-up', 'shot', 'of', 'Hillary', 'Clinton', 'at', '#Inauguration', 'https://t.co/1dvY5lxdKo', 'gpbnews', '@gpbnews', 'January', '20', ',', '2017Some', 'in', 'crowd', 'chanting', 'LOCK', 'HER', 'UP', 'a', 'Hillary', 'Clinton', 'arrives', 'Jamie', 'Dupree', '@jamiedupree', 'January', '20', ',', '2017Via', 'Gateway', 'Pundit']\n"
     ]
    }
   ],
   "source": [
    "def lemmatize_tokens(tokenized_sentences):\n",
    "    lemmatizer = WordNetLemmatizer()\n",
    "    lemmatized_sentences = []\n",
    "    for tokens in tokenized_sentences:\n",
    "        lemmatized_tokens = [lemmatizer.lemmatize(token) for token in tokens]\n",
    "        lemmatized_sentences.append(lemmatized_tokens)\n",
    "    return lemmatized_sentences\n",
    "\n",
    "lemmatized = lemmatize_tokens(tokenized)\n",
    "for l in lemmatized:\n",
    "    print(l)"
   ]
  },
  {
   "cell_type": "code",
   "execution_count": 22,
   "metadata": {},
   "outputs": [],
   "source": [
    "def process_text(text):\n",
    "    sentences = split_into_sentences(text)\n",
    "    tokenized = split_into_words(sentences)\n",
    "    stemmed = stem_words(tokenized)\n",
    "    lemmatized = lemmatize_tokens(tokenized)\n",
    "    dfs = []\n",
    "    for i in range(len(tokenized)):\n",
    "        data = []\n",
    "        for j in range(len(tokenized[i])):\n",
    "            row = {\n",
    "                'Token': tokenized[i][j],\n",
    "                'Stem': stemmed[i][j],\n",
    "                'Lemma': lemmatized[i][j]\n",
    "            }\n",
    "            data.append(row)\n",
    "        df = pd.DataFrame(data)\n",
    "        dfs.append(df)\n",
    "    return dfs"
   ]
  },
  {
   "cell_type": "code",
   "execution_count": 23,
   "metadata": {},
   "outputs": [
    {
     "data": {
      "text/html": [
       "<div>\n",
       "<style scoped>\n",
       "    .dataframe tbody tr th:only-of-type {\n",
       "        vertical-align: middle;\n",
       "    }\n",
       "\n",
       "    .dataframe tbody tr th {\n",
       "        vertical-align: top;\n",
       "    }\n",
       "\n",
       "    .dataframe thead th {\n",
       "        text-align: right;\n",
       "    }\n",
       "</style>\n",
       "<table border=\"1\" class=\"dataframe\">\n",
       "  <thead>\n",
       "    <tr style=\"text-align: right;\">\n",
       "      <th></th>\n",
       "      <th>text</th>\n",
       "      <th>class</th>\n",
       "      <th>part</th>\n",
       "    </tr>\n",
       "  </thead>\n",
       "  <tbody>\n",
       "    <tr>\n",
       "      <th>0</th>\n",
       "      <td>WASHINGTON (Reuters) - President Donald Trump ...</td>\n",
       "      <td>1</td>\n",
       "      <td>test</td>\n",
       "    </tr>\n",
       "    <tr>\n",
       "      <th>1</th>\n",
       "      <td>BEIJING (Reuters) - Beijing police investigati...</td>\n",
       "      <td>1</td>\n",
       "      <td>train</td>\n",
       "    </tr>\n",
       "    <tr>\n",
       "      <th>2</th>\n",
       "      <td>HARRISBURG, Pa. (Reuters) - Green Party candid...</td>\n",
       "      <td>1</td>\n",
       "      <td>val</td>\n",
       "    </tr>\n",
       "    <tr>\n",
       "      <th>3</th>\n",
       "      <td>TOULON, France (Reuters) - France s defense mi...</td>\n",
       "      <td>1</td>\n",
       "      <td>train</td>\n",
       "    </tr>\n",
       "    <tr>\n",
       "      <th>4</th>\n",
       "      <td>WASHINGTON (Reuters) - New York State Attorney...</td>\n",
       "      <td>1</td>\n",
       "      <td>train</td>\n",
       "    </tr>\n",
       "  </tbody>\n",
       "</table>\n",
       "</div>"
      ],
      "text/plain": [
       "                                                text  class   part\n",
       "0  WASHINGTON (Reuters) - President Donald Trump ...      1   test\n",
       "1  BEIJING (Reuters) - Beijing police investigati...      1  train\n",
       "2  HARRISBURG, Pa. (Reuters) - Green Party candid...      1    val\n",
       "3  TOULON, France (Reuters) - France s defense mi...      1  train\n",
       "4  WASHINGTON (Reuters) - New York State Attorney...      1  train"
      ]
     },
     "execution_count": 23,
     "metadata": {},
     "output_type": "execute_result"
    }
   ],
   "source": [
    "df.head()"
   ]
  },
  {
   "cell_type": "code",
   "execution_count": 24,
   "metadata": {},
   "outputs": [],
   "source": [
    "def write_dataset(df, part):\n",
    "    for index, row in tqdm(df.iterrows(), total=len(df)):\n",
    "        text = row['text']\n",
    "        class_ = 'true' if row['class'] else 'fake'\n",
    "        dir = f'../assets/annotated-corpus/{part}/{class_}'\n",
    "        Path(dir).mkdir(parents=True, exist_ok=True)\n",
    "        path = dir / Path(str(index) + '.tsv')\n",
    "\n",
    "        sentence_dfs = process_text(text)\n",
    "        with open(path, 'w') as f:\n",
    "            for sentence_df in sentence_dfs:\n",
    "                sentence_df.to_csv(f, index=None, sep='\\t', header=None)\n",
    "                f.write('\\n')"
   ]
  },
  {
   "cell_type": "code",
   "execution_count": 27,
   "metadata": {},
   "outputs": [
    {
     "name": "stderr",
     "output_type": "stream",
     "text": [
      "100%|██████████| 30918/30918 [13:09<00:00, 39.19it/s]\n",
      "100%|██████████| 3863/3863 [01:23<00:00, 46.40it/s]\n",
      "100%|██████████| 3866/3866 [01:30<00:00, 42.91it/s]"
     ]
    },
    {
     "name": "stdout",
     "output_type": "stream",
     "text": [
      "CPU times: user 14min 22s, sys: 40.4 s, total: 15min 2s\n",
      "Wall time: 16min 2s\n"
     ]
    },
    {
     "name": "stderr",
     "output_type": "stream",
     "text": [
      "\n"
     ]
    }
   ],
   "source": [
    "%%time\n",
    "for part in ['train', 'val', 'test']:\n",
    "    write_dataset(df[df['part'] == part], part)"
   ]
  },
  {
   "cell_type": "code",
   "execution_count": null,
   "metadata": {},
   "outputs": [],
   "source": []
  }
 ],
 "metadata": {
  "kernelspec": {
   "display_name": "py310",
   "language": "python",
   "name": "python3"
  },
  "language_info": {
   "codemirror_mode": {
    "name": "ipython",
    "version": 3
   },
   "file_extension": ".py",
   "mimetype": "text/x-python",
   "name": "python",
   "nbconvert_exporter": "python",
   "pygments_lexer": "ipython3",
   "version": "3.10.13"
  },
  "orig_nbformat": 4
 },
 "nbformat": 4,
 "nbformat_minor": 2
}
