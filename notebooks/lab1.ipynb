{
 "cells": [
  {
   "cell_type": "code",
   "execution_count": 1,
   "metadata": {},
   "outputs": [
    {
     "name": "stderr",
     "output_type": "stream",
     "text": [
      "[nltk_data] Downloading package wordnet to /Users/aleksei/nltk_data...\n",
      "[nltk_data]   Package wordnet is already up-to-date!\n"
     ]
    },
    {
     "data": {
      "text/plain": [
       "True"
      ]
     },
     "execution_count": 1,
     "metadata": {},
     "output_type": "execute_result"
    }
   ],
   "source": [
    "import pandas as pd\n",
    "import re\n",
    "from pathlib import Path\n",
    "\n",
    "from tqdm import tqdm\n",
    "from nltk.stem import SnowballStemmer\n",
    "from nltk.stem import WordNetLemmatizer\n",
    "import nltk\n",
    "nltk.download('wordnet')"
   ]
  },
  {
   "attachments": {},
   "cell_type": "markdown",
   "metadata": {},
   "source": [
    "The dataset reading is taken from https://www.kaggle.com/code/therealsampat/fake-news-detection."
   ]
  },
  {
   "cell_type": "code",
   "execution_count": 2,
   "metadata": {},
   "outputs": [],
   "source": [
    "df_fake = pd.read_csv('../data/Fake.csv')\n",
    "df_true = pd.read_csv('../data/True.csv')\n",
    "\n",
    "df_fake['class'] = 0\n",
    "df_true['class'] = 1"
   ]
  },
  {
   "cell_type": "code",
   "execution_count": 3,
   "metadata": {},
   "outputs": [],
   "source": [
    "df_fake = df_fake.drop_duplicates('text')\n",
    "df_true = df_true.drop_duplicates('text')"
   ]
  },
  {
   "cell_type": "code",
   "execution_count": 4,
   "metadata": {},
   "outputs": [
    {
     "data": {
      "text/plain": [
       "((17455, 5), (21192, 5))"
      ]
     },
     "execution_count": 4,
     "metadata": {},
     "output_type": "execute_result"
    }
   ],
   "source": [
    "df_fake.shape, df_true.shape"
   ]
  },
  {
   "cell_type": "code",
   "execution_count": 5,
   "metadata": {},
   "outputs": [
    {
     "data": {
      "text/html": [
       "<div>\n",
       "<style scoped>\n",
       "    .dataframe tbody tr th:only-of-type {\n",
       "        vertical-align: middle;\n",
       "    }\n",
       "\n",
       "    .dataframe tbody tr th {\n",
       "        vertical-align: top;\n",
       "    }\n",
       "\n",
       "    .dataframe thead th {\n",
       "        text-align: right;\n",
       "    }\n",
       "</style>\n",
       "<table border=\"1\" class=\"dataframe\">\n",
       "  <thead>\n",
       "    <tr style=\"text-align: right;\">\n",
       "      <th></th>\n",
       "      <th>title</th>\n",
       "      <th>text</th>\n",
       "      <th>subject</th>\n",
       "      <th>date</th>\n",
       "      <th>class</th>\n",
       "    </tr>\n",
       "  </thead>\n",
       "  <tbody>\n",
       "    <tr>\n",
       "      <th>15529</th>\n",
       "      <td>Bodies of Argentine men killed in New York att...</td>\n",
       "      <td>BUENOS AIRES (Reuters) - The bodies of five Ar...</td>\n",
       "      <td>worldnews</td>\n",
       "      <td>November 6, 2017</td>\n",
       "      <td>1</td>\n",
       "    </tr>\n",
       "    <tr>\n",
       "      <th>6117</th>\n",
       "      <td>White House defends statement on audience for ...</td>\n",
       "      <td>WASHINGTON (Reuters) - White House spokesman S...</td>\n",
       "      <td>politicsNews</td>\n",
       "      <td>January 23, 2017</td>\n",
       "      <td>1</td>\n",
       "    </tr>\n",
       "    <tr>\n",
       "      <th>11248</th>\n",
       "      <td>New York's Cuomo proposes $145.3 billion budge...</td>\n",
       "      <td>ALBANY, N.Y. (Reuters) - New York Governor And...</td>\n",
       "      <td>politicsNews</td>\n",
       "      <td>January 13, 2016</td>\n",
       "      <td>1</td>\n",
       "    </tr>\n",
       "    <tr>\n",
       "      <th>14400</th>\n",
       "      <td>Macron says not in French interests for German...</td>\n",
       "      <td>PARIS (Reuters) - President Emmanuel Macron sa...</td>\n",
       "      <td>worldnews</td>\n",
       "      <td>November 20, 2017</td>\n",
       "      <td>1</td>\n",
       "    </tr>\n",
       "    <tr>\n",
       "      <th>11634</th>\n",
       "      <td>Myanmar says still working with U.N., wants a ...</td>\n",
       "      <td>YANGON (Reuters) - Myanmar wants to continue w...</td>\n",
       "      <td>worldnews</td>\n",
       "      <td>December 21, 2017</td>\n",
       "      <td>1</td>\n",
       "    </tr>\n",
       "    <tr>\n",
       "      <th>3931</th>\n",
       "      <td>WATCH: Bill Maher Hilariously Thanks Trump Fo...</td>\n",
       "      <td>Bill Maher surprisingly thanked Donald Trump o...</td>\n",
       "      <td>News</td>\n",
       "      <td>November 5, 2016</td>\n",
       "      <td>0</td>\n",
       "    </tr>\n",
       "    <tr>\n",
       "      <th>10677</th>\n",
       "      <td>Spy agencies say Clinton emails closely matche...</td>\n",
       "      <td>WASHINGTON (Reuters) - U.S. spy agencies have ...</td>\n",
       "      <td>politicsNews</td>\n",
       "      <td>February 24, 2016</td>\n",
       "      <td>1</td>\n",
       "    </tr>\n",
       "    <tr>\n",
       "      <th>10452</th>\n",
       "      <td>Missouri Democrats filibuster proposed gay dis...</td>\n",
       "      <td>(Reuters) - Democratic senators in Missouri we...</td>\n",
       "      <td>politicsNews</td>\n",
       "      <td>March 8, 2016</td>\n",
       "      <td>1</td>\n",
       "    </tr>\n",
       "    <tr>\n",
       "      <th>2944</th>\n",
       "      <td>WATCH: Trump Press Sec. Says Hispanics Aren’t...</td>\n",
       "      <td>For the first time since 1988, Latinos will be...</td>\n",
       "      <td>News</td>\n",
       "      <td>January 19, 2017</td>\n",
       "      <td>0</td>\n",
       "    </tr>\n",
       "    <tr>\n",
       "      <th>15529</th>\n",
       "      <td>OBAMA’S REVEALING LETTER TO BROTHER TELLS WHY ...</td>\n",
       "      <td>Well, it s not like we didn t know this but it...</td>\n",
       "      <td>politics</td>\n",
       "      <td>Jun 28, 2015</td>\n",
       "      <td>0</td>\n",
       "    </tr>\n",
       "  </tbody>\n",
       "</table>\n",
       "</div>"
      ],
      "text/plain": [
       "                                                   title  \\\n",
       "15529  Bodies of Argentine men killed in New York att...   \n",
       "6117   White House defends statement on audience for ...   \n",
       "11248  New York's Cuomo proposes $145.3 billion budge...   \n",
       "14400  Macron says not in French interests for German...   \n",
       "11634  Myanmar says still working with U.N., wants a ...   \n",
       "3931    WATCH: Bill Maher Hilariously Thanks Trump Fo...   \n",
       "10677  Spy agencies say Clinton emails closely matche...   \n",
       "10452  Missouri Democrats filibuster proposed gay dis...   \n",
       "2944    WATCH: Trump Press Sec. Says Hispanics Aren’t...   \n",
       "15529  OBAMA’S REVEALING LETTER TO BROTHER TELLS WHY ...   \n",
       "\n",
       "                                                    text       subject  \\\n",
       "15529  BUENOS AIRES (Reuters) - The bodies of five Ar...     worldnews   \n",
       "6117   WASHINGTON (Reuters) - White House spokesman S...  politicsNews   \n",
       "11248  ALBANY, N.Y. (Reuters) - New York Governor And...  politicsNews   \n",
       "14400  PARIS (Reuters) - President Emmanuel Macron sa...     worldnews   \n",
       "11634  YANGON (Reuters) - Myanmar wants to continue w...     worldnews   \n",
       "3931   Bill Maher surprisingly thanked Donald Trump o...          News   \n",
       "10677  WASHINGTON (Reuters) - U.S. spy agencies have ...  politicsNews   \n",
       "10452  (Reuters) - Democratic senators in Missouri we...  politicsNews   \n",
       "2944   For the first time since 1988, Latinos will be...          News   \n",
       "15529  Well, it s not like we didn t know this but it...      politics   \n",
       "\n",
       "                     date  class  \n",
       "15529   November 6, 2017       1  \n",
       "6117    January 23, 2017       1  \n",
       "11248   January 13, 2016       1  \n",
       "14400  November 20, 2017       1  \n",
       "11634  December 21, 2017       1  \n",
       "3931     November 5, 2016      0  \n",
       "10677  February 24, 2016       1  \n",
       "10452      March 8, 2016       1  \n",
       "2944     January 19, 2017      0  \n",
       "15529        Jun 28, 2015      0  "
      ]
     },
     "execution_count": 5,
     "metadata": {},
     "output_type": "execute_result"
    }
   ],
   "source": [
    "df_merge = pd.concat([df_fake, df_true], axis=0)\n",
    "df_merge.sample(10)"
   ]
  },
  {
   "cell_type": "code",
   "execution_count": 6,
   "metadata": {},
   "outputs": [
    {
     "data": {
      "text/plain": [
       "text     0\n",
       "class    0\n",
       "dtype: int64"
      ]
     },
     "execution_count": 6,
     "metadata": {},
     "output_type": "execute_result"
    }
   ],
   "source": [
    "df = df_merge.drop(['title', 'subject', 'date'], axis=1)\n",
    "df.isnull().sum()"
   ]
  },
  {
   "cell_type": "code",
   "execution_count": 7,
   "metadata": {},
   "outputs": [],
   "source": [
    "df = df.sample(frac=1)\n",
    "df.reset_index(inplace=True)\n",
    "df.drop(['index'], axis=1, inplace=True)"
   ]
  },
  {
   "cell_type": "code",
   "execution_count": 8,
   "metadata": {},
   "outputs": [],
   "source": [
    "df['part'] = 'train'\n",
    "n = len(df)\n",
    "train_n = int(n * 0.8)\n",
    "val_n = int(n * 0.1)\n",
    "test_n = n - train_n - val_n\n",
    "df.loc[(train_n < df.index) & (df.index < train_n + val_n), 'part'] = 'val'\n",
    "df.loc[train_n + val_n <= df.index, 'part'] = 'test'"
   ]
  },
  {
   "cell_type": "code",
   "execution_count": 9,
   "metadata": {},
   "outputs": [],
   "source": [
    "df = df.sample(frac=1)\n",
    "df.reset_index(inplace=True)\n",
    "df.drop(['index'], axis=1, inplace=True)"
   ]
  },
  {
   "cell_type": "code",
   "execution_count": 10,
   "metadata": {},
   "outputs": [
    {
     "data": {
      "text/html": [
       "<div>\n",
       "<style scoped>\n",
       "    .dataframe tbody tr th:only-of-type {\n",
       "        vertical-align: middle;\n",
       "    }\n",
       "\n",
       "    .dataframe tbody tr th {\n",
       "        vertical-align: top;\n",
       "    }\n",
       "\n",
       "    .dataframe thead th {\n",
       "        text-align: right;\n",
       "    }\n",
       "</style>\n",
       "<table border=\"1\" class=\"dataframe\">\n",
       "  <thead>\n",
       "    <tr style=\"text-align: right;\">\n",
       "      <th></th>\n",
       "      <th>text</th>\n",
       "      <th>class</th>\n",
       "      <th>part</th>\n",
       "    </tr>\n",
       "  </thead>\n",
       "  <tbody>\n",
       "    <tr>\n",
       "      <th>0</th>\n",
       "      <td>WASHINGTON (Reuters) - Backers of a U.S.-Russi...</td>\n",
       "      <td>1</td>\n",
       "      <td>train</td>\n",
       "    </tr>\n",
       "    <tr>\n",
       "      <th>1</th>\n",
       "      <td>DHAKA (Reuters) - Bangladesh and Myanmar have ...</td>\n",
       "      <td>1</td>\n",
       "      <td>train</td>\n",
       "    </tr>\n",
       "    <tr>\n",
       "      <th>2</th>\n",
       "      <td>Fox News went completely predictable in openin...</td>\n",
       "      <td>0</td>\n",
       "      <td>train</td>\n",
       "    </tr>\n",
       "    <tr>\n",
       "      <th>3</th>\n",
       "      <td>Ben Carson, the head of the Department of Hous...</td>\n",
       "      <td>0</td>\n",
       "      <td>train</td>\n",
       "    </tr>\n",
       "    <tr>\n",
       "      <th>4</th>\n",
       "      <td>San Francisco 49ers quarterback Colin Kaeperni...</td>\n",
       "      <td>0</td>\n",
       "      <td>val</td>\n",
       "    </tr>\n",
       "    <tr>\n",
       "      <th>5</th>\n",
       "      <td>(Reuters) - Kentucky state Representative Dan ...</td>\n",
       "      <td>1</td>\n",
       "      <td>train</td>\n",
       "    </tr>\n",
       "    <tr>\n",
       "      <th>6</th>\n",
       "      <td>Why would this actor go to a place where viole...</td>\n",
       "      <td>0</td>\n",
       "      <td>train</td>\n",
       "    </tr>\n",
       "    <tr>\n",
       "      <th>7</th>\n",
       "      <td>Conservative filmmaker Dennis Michael Lynch ha...</td>\n",
       "      <td>0</td>\n",
       "      <td>train</td>\n",
       "    </tr>\n",
       "    <tr>\n",
       "      <th>8</th>\n",
       "      <td>Wait until you read this woman s biography and...</td>\n",
       "      <td>0</td>\n",
       "      <td>val</td>\n",
       "    </tr>\n",
       "    <tr>\n",
       "      <th>9</th>\n",
       "      <td>Meanwhile, back at CNN Russia Russia Russia!Th...</td>\n",
       "      <td>0</td>\n",
       "      <td>train</td>\n",
       "    </tr>\n",
       "  </tbody>\n",
       "</table>\n",
       "</div>"
      ],
      "text/plain": [
       "                                                text  class   part\n",
       "0  WASHINGTON (Reuters) - Backers of a U.S.-Russi...      1  train\n",
       "1  DHAKA (Reuters) - Bangladesh and Myanmar have ...      1  train\n",
       "2  Fox News went completely predictable in openin...      0  train\n",
       "3  Ben Carson, the head of the Department of Hous...      0  train\n",
       "4  San Francisco 49ers quarterback Colin Kaeperni...      0    val\n",
       "5  (Reuters) - Kentucky state Representative Dan ...      1  train\n",
       "6  Why would this actor go to a place where viole...      0  train\n",
       "7  Conservative filmmaker Dennis Michael Lynch ha...      0  train\n",
       "8  Wait until you read this woman s biography and...      0    val\n",
       "9  Meanwhile, back at CNN Russia Russia Russia!Th...      0  train"
      ]
     },
     "execution_count": 10,
     "metadata": {},
     "output_type": "execute_result"
    }
   ],
   "source": [
    "df.head(10)"
   ]
  },
  {
   "cell_type": "code",
   "execution_count": 11,
   "metadata": {},
   "outputs": [
    {
     "data": {
      "text/plain": [
       "(30918, 3863, 3866)"
      ]
     },
     "execution_count": 11,
     "metadata": {},
     "output_type": "execute_result"
    }
   ],
   "source": [
    "len(df[df['part'] == 'train']), len(df[df['part'] == 'val']), len(df[df['part'] == 'test'])"
   ]
  },
  {
   "cell_type": "code",
   "execution_count": 12,
   "metadata": {},
   "outputs": [],
   "source": [
    "df.head(10).to_csv('../data/sample.csv', index=None)"
   ]
  },
  {
   "cell_type": "code",
   "execution_count": 13,
   "metadata": {},
   "outputs": [
    {
     "name": "stdout",
     "output_type": "stream",
     "text": [
      "0 WASHINGTON (Reuters) - Backers of a U.S.-Russian plan to build nuclear reactors across the Middle East bragged after the U.S. election they had backing from Donald Trump s national security adviser Michael Flynn for a project that required lifting sanctions on Russia, documents reviewed by Reuters show. The documents, which have not previously been made public, reveal new aspects of the plan, including the proposed involvement of a Russian company currently under U.S. sanctions to manufacture nuclear equipment. That company, major engineering and construction firm OMZ OAO, declined to comment. The documents do not show whether Flynn, a retired Army lieutenant general, took concrete steps to push the proposal with Trump and his aides. But they do show that Washington-based nuclear power consultancy ACU Strategic Partners believed that both Flynn, who had worked as an adviser to the firm as late as mid-2016, and Trump were firmly in its corner.  Donald Trump s election as president is a game changer because Trump s highest foreign policy priority is to stabilize U.S. relations with Russia which are now at a historical low-point,  ACU s managing director, Alex Copson, wrote in a Nov. 16, 2016 email to potential business partners, eight days after the election. White House officials did not immediately respond to an email seeking comment. ACU declined comment and also declined to make Copson available for an interview. Previously they told a congressional committee that they had not had any dealings with Flynn since May 2016, before Trump became the Republican Party s presidential candidate.  Flynn s lawyer, Robert Kelner, did not respond to a request for comment. Flynn pleaded guilty on Friday to lying to the FBI about a discussion with the former Russian ambassador to Washington, Sergey Kislyak, in late December 2016 regarding sanctions.   The documents also show that ACU proposed ending Ukraine s opposition to lifting sanctions on Russia by giving a Ukrainian company a $45 billion contract to provide turbine generators for reactors to be built in Saudi Arabia and other Mideast nations.   The contract to state-owned Turboatom, and loans to Ukraine from Gulf Arab states, would  require Ukraine to support lifting US and EU sanctions on Russia,  Copson wrote in the Nov. 16 email. A Turboatom spokeswoman said she did not have an immediate comment on the matter.   The email was titled  TRUMP/PUTIN ME Marshall plan CONCEPT.  ME stands for Middle East. The title, evoking the post-World War Two plan to rebuild Western European economies, reflected the hopes of the plan s backers that Trump and Russian President Vladimir Putin could cooperate on a project that would boost Middle East economies.   The email can be seen here: tmsnrt.rs/2ALdoCY The ACU documents reviewed by Reuters include emails, business presentations and financial estimates and date from late autumn 2016. As part of their investigation into the Trump election campaign s ties to Russia, Special Counsel Robert Mueller and Democrats on the House of Representatives  Oversight Committee are probing whether Flynn promoted the Middle East nuclear power project as national security adviser in Trump s White House. Flynn resigned after just 24 days as national security adviser after it became known he had lied to Vice President Mike Pence by telling him he had not discussed U.S. sanctions on Russia with Kislyak in late December.  In response to questions about the emails and documents, ACU referred Reuters to letters written in June and September by ACU scientist Thomas Cochran to the House Oversight Committee. In those letters, Cochran had laid out the project s strategy, describing a  ready-to-go  consortium that included  French, Russian, Israeli and Ukrainian interests, without naming specific companies.  Representative Elijah Cummings, the committee s top Democrat, said the panel s Republican chairman, Trey Gowdy, has for months rejected Democrats  requests to ask the White House for documents pertaining to the ACU proposal. Gowdy  has blocked all efforts to allow committee members to vote on issuing subpoenas,  Cummings told Reuters. Gowdy did not respond to requests for comment. The ACU s nuclear reactor plan aimed to provide Washington s Middle East allies with nuclear power in a way that didn t risk nuclear weapons proliferation and also helped counter Iranian influence, improve dismal U.S.-Russian relations, and revive the moribund U.S. nuclear industry, according to the documents seen by Reuters.    The Wall Street Journal and the Washington Post reported this week that Flynn pushed a version of the nuclear project within the White House by instructing his staff to rework a memo written by a former business associate into policy for Trump to sign.    Two U.S. officials familiar with the issue told Reuters the policy document Flynn prepared for Trump s approval proposed  working with Russia on a nuclear reactor project but did not specifically mention ACU. The officials, who spoke on condition of anonymity, said they did not know if Trump had read the memo or acted upon it.   On Nov. 18, 2016, 10 days after Trump won the presidential election, ACU s Copson received an email from nuclear non-proliferation expert Reuben Sorensen saying that he had updated Flynn on the nuclear project s status. Sorensen s role in the project was not clear from the emails.    Flynn is getting closer to (being named) National Security Advisor. Expect an announcement soon. This is a big win for the ACU project,  Sorensen wrote.   Spoke with him via backchannels earlier this week. He has always believed in the vision of the ACU effort ... We need to let him get settled into the new position, but update him shortly thereafter,  Sorensen added. The email can be seen here: tmsnrt.rs/2zTqxcZ Reuters could not independently confirm a briefing took place. Sorensen did not reply to an email seeking comment.   On Nov. 30, 2016, Copson briefed U.S. Representative Ed Royce, Republican chairman of the House Foreign Affairs Committee, on the nuclear project, an email shows.   Copson was joined by Jim Hamel, a senior official from Curtiss-Wright Corp., which has a nuclear division based in Royce s California district and was eager for a role in the multi-billion dollar project.   In a follow-up email on Dec. 5 to a Royce aide, Hamel wrote,  We hope that the Chairman will follow-up on Alex s suggestion to reach out to General Flynn  to discuss the project.   Royce s spokesman, Cory Fritz, confirmed the briefing to Reuters.  No action was ever taken by the chairman or the committee,  he said in an email.   Hamel and Curtiss-Wright declined to comment.   Flynn was an adviser to ACU from April 2015 to June 2016, according to amended financial disclosure forms he filed in August 2017 to the Office of Government Ethics.     Democrats on the House Oversight Committee say that when Flynn applied last year to renew his government security clearance, he failed to disclose a June 2015 trip he made to Egypt and Israel to promote the reactor project. Flynn has not commented on the trips.  1 \n",
      "\n",
      "1 DHAKA (Reuters) - Bangladesh and Myanmar have agreed to take help from the U.N. refugee agency to safely repatriate hundreds of thousands of Rohingya Muslims who had fled violence in Myanmar, Bangladesh said on Saturday. More than 600,000 Rohingya sought sanctuary in Bangladesh after the military in mostly Buddhist Myanmar launched a brutal counter-insurgency operation in their villages across the northern parts of Rakhine State following attacks by Rohingya militants on an army base and police posts on Aug. 25. Faced with a burgeoning humanitarian crisis, the two governments signed a pact on Thursday agreeing that the return of the Rohingya to Myanmar should start within two months. Uncertainty over whether the United Nations High Commissioner for Refugees (UNHCR) would have a role had prompted rights groups to insist that outside monitors were needed to safeguard the Rohingya s return. Addressing a news conference in Dhaka, Bangladesh Foreign Minister Abul Hassan Mahmood Ali gave assurances that the UNHCR would play some part.  Both countries agreed to take help from the UNHCR in the Rohingya repatriation process,  Ali said.  Myanmar will take its assistance as per their requirement.  The diplomatic breakthrough came just ahead of a visit by Pope Francis to Myanmar and Bangladesh from Nov. 26 to Dec. 2 that is aimed at promoting  reconciliation, forgiveness and peace . While the violence in Rakhine has mostly ceased, Rohingya have continued to stream out of Myanmar, saying they have largely lost access to sources of livelihood such as their farms, fisheries and markets.  Thousands of Rohingya, most of them old people, women and children, remain stranded on beaches near the border, waiting for a boat to take them to Bangladesh. Ali said a joint working group, to be formed within three weeks, will fix the final terms to start the repatriation process.  After leaving the refugee camps in Bangladesh, Rohingya who opt to be voluntarily repatriated will be moved to camps in Myanmar, the minister said.  Most houses were burnt down. Where they will live after going back? So, it is not possible to physically return to their homes,  Ali said. Myanmar officials have said returnees will be moved to camps only temporarily while so-called  model villages  are constructed near their former homes. Win Myat Aye, the minister for social welfare, relief and resettlement who heads a Myanmar government panel on rehabilitation in Rakhine, said India and China had offered to provide  modular houses  for returnees. The U.N. and the United States have described the Myanmar military s actions as  ethnic cleansing , and rights groups have accused the security forces of committing atrocities, including mass rape, arson and killings. The United States also warned it could impose sanctions on individuals responsible for alleged abuses. Led by Nobel peace prize winner Aung San Suu Kyi, Myanmar is in the early stages of a transition to democracy after decades of military rule. But civilian government is less than two years old, and still shares power with the generals, who retain autonomy over matters of defense, security and borders. The commander of Myanmar s armed forces, Senior General Min Aung Hlaing, has denied that soldiers committed any atrocities. On Friday he met China s President Xi Jinping in Beijing having been told earlier in the week by a top Chinese general that China wanted stronger ties with Myanmar s military. Under the deal struck with Bangladesh, Myanmar agreed to take measures to see that the returnees will not be settled in temporary places for a long time.  Myanmar plans to issue them an identity card on their return, although most Rohingya have so far rejected a scheme to give them  national verification cards . While the agreement says Bangladesh would seek the U.N. refugee agency s assistance on the process, Myanmar - which has largely blocked aid agencies from working in northern Rakhine since August - only agreed  that the services of the UNHCR could be drawn upon as needed and at the appropriate time . Win Myat Aye told Reuters on Saturday that Myanmar would discuss  technical assistance  with the UNHCR, but had not reached a formal agreement with the agency. There were already hundreds of thousands of Rohingya refugees in Bangladesh before the latest exodus, and the Bangladesh minister said they could also be considered for the repatriation, under the terms of the agreement. The agreement, however, says they will be  considered separately on the conclusion of the present agreement.  Some independent estimates suggest there are still a few hundred thousand Rohingya remaining in Rakhine.  1 \n",
      "\n",
      "2 Fox News went completely predictable in opening tonight s Republican debate. Megyn Kelly addressed  the elephant not in the room,  asking Ted Cruz to comment on Donald Trump s absence. After some sleazy pandering to the people of Iowa, Cruz slung some mud at Trump with the kind of swagger and confidence of a boxer talking about his opponent at a press conference in his absence.Cruz got a nice chuckle from the crowd, and while his comments were witty, they were delivered by that screeching, whiny little voice through those annoying pursed lips. His egotistical little moment would probably have been smacked down with  you re not going to make America great  or something equally as clever juvenile had Trump been there.It was a fitting opening for the circus that was sure to come as another 2 hours of hate and fear was sold to the Republican base. Bravo, Senator. You managed to be responsible for the only 30 seconds of the debacle worth watching.Watch Ted Cruz take down Donald Trump below:Feature image via file photo 0 \n",
      "\n",
      "3 Ben Carson, the head of the Department of Housing and Urban Development, has come under fire for comments he made during a radio interview on Tuesday when he called poverty a  state of mind  live on air. A statement like that would be quite low coming from anyone, but it takes on a whole new meaning when it comes from the lips of the man who oversees the department that handles housing for millions of low-income Americans.The statement was made when Carson was being interviewed by conservative media personality and personal friend, Armstrong Williams. Carson, a retired neurosurgeon, has dealt directly with poverty himself and credits his mother for getting his family out of that situation, but that didn t stop him from implying that some people are just poor because they have a negative outlook on life.According to a transcript of the interview with Williams that was released on Wednesday, Carson didn t shy away from making his feelings on the subject known.  I think poverty to a large extent is also a state of mind,  he said.  You take somebody that has the right mindset, you can take everything from them and put them on the street, and I guarantee in a little while they ll be right back up there. But he didn t stop there, adding that lending a helping hand to those in need may not even improve their lives if they don t have the right mental attitude, thus there s really no point in trying.  You take somebody with the wrong mindset, you can give them everything in the world   they ll work their way right back down to the bottom,  he continued, strong words coming from the man who is in charge of trying to keep roofs over the heads of those not exactly living in the lap of luxury.Not every low-income earner is presented with the same opportunities as Carson s mother, but in his opinion, that shouldn t even factor into the equation.  If everybody had a mother like mine, nobody would be in poverty,  Carson said.  She was a person who absolutely would not accept the status of victim. Naturally, Twitter exploded after the release of the transcript on Wednesday, as Twitter tends to do, with everyone from former Barack Obama advisor Valerie Jarrett to beloved Star Trek actor and human rights activist George Takei weighing in on Carson s comments.Poverty is a state of mind Ben Carson? Tell that to a kid who can t afford lunch for school or won t have anything to eat for dinner.  it s kimberly (@bkimberlyb) May 24, 2017Ben Carson said poverty is a state of mind.Next month, I m going to tell my landlord that I paid my rent with positive thinking!  Zerlina Maxwell (@ZerlinaMaxwell) May 24, 2017Ben Carson says that poverty is a  state of mind.  You know what else is a state of mind? Always being a blithering idiot.  George Takei (@GeorgeTakei) May 24, 2017Featured image via Larry French/Getty Images 0 \n",
      "\n",
      "4 San Francisco 49ers quarterback Colin Kaepernick again took to his knee during the national anthem in Sunday s game against the Buffalo Bills, but before that, a loud chant of  USA, USA  could be heard at the stadium from those offended by his right to silently protest against racial inequality.The chants weren t even the worst thing on display. Just outside of the stadium, t-shirts were being sold with an image of Kaepernick with a rifle sight on him. The text on the t-shirt reads,  Wanted  and  Notorious Disgrace to America. Another t-shirt reads,  Shut Up And Stand Up!  along with the quarterback s last name spelled  Kaeperdick  and an image of him.Robert Klempko of MMQB tweeted,  Shirts with a rifle scope trained on Colin Kaepernick selling for $10 outside of Ralph Wilson stadium.  It gets even worse:Elsewhere outside the stadium, one group of fans were hitting a dummy wearing a Kaepernick jersey and an afro wig. Per Klemko, one fan, yelled,  Tackle the Muslim. That ugly display was captured on video and so was this incident:Here's a very drunk Bills fan spearing a dummy with Kaepernick jersey and afro wig. pic.twitter.com/PDo0NL2Pcp  Robert Klemko (@RobertKlemko) October 16, 2016Klempko wrote in a following tweet,  FWIW: Guy walking past this scene cupped his hands around his mouth and yelled,  THIS JUST MAKES BUFFALO LOOK BAD! FWIW: Guy walking past this scene cupped his hands around his mouth and yelled, \"THIS JUST MAKES BUFFALO LOOK BAD!\"  Robert Klemko (@RobertKlemko) October 16, 2016While conservatives consider Kaepernick s continued protest over racial inequality and oppression in the United States to be unpatriotic, they probably also think descending on Washington D.C. with t-shirts describing America s first black president as a scary black Kenyan is patriotic. I don t understand what s un-American about fighting for liberty and justice for everybody, for the equality this country says it stands for,  Kaepernick said after the game.  To me, I see it as very patriotic and American to uphold the United States to the standards that it says it lives by. But Kaepernick was not alone. Outside the stadium, African-Americans and whites knelt in solidarity with the quarterback s cause.#Bills fans, black and white, kneel during the anthem outside the stadium before the #49ers game. pic.twitter.com/kCmsIs94GM  Nick Veronica (@NickVeronica) October 16, 2016On a good note, Kaepernick said death threats are  rare occurrences now.  On a bad note, he never should have received death threats in the first place.Photo by Thearon W. Henderson via Getty. 0 \n",
      "\n",
      "5 (Reuters) - Kentucky state Representative Dan Johnson, who was facing sexual assault accusations, died in a probable suicide on Wednesday, Bullitt County Coroner Dave Billings said.  Johnson, 57, also the leader of the Louisville-area Heart of Fire Church, held a news conference on Tuesday at which he denied accusations contained in a report by the Kentucky Center for Investigative Reporting. The report, published earlier in the week, included accusations from a woman that Johnson molested her in 2013 when she was a teenager. Johnson, whose press conference was widely reported by local media, also defied calls by some legislators to step down. On Wednesday evening, Johnson was found dead in a probable suicide from a single gunshot wound near Louisville, the coroner said, adding that an autopsy would be performed on Thursday. Billings said law enforcement officials had been searching for Johnson after someone read a post on his Facebook page,  became concerned and contacted police. The post has since been taken down, but the Courier-Journal reported that it appeared to be a farewell and read in part, “the accusations from NPR are false, GOD and only GOD knows the truth. Nothing is the way they make it out to be.” The death comes amid a national reckoning over sexual harassment and abuse that has included allegations of misconduct in a number of state legislatures, including in Kentucky. Kentucky Republican Jeff Hoover recently resigned his post as Speaker of the Kentucky House of Representatives under a cloud of sexual harassment allegations. “Saddened to hear of tonight’s death of KY Representative Dan Johnson,” Kentucky Republican Gov. Matt Bevin wrote on Twitter. “My heart breaks for his family tonight...these are heavy days in Frankfort and in America...may God indeed shed His grace on us all...we sure need it.” Michael Skoler, President of Louisville Public Media, which operates the investigative reporting center, said in a statement on social media that the organization reached out to Johnson numerous times during its seven-month investigation but that he declined to discuss the group’s findings. Johnson was elected in 2016 despite becoming known for a 2016 Facebook post comparing President Barack Obama and Michelle Obama to monkeys, WDRB-TV has reported.  1 \n",
      "\n",
      "6 Why would this actor go to a place where violence, crime and murders are a regular occurrence and believe they wouldn t jump at the opportunity to steal whatever he or his crew had that was of any value? Remember, these are people who are leaving their homeland because they were being persecuted, so their violent behavior should be ignored by their host country right? I mean, they ve been through so much already. Who could blame them for stealing from, and beating the a*ses of celebrities who come to help them?A security team guarding Jude Law was attacked by migrants as the Hollywood star visited the jungle camp in Calais.The 43-year-old actor was in France with a film crew and Brit-winning singer Tom Odell , 25, to witness the horrors of the squalid makeshift village, which is due to be demolished.But shortly after the cameras stopped rolling, their minders were ambushed by some of the migrants and had their phones stolen.It is  understood Jude was already on the production team s bus when the thugs struck.For entire story: Mirror UK  0 \n",
      "\n",
      "7 Conservative filmmaker Dennis Michael Lynch has made some shocking and eye-opening movies that address our nation s failure to properly secure our borders. Lynch s  They Come To America III: The Cost Of Obama s Legacy  is his most compelling and shocking movie to date. There are some terrifying moments when Lynch exposes Muslim training camps right here in America. In addition to training camps in the US, Dennis Michael Lynch takes us to our northern border to show just how easily Islamic terrorists can cross into the United States. Lynch s interview with an undercover US Border Agent exposes the cover-ups and lies our previous administration used in an attempt to make us trust that our government was sufficiently protecting our borders. As Lynch proves in this short clip, nothing could be further from the truth.WATCH this shocking trailer, as it shows how vulnerable our nation is to terrorists entering the US from Canada:  0 \n",
      "\n",
      "8 Wait until you read this woman s biography and past quotes about conservatives! Popular myth-busting website Snopes originally gained recognition for being the go-to site for disproving outlandish urban legends -such as the presence of UFOs in Haiti or the existence of human-animal hybrids in the Amazon jungle.Recently, however, the site has tried to pose as a political fact-checker. But Snopes   fact-checking  looks more like playing defense for prominent Democrats like Hillary Clinton and it s political  fact-checker  describes herself as a liberal and has called Republicans  regressive  and afraid of  female agency. Snopes  main political fact-checker is a writer named Kim Lacapria. Before writing for Snopes, Lacapria wrote for Inquisitr, a blog that   oddly enough   is known for publishing fake quotes and even downright hoaxes as much as anything else.While at Inquisitr, the future  fact-checker  consistently displayed clear partisanship.She described herself as  openly left-leaning  and a liberal. She trashed the Tea Party as  teahadists.  She called Bill Clinton  one of our greatest  presidents. She claimed that conservatives only criticized Lena Dunham s comparison of voting to sex because they  fear female agency. She once wrote:  Like many GOP ideas about the poor, the panic about using food stamps for alcohol, pornography or guns seems to have been cut from whole cloth or more likely, the ideas many have about the fantasy of poverty.  (A simple fact-check would show that food stamp fraud does occur and costs taxpayers tens of millions.)Lacapria even accused the Bush administration of being  at least guilty of criminal negligience  in the September 11 attacks. (The future  fact-checker  offered no evidence to support her accusation.)Her columns apparently failed to impress her readership, oftentimes failing to get more than 10-20 shares.After blogging the Inquisitr, Lacapria joined Snopes, where she regularly plays defense for her fellow liberals.She wrote a  fact check  article about Jimmy Carter s unilateral ban of Iranian nationals from entering the country that looks more like an opinion column arguing against Donald Trump s proposed Muslim ban.Similarly, Lacapria   in another  fact check  article   argued Hillary Clinton hadn t included Benghazi at all in her infamous  we didn t lose a single person in Libya  gaffe. Lacapria claimed Clinton only meant to refer to the 2011 invasion of Libya (but not the 2012 Benghazi attack) but offered little fact-based evidence to support her claim.After the Orlando terror attack, Lacapria claimed that just because Omar Mateen was a registered Democrat with an active voter registration status didn t mean he was actually a Democrat. Her  fact check  argued that he might  have chosen a random political affiliation when he initially registered. Lacapria even tried to contradict the former Facebook workers who admitted that Facebook regularly censors conservative news, dismissing the news as  rumors. In that  fact check  article, Lacapria argued that  Facebook Trending s blacklisting of  junk topics  was not only not a scandalous development, but to be expected following the social network s crackdown on fake news sites.  The opinion-heavy article was mockingly titled: The Algorithm Is Gonna Get You.Lacapria again played defense for Clinton in a fact check article when she claimed:  Outrage over an expensive Armani jacket worn by Hillary Clinton was peppered with inaccurate details. One of the  inaccurate details  cited by Lacapria was that,  The cost of men s suits worn by fellow politicians didn t appear in the article for contrast.  She also argued the speech Clinton gave while wearing the $12,495 jacket, which discussed  raising wages and reducing inequality,  wasn t actually about income inequality.Read more: Daily Caller 0 \n",
      "\n",
      "9 Meanwhile, back at CNN Russia Russia Russia!The White House payroll is an excellent example of Trump s commitment to shrink government and save taxpayers money. The White House released the report of Trump s staffers  salaries in a 16-page report on Friday, resulting in projected four-year savings of more than $22 million. Not only is President Trump refusing to take his $400,000 salary, but also eliminating czars (which Obama came under fire for hiring starting in 2009), expensive  fellowships , and spending on FLOTUS staff.Here are some key findings:Some special initiative czars that worked for President Obama include Assistant to the President for Energy and Climate Change Carol Browner ($172,000), Director of the Office of Faith-Based and Neighborhood Partnerships Joshua DuBois ($98,000), White House Director of Urban Affairs Adolfo Carrion Jr ($158,500), and Director of the White House Office of Health Reform Nancy-Ann DeParle ($158,500).The reports also confirm only 5 staffers dedicated to First Lady Melania Trump, compared to Michelle Obama s outrageous 24 staffers.Trump also eliminated positions in the White House Leadership Development program which was instituted by President Obama in 2015. Positions included that of Elaine Ho at a salary of $158,700 who was in charge of working with the Office of the First Lady to implement her  Let Girls Learn  initiative. Two  Directors  whose positions were also eliminated from the payroll include Pamela Coleman ($120,000) and Katherine Pielemeier ($60,876).Gary Cohn, president of Goldman Sachs and current Director of the White House National Economic Council, and Christopher Liddell, Director of Strategic Initiatives in the White House and a former Microsoft Chief Financial Officer, are serving with reduced salaries of $30,000.President Trump donated his first quarter paycheck to the Dept. of Interior for construction and repair needs in military cemeteries.  Forbes 0 \n",
      "\n",
      "10 If there s one thing that conservatives and Fox News want more than anything, it s for President Obama and his administration to fail. This has been their narrative since he took office, and they d love for him to follow through with what they ve been saying. Unfortunately for them, that s just not the case. The economy has recovered, more people have health insurance, Osama bin Laden was killed, marriage equality is the law of the land, credit card companies are better kept in check, and a deal for a nuclear-free Iran was reached on top of countless other achievements.On the latest edition of Traitor TV, Fox News seems rather upset that Obama and his administration are actually getting the job done. Five prisoners have just been released from Iran, four as part of a negotiation. One of the prisoners released is Washington Post journalist Jason Rezaian who was held for more than 500 days in Iranian captivity. According to CNN: The release was arranged as part of a prisoner swap involving seven Iranians held by the United States on sanctions charges, the officials confirmed. The deal comes after more than a year of secret negotiations. This is a huge development, and also goes directly against the narrative Republicans have been touting during debates, and Fox News has been delivering for years. They ve insisted that President Obama is going to get us into war with Iran, but more and more evidence to the contrary keeps making itself known.And because they re technically a news media outlet, and not officially the media branch of the Republican party, Fox News  Fox & Friends had to report these latest negotiated releases with Iran. However, by the looks on their faces, they don t seem thrilled to deliver the good news. After all, they ve just been proven to be the liars that they are, yet again. Video/Featured image: C&L 0 \n",
      "\n"
     ]
    }
   ],
   "source": [
    "for index, row in df.iterrows():\n",
    "    if index > 10:\n",
    "        break\n",
    "    print(index, row['text'], row['class'], '\\n')"
   ]
  },
  {
   "cell_type": "code",
   "execution_count": 14,
   "metadata": {},
   "outputs": [
    {
     "name": "stdout",
     "output_type": "stream",
     "text": [
      "Boos and chants of  Lock her up!  were heard in the crowd assembled at the West Front of the U.S. Capitol Friday morning when defeated Democratic Party presidential nominee Hillary Clinton was introduced at the inaugural ceremony for President-elect Donald Trump.#InaugurationDay Lock her up pic.twitter.com/APVtyyYote  Bill Simms (@Mittens1245) January 20, 2017The crowd on the mall booed when the jumbotron showed a close-up shot of Hillary Clinton at #Inauguration https://t.co/1dvY5lxdKo  gpbnews (@gpbnews) January 20, 2017Some in crowd chanting LOCK HER UP as Hillary Clinton arrives  Jamie Dupree (@jamiedupree) January 20, 2017Via: Gateway Pundit \n"
     ]
    }
   ],
   "source": [
    "example_text = df.iloc[df[df['text'] == 'Boos and chants of  Lock her up!  were heard in the crowd assembled at the West Front of the U.S. Capitol Friday morning when defeated Democratic Party presidential nominee Hillary Clinton was introduced at the inaugural ceremony for President-elect Donald Trump.#InaugurationDay Lock her up pic.twitter.com/APVtyyYote  Bill Simms (@Mittens1245) January 20, 2017The crowd on the mall booed when the jumbotron showed a close-up shot of Hillary Clinton at #Inauguration https://t.co/1dvY5lxdKo  gpbnews (@gpbnews) January 20, 2017Some in crowd chanting LOCK HER UP as Hillary Clinton arrives  Jamie Dupree (@jamiedupree) January 20, 2017Via: Gateway Pundit '].index, 0].values[0]\n",
    "print(example_text)"
   ]
  },
  {
   "attachments": {},
   "cell_type": "markdown",
   "metadata": {},
   "source": [
    "We need to take care about names (i.e. @jamiedupree should be treated as separate token), hash tags (#Inauguration is one token here). Also let's say that we want to keep web sites as one token (pic.twitter.com/APVtyyYote or https://t.co/1dvY5lxdKo)."
   ]
  },
  {
   "cell_type": "code",
   "execution_count": 15,
   "metadata": {},
   "outputs": [
    {
     "name": "stdout",
     "output_type": "stream",
     "text": [
      "Boos and chants of  Lock her up!\n",
      "were heard in the crowd assembled at the West Front of the U.S. Capitol Friday morning when defeated Democratic Party presidential nominee Hillary Clinton was introduced at the inaugural ceremony for President-elect Donald Trump.\n",
      "#InaugurationDay Lock her up pic.twitter.com/APVtyyYote  Bill Simms (@Mittens1245) January 20, 2017The crowd on the mall booed when the jumbotron showed a close-up shot of Hillary Clinton at #Inauguration https://t.co/1dvY5lxdKo  gpbnews (@gpbnews) January 20, 2017Some in crowd chanting LOCK HER UP as Hillary Clinton arrives  Jamie Dupree (@jamiedupree) January 20, 2017Via: Gateway Pundit\n"
     ]
    }
   ],
   "source": [
    "def split_into_sentences(text):\n",
    "    # so the website will not split into two separate sentences by comma:\n",
    "    sentence_endings = re.compile(r'(?<!\\w\\.\\w.)(?<![A-Z][a-z]\\.)(?<=\\.|\\?|!)(?=\\s|[#])')\n",
    "    sentences = sentence_endings.split(text)\n",
    "    sentences = [sentence.strip() for sentence in sentences if sentence.strip()]\n",
    "    return sentences\n",
    "\n",
    "sentences = split_into_sentences(example_text)\n",
    "for sentence in sentences:\n",
    "    print(sentence)"
   ]
  },
  {
   "cell_type": "code",
   "execution_count": 16,
   "metadata": {},
   "outputs": [
    {
     "name": "stdout",
     "output_type": "stream",
     "text": [
      "['Boos', 'and', 'chants', 'of', 'Lock', 'her', 'up']\n",
      "['were', 'heard', 'in', 'the', 'crowd', 'assembled', 'at', 'the', 'West', 'Front', 'of', 'the', 'U', 'S', 'Capitol', 'Friday', 'morning', 'when', 'defeated', 'Democratic', 'Party', 'presidential', 'nominee', 'Hillary', 'Clinton', 'was', 'introduced', 'at', 'the', 'inaugural', 'ceremony', 'for', 'President', '-elect', 'Donald', 'Trump']\n",
      "['#InaugurationDay', 'Lock', 'her', 'up', 'pic.twitter.com/APVtyyYote', 'Bill', 'Simms', '@Mittens1245', 'January', '20', '2017The', 'crowd', 'on', 'the', 'mall', 'booed', 'when', 'the', 'jumbotron', 'showed', 'a', 'close', '-up', 'shot', 'of', 'Hillary', 'Clinton', 'at', '#Inauguration', 'https://t.co/1dvY5lxdKo', 'gpbnews', '@gpbnews', 'January', '20', '2017Some', 'in', 'crowd', 'chanting', 'LOCK', 'HER', 'UP', 'as', 'Hillary', 'Clinton', 'arrives', 'Jamie', 'Dupree', '@jamiedupree', 'January', '20', '2017Via', 'Gateway', 'Pundit']\n"
     ]
    }
   ],
   "source": [
    "def split_into_words(sentences):\n",
    "    # regular expression to match complex URLs, simple URLs, hashtags, Twitter handles, and words\n",
    "    word_pattern = re.compile(r'pic.twitter.com/\\S+|https?://\\S+|www\\.\\S+|\\#\\S+|\\@\\w+|\\b\\w+\\'?\\w*|-?\\w+\\'?\\w*')\n",
    "    tokenized_sentences = []\n",
    "    for sentence in sentences:\n",
    "        words = word_pattern.findall(sentence)\n",
    "        tokenized_sentences.append(words)\n",
    "    return tokenized_sentences\n",
    "\n",
    "tokenized = split_into_words(sentences)\n",
    "for tokens in tokenized:\n",
    "    print(tokens)"
   ]
  },
  {
   "cell_type": "code",
   "execution_count": 17,
   "metadata": {},
   "outputs": [
    {
     "name": "stdout",
     "output_type": "stream",
     "text": [
      "['boo', 'and', 'chant', 'of', 'lock', 'her', 'up']\n",
      "['were', 'heard', 'in', 'the', 'crowd', 'assembl', 'at', 'the', 'west', 'front', 'of', 'the', 'u', 's', 'capitol', 'friday', 'morn', 'when', 'defeat', 'democrat', 'parti', 'presidenti', 'nomine', 'hillari', 'clinton', 'was', 'introduc', 'at', 'the', 'inaugur', 'ceremoni', 'for', 'presid', '-elect', 'donald', 'trump']\n",
      "['#inaugurationday', 'lock', 'her', 'up', 'pic.twitter.com/apvtyyyot', 'bill', 'simm', '@mittens1245', 'januari', '20', '2017the', 'crowd', 'on', 'the', 'mall', 'boo', 'when', 'the', 'jumbotron', 'show', 'a', 'close', '-up', 'shot', 'of', 'hillari', 'clinton', 'at', '#inaugur', 'https://t.co/1dvy5lxdko', 'gpbnew', '@gpbnew', 'januari', '20', '2017some', 'in', 'crowd', 'chant', 'lock', 'her', 'up', 'as', 'hillari', 'clinton', 'arriv', 'jami', 'dupre', '@jamiedupre', 'januari', '20', '2017via', 'gateway', 'pundit']\n"
     ]
    }
   ],
   "source": [
    "def stem_words(tokenized_sentences):\n",
    "    stemmer = SnowballStemmer(\"english\")\n",
    "    stemmed_sentences = []\n",
    "    for tokens in tokenized_sentences:\n",
    "        stemmed_tokens = [stemmer.stem(token) for token in tokens]\n",
    "        stemmed_sentences.append(stemmed_tokens)\n",
    "    return stemmed_sentences\n",
    "\n",
    "stemmed = stem_words(tokenized)\n",
    "for s in stemmed:\n",
    "    print(s)"
   ]
  },
  {
   "cell_type": "code",
   "execution_count": 18,
   "metadata": {},
   "outputs": [
    {
     "name": "stdout",
     "output_type": "stream",
     "text": [
      "['Boos', 'and', 'chant', 'of', 'Lock', 'her', 'up']\n",
      "['were', 'heard', 'in', 'the', 'crowd', 'assembled', 'at', 'the', 'West', 'Front', 'of', 'the', 'U', 'S', 'Capitol', 'Friday', 'morning', 'when', 'defeated', 'Democratic', 'Party', 'presidential', 'nominee', 'Hillary', 'Clinton', 'wa', 'introduced', 'at', 'the', 'inaugural', 'ceremony', 'for', 'President', '-elect', 'Donald', 'Trump']\n",
      "['#InaugurationDay', 'Lock', 'her', 'up', 'pic.twitter.com/APVtyyYote', 'Bill', 'Simms', '@Mittens1245', 'January', '20', '2017The', 'crowd', 'on', 'the', 'mall', 'booed', 'when', 'the', 'jumbotron', 'showed', 'a', 'close', '-up', 'shot', 'of', 'Hillary', 'Clinton', 'at', '#Inauguration', 'https://t.co/1dvY5lxdKo', 'gpbnews', '@gpbnews', 'January', '20', '2017Some', 'in', 'crowd', 'chanting', 'LOCK', 'HER', 'UP', 'a', 'Hillary', 'Clinton', 'arrives', 'Jamie', 'Dupree', '@jamiedupree', 'January', '20', '2017Via', 'Gateway', 'Pundit']\n"
     ]
    }
   ],
   "source": [
    "def lemmatize_tokens(tokenized_sentences):\n",
    "    lemmatizer = WordNetLemmatizer()\n",
    "    lemmatized_sentences = []\n",
    "    for tokens in tokenized_sentences:\n",
    "        lemmatized_tokens = [lemmatizer.lemmatize(token) for token in tokens]\n",
    "        lemmatized_sentences.append(lemmatized_tokens)\n",
    "    return lemmatized_sentences\n",
    "\n",
    "lemmatized = lemmatize_tokens(tokenized)\n",
    "for l in lemmatized:\n",
    "    print(l)"
   ]
  },
  {
   "cell_type": "code",
   "execution_count": 19,
   "metadata": {},
   "outputs": [],
   "source": [
    "def process_text(text):\n",
    "    sentences = split_into_sentences(text)\n",
    "    tokenized = split_into_words(sentences)\n",
    "    stemmed = stem_words(tokenized)\n",
    "    lemmatized = lemmatize_tokens(tokenized)\n",
    "    data = []\n",
    "    for i in range(len(tokenized)):\n",
    "        for j in range(len(tokenized[i])):\n",
    "            row = {\n",
    "                'Token': tokenized[i][j],\n",
    "                'Stem': stemmed[i][j],\n",
    "                'Lemma': lemmatized[i][j]\n",
    "            }\n",
    "            data.append(row)\n",
    "    df = pd.DataFrame(data)\n",
    "    return df"
   ]
  },
  {
   "cell_type": "code",
   "execution_count": 20,
   "metadata": {},
   "outputs": [
    {
     "data": {
      "text/html": [
       "<div>\n",
       "<style scoped>\n",
       "    .dataframe tbody tr th:only-of-type {\n",
       "        vertical-align: middle;\n",
       "    }\n",
       "\n",
       "    .dataframe tbody tr th {\n",
       "        vertical-align: top;\n",
       "    }\n",
       "\n",
       "    .dataframe thead th {\n",
       "        text-align: right;\n",
       "    }\n",
       "</style>\n",
       "<table border=\"1\" class=\"dataframe\">\n",
       "  <thead>\n",
       "    <tr style=\"text-align: right;\">\n",
       "      <th></th>\n",
       "      <th>text</th>\n",
       "      <th>class</th>\n",
       "      <th>part</th>\n",
       "    </tr>\n",
       "  </thead>\n",
       "  <tbody>\n",
       "    <tr>\n",
       "      <th>0</th>\n",
       "      <td>WASHINGTON (Reuters) - Backers of a U.S.-Russi...</td>\n",
       "      <td>1</td>\n",
       "      <td>train</td>\n",
       "    </tr>\n",
       "    <tr>\n",
       "      <th>1</th>\n",
       "      <td>DHAKA (Reuters) - Bangladesh and Myanmar have ...</td>\n",
       "      <td>1</td>\n",
       "      <td>train</td>\n",
       "    </tr>\n",
       "    <tr>\n",
       "      <th>2</th>\n",
       "      <td>Fox News went completely predictable in openin...</td>\n",
       "      <td>0</td>\n",
       "      <td>train</td>\n",
       "    </tr>\n",
       "    <tr>\n",
       "      <th>3</th>\n",
       "      <td>Ben Carson, the head of the Department of Hous...</td>\n",
       "      <td>0</td>\n",
       "      <td>train</td>\n",
       "    </tr>\n",
       "    <tr>\n",
       "      <th>4</th>\n",
       "      <td>San Francisco 49ers quarterback Colin Kaeperni...</td>\n",
       "      <td>0</td>\n",
       "      <td>val</td>\n",
       "    </tr>\n",
       "  </tbody>\n",
       "</table>\n",
       "</div>"
      ],
      "text/plain": [
       "                                                text  class   part\n",
       "0  WASHINGTON (Reuters) - Backers of a U.S.-Russi...      1  train\n",
       "1  DHAKA (Reuters) - Bangladesh and Myanmar have ...      1  train\n",
       "2  Fox News went completely predictable in openin...      0  train\n",
       "3  Ben Carson, the head of the Department of Hous...      0  train\n",
       "4  San Francisco 49ers quarterback Colin Kaeperni...      0    val"
      ]
     },
     "execution_count": 20,
     "metadata": {},
     "output_type": "execute_result"
    }
   ],
   "source": [
    "df.head()"
   ]
  },
  {
   "cell_type": "code",
   "execution_count": 21,
   "metadata": {},
   "outputs": [],
   "source": [
    "def write_dataset(df, part):\n",
    "    for index, row in tqdm(df.iterrows(), total=len(df)):\n",
    "        text = row['text']\n",
    "        class_ = 'true' if row['class'] else 'fake'\n",
    "        dir = f'../assets/annotated-corpus/{part}/{class_}'\n",
    "        Path(dir).mkdir(parents=True, exist_ok=True)\n",
    "        path = dir / Path(str(index) + '.tsv')\n",
    "        df_ = process_text(text)\n",
    "        df_.to_csv(path, index=None, sep='\\t')"
   ]
  },
  {
   "cell_type": "code",
   "execution_count": 22,
   "metadata": {},
   "outputs": [
    {
     "name": "stderr",
     "output_type": "stream",
     "text": [
      "  0%|          | 0/30918 [00:00<?, ?it/s]"
     ]
    },
    {
     "name": "stderr",
     "output_type": "stream",
     "text": [
      "100%|██████████| 30918/30918 [04:00<00:00, 128.77it/s]\n",
      "100%|██████████| 3863/3863 [00:32<00:00, 119.87it/s]\n",
      "100%|██████████| 3866/3866 [00:36<00:00, 105.87it/s]"
     ]
    },
    {
     "name": "stdout",
     "output_type": "stream",
     "text": [
      "CPU times: user 4min 41s, sys: 15.3 s, total: 4min 56s\n",
      "Wall time: 5min 8s\n"
     ]
    },
    {
     "name": "stderr",
     "output_type": "stream",
     "text": [
      "\n"
     ]
    }
   ],
   "source": [
    "%%time\n",
    "for part in ['train', 'val', 'test']:\n",
    "    write_dataset(df[df['part'] == part], part)"
   ]
  }
 ],
 "metadata": {
  "kernelspec": {
   "display_name": "py310",
   "language": "python",
   "name": "python3"
  },
  "language_info": {
   "codemirror_mode": {
    "name": "ipython",
    "version": 3
   },
   "file_extension": ".py",
   "mimetype": "text/x-python",
   "name": "python",
   "nbconvert_exporter": "python",
   "pygments_lexer": "ipython3",
   "version": "3.10.13"
  },
  "orig_nbformat": 4
 },
 "nbformat": 4,
 "nbformat_minor": 2
}
