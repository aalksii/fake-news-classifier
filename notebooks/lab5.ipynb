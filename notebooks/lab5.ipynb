{
 "cells": [
  {
   "attachments": {},
   "cell_type": "markdown",
   "metadata": {},
   "source": [
    "# Laboratory work #5 (vector database search)"
   ]
  },
  {
   "cell_type": "code",
   "execution_count": 34,
   "metadata": {},
   "outputs": [
    {
     "name": "stderr",
     "output_type": "stream",
     "text": [
      "[nltk_data] Downloading package wordnet to\n",
      "[nltk_data]     /home/azureuser/nltk_data...\n",
      "[nltk_data]   Package wordnet is already up-to-date!\n"
     ]
    }
   ],
   "source": [
    "import pandas as pd\n",
    "import re\n",
    "from pathlib import Path\n",
    "\n",
    "from tqdm import tqdm\n",
    "from nltk.stem import SnowballStemmer\n",
    "from nltk.stem import WordNetLemmatizer\n",
    "import nltk\n",
    "nltk.download('wordnet')\n",
    "\n",
    "from sklearn.model_selection import train_test_split\n",
    "from sentence_transformers import SentenceTransformer\n",
    "\n",
    "tqdm.pandas()\n",
    "\n",
    "import chromadb"
   ]
  },
  {
   "cell_type": "code",
   "execution_count": 2,
   "metadata": {},
   "outputs": [],
   "source": [
    "random_seed = 42"
   ]
  },
  {
   "attachments": {},
   "cell_type": "markdown",
   "metadata": {},
   "source": [
    "The dataset reading is taken from https://www.kaggle.com/code/therealsampat/fake-news-detection."
   ]
  },
  {
   "cell_type": "code",
   "execution_count": 3,
   "metadata": {},
   "outputs": [],
   "source": [
    "df_fake = pd.read_csv('../data/Fake.csv')\n",
    "df_true = pd.read_csv('../data/True.csv')\n",
    "\n",
    "df_fake['class'] = 0\n",
    "df_true['class'] = 1"
   ]
  },
  {
   "cell_type": "code",
   "execution_count": 4,
   "metadata": {},
   "outputs": [],
   "source": [
    "df_fake = df_fake.drop_duplicates('text')\n",
    "df_true = df_true.drop_duplicates('text')"
   ]
  },
  {
   "cell_type": "code",
   "execution_count": 5,
   "metadata": {},
   "outputs": [
    {
     "data": {
      "text/plain": [
       "((17455, 5), (21192, 5))"
      ]
     },
     "execution_count": 5,
     "metadata": {},
     "output_type": "execute_result"
    }
   ],
   "source": [
    "df_fake.shape, df_true.shape"
   ]
  },
  {
   "cell_type": "code",
   "execution_count": 6,
   "metadata": {},
   "outputs": [
    {
     "data": {
      "text/html": [
       "<div>\n",
       "<style scoped>\n",
       "    .dataframe tbody tr th:only-of-type {\n",
       "        vertical-align: middle;\n",
       "    }\n",
       "\n",
       "    .dataframe tbody tr th {\n",
       "        vertical-align: top;\n",
       "    }\n",
       "\n",
       "    .dataframe thead th {\n",
       "        text-align: right;\n",
       "    }\n",
       "</style>\n",
       "<table border=\"1\" class=\"dataframe\">\n",
       "  <thead>\n",
       "    <tr style=\"text-align: right;\">\n",
       "      <th></th>\n",
       "      <th>title</th>\n",
       "      <th>text</th>\n",
       "      <th>subject</th>\n",
       "      <th>date</th>\n",
       "      <th>class</th>\n",
       "    </tr>\n",
       "  </thead>\n",
       "  <tbody>\n",
       "    <tr>\n",
       "      <th>3079</th>\n",
       "      <td>Stephen King OBLITERATES Trump For Throwing A...</td>\n",
       "      <td>Donald Trump disgusted thousands of Americans ...</td>\n",
       "      <td>News</td>\n",
       "      <td>January 10, 2017</td>\n",
       "      <td>0</td>\n",
       "    </tr>\n",
       "    <tr>\n",
       "      <th>18598</th>\n",
       "      <td>Thirty-eight injured in police charges in Cata...</td>\n",
       "      <td>MADRID (Reuters) - Emergency services have att...</td>\n",
       "      <td>worldnews</td>\n",
       "      <td>October 1, 2017</td>\n",
       "      <td>1</td>\n",
       "    </tr>\n",
       "    <tr>\n",
       "      <th>15278</th>\n",
       "      <td>Possible Putin-Trump meeting in Vietnam still ...</td>\n",
       "      <td>MOSCOW (Reuters) - The Kremlin said on Thursda...</td>\n",
       "      <td>worldnews</td>\n",
       "      <td>November 9, 2017</td>\n",
       "      <td>1</td>\n",
       "    </tr>\n",
       "    <tr>\n",
       "      <th>101</th>\n",
       "      <td>Trump strategy document says Russia meddles in...</td>\n",
       "      <td>WASHINGTON (Reuters) - U.S. President Donald T...</td>\n",
       "      <td>politicsNews</td>\n",
       "      <td>December 18, 2017</td>\n",
       "      <td>1</td>\n",
       "    </tr>\n",
       "    <tr>\n",
       "      <th>420</th>\n",
       "      <td>CNN And MSNBC Destroy Trump, Black Out His Fa...</td>\n",
       "      <td>Donald Trump practically does something to cri...</td>\n",
       "      <td>News</td>\n",
       "      <td>September 7, 2017</td>\n",
       "      <td>0</td>\n",
       "    </tr>\n",
       "    <tr>\n",
       "      <th>13388</th>\n",
       "      <td>STREET ARTIST Censored For Painting Of Hillary...</td>\n",
       "      <td>Censorship is alive and well when it comes to ...</td>\n",
       "      <td>politics</td>\n",
       "      <td>Jul 30, 2016</td>\n",
       "      <td>0</td>\n",
       "    </tr>\n",
       "    <tr>\n",
       "      <th>17688</th>\n",
       "      <td>Trump resists pressure to soften stance on Ira...</td>\n",
       "      <td>WASHINGTON (Reuters) - President Donald Trump ...</td>\n",
       "      <td>worldnews</td>\n",
       "      <td>October 12, 2017</td>\n",
       "      <td>1</td>\n",
       "    </tr>\n",
       "    <tr>\n",
       "      <th>18077</th>\n",
       "      <td>Conservative plotters told to get behind UK's ...</td>\n",
       "      <td>LONDON (Reuters) - Lawmakers in British Prime ...</td>\n",
       "      <td>worldnews</td>\n",
       "      <td>October 7, 2017</td>\n",
       "      <td>1</td>\n",
       "    </tr>\n",
       "    <tr>\n",
       "      <th>11032</th>\n",
       "      <td>America's angry voters divvied up by Trump and...</td>\n",
       "      <td>IOWA CITY, Iowa/NEW YORK (Reuters) - The 2016 ...</td>\n",
       "      <td>politicsNews</td>\n",
       "      <td>January 30, 2016</td>\n",
       "      <td>1</td>\n",
       "    </tr>\n",
       "    <tr>\n",
       "      <th>9088</th>\n",
       "      <td>Potential Boeing Iran sale faces opposition in...</td>\n",
       "      <td>WASHINGTON (Reuters) - Two senior Republican H...</td>\n",
       "      <td>politicsNews</td>\n",
       "      <td>June 17, 2016</td>\n",
       "      <td>1</td>\n",
       "    </tr>\n",
       "  </tbody>\n",
       "</table>\n",
       "</div>"
      ],
      "text/plain": [
       "                                                   title  \\\n",
       "3079    Stephen King OBLITERATES Trump For Throwing A...   \n",
       "18598  Thirty-eight injured in police charges in Cata...   \n",
       "15278  Possible Putin-Trump meeting in Vietnam still ...   \n",
       "101    Trump strategy document says Russia meddles in...   \n",
       "420     CNN And MSNBC Destroy Trump, Black Out His Fa...   \n",
       "13388  STREET ARTIST Censored For Painting Of Hillary...   \n",
       "17688  Trump resists pressure to soften stance on Ira...   \n",
       "18077  Conservative plotters told to get behind UK's ...   \n",
       "11032  America's angry voters divvied up by Trump and...   \n",
       "9088   Potential Boeing Iran sale faces opposition in...   \n",
       "\n",
       "                                                    text       subject  \\\n",
       "3079   Donald Trump disgusted thousands of Americans ...          News   \n",
       "18598  MADRID (Reuters) - Emergency services have att...     worldnews   \n",
       "15278  MOSCOW (Reuters) - The Kremlin said on Thursda...     worldnews   \n",
       "101    WASHINGTON (Reuters) - U.S. President Donald T...  politicsNews   \n",
       "420    Donald Trump practically does something to cri...          News   \n",
       "13388  Censorship is alive and well when it comes to ...      politics   \n",
       "17688  WASHINGTON (Reuters) - President Donald Trump ...     worldnews   \n",
       "18077  LONDON (Reuters) - Lawmakers in British Prime ...     worldnews   \n",
       "11032  IOWA CITY, Iowa/NEW YORK (Reuters) - The 2016 ...  politicsNews   \n",
       "9088   WASHINGTON (Reuters) - Two senior Republican H...  politicsNews   \n",
       "\n",
       "                     date  class  \n",
       "3079     January 10, 2017      0  \n",
       "18598    October 1, 2017       1  \n",
       "15278   November 9, 2017       1  \n",
       "101    December 18, 2017       1  \n",
       "420     September 7, 2017      0  \n",
       "13388        Jul 30, 2016      0  \n",
       "17688   October 12, 2017       1  \n",
       "18077    October 7, 2017       1  \n",
       "11032   January 30, 2016       1  \n",
       "9088       June 17, 2016       1  "
      ]
     },
     "execution_count": 6,
     "metadata": {},
     "output_type": "execute_result"
    }
   ],
   "source": [
    "df_merge = pd.concat([df_fake, df_true], axis=0)\n",
    "df_merge.sample(10)"
   ]
  },
  {
   "cell_type": "code",
   "execution_count": 7,
   "metadata": {},
   "outputs": [
    {
     "data": {
      "text/plain": [
       "text     0\n",
       "class    0\n",
       "dtype: int64"
      ]
     },
     "execution_count": 7,
     "metadata": {},
     "output_type": "execute_result"
    }
   ],
   "source": [
    "df = df_merge.drop(['title', 'subject', 'date'], axis=1)\n",
    "df.isnull().sum()"
   ]
  },
  {
   "cell_type": "code",
   "execution_count": 8,
   "metadata": {},
   "outputs": [],
   "source": [
    "df = df.sample(frac=1, random_state=random_seed)\n",
    "df.reset_index(inplace=True)\n",
    "df.drop(['index'], axis=1, inplace=True)"
   ]
  },
  {
   "cell_type": "code",
   "execution_count": 9,
   "metadata": {},
   "outputs": [],
   "source": [
    "df['part'] = 'train'\n",
    "n = len(df)\n",
    "train_n = int(n * 0.8)\n",
    "val_n = int(n * 0.1)\n",
    "test_n = n - train_n - val_n\n",
    "df.loc[(train_n < df.index) & (df.index < train_n + val_n), 'part'] = 'val'\n",
    "df.loc[train_n + val_n <= df.index, 'part'] = 'test'"
   ]
  },
  {
   "cell_type": "code",
   "execution_count": 10,
   "metadata": {},
   "outputs": [],
   "source": [
    "df = df.sample(frac=1, random_state=random_seed)\n",
    "df.reset_index(inplace=True)\n",
    "df.drop(['index'], axis=1, inplace=True)"
   ]
  },
  {
   "cell_type": "code",
   "execution_count": 11,
   "metadata": {},
   "outputs": [
    {
     "data": {
      "text/html": [
       "<div>\n",
       "<style scoped>\n",
       "    .dataframe tbody tr th:only-of-type {\n",
       "        vertical-align: middle;\n",
       "    }\n",
       "\n",
       "    .dataframe tbody tr th {\n",
       "        vertical-align: top;\n",
       "    }\n",
       "\n",
       "    .dataframe thead th {\n",
       "        text-align: right;\n",
       "    }\n",
       "</style>\n",
       "<table border=\"1\" class=\"dataframe\">\n",
       "  <thead>\n",
       "    <tr style=\"text-align: right;\">\n",
       "      <th></th>\n",
       "      <th>text</th>\n",
       "      <th>class</th>\n",
       "      <th>part</th>\n",
       "    </tr>\n",
       "  </thead>\n",
       "  <tbody>\n",
       "    <tr>\n",
       "      <th>0</th>\n",
       "      <td>Trump and the House GOP suffered a stunning de...</td>\n",
       "      <td>0</td>\n",
       "      <td>test</td>\n",
       "    </tr>\n",
       "    <tr>\n",
       "      <th>1</th>\n",
       "      <td>LJUBLJANA (Reuters) - Slovenia, birth country ...</td>\n",
       "      <td>1</td>\n",
       "      <td>train</td>\n",
       "    </tr>\n",
       "    <tr>\n",
       "      <th>2</th>\n",
       "      <td>During the 2016 presidential campaign, Preside...</td>\n",
       "      <td>0</td>\n",
       "      <td>test</td>\n",
       "    </tr>\n",
       "    <tr>\n",
       "      <th>3</th>\n",
       "      <td>MANILA (Reuters) - Philippine President Rodrig...</td>\n",
       "      <td>1</td>\n",
       "      <td>train</td>\n",
       "    </tr>\n",
       "    <tr>\n",
       "      <th>4</th>\n",
       "      <td>MADRID (Reuters) - Catalan pro-independence pa...</td>\n",
       "      <td>1</td>\n",
       "      <td>train</td>\n",
       "    </tr>\n",
       "    <tr>\n",
       "      <th>5</th>\n",
       "      <td>MADRID (Reuters) - More than half of Spanish v...</td>\n",
       "      <td>1</td>\n",
       "      <td>train</td>\n",
       "    </tr>\n",
       "    <tr>\n",
       "      <th>6</th>\n",
       "      <td>DUBAI (Reuters) - The United Arab Emirates is ...</td>\n",
       "      <td>1</td>\n",
       "      <td>train</td>\n",
       "    </tr>\n",
       "    <tr>\n",
       "      <th>7</th>\n",
       "      <td>WINSTON-SALEM, N.C. (Reuters) - Minority voter...</td>\n",
       "      <td>1</td>\n",
       "      <td>train</td>\n",
       "    </tr>\n",
       "    <tr>\n",
       "      <th>8</th>\n",
       "      <td>CARACAS (Reuters) - Venezuelan President Nicol...</td>\n",
       "      <td>1</td>\n",
       "      <td>test</td>\n",
       "    </tr>\n",
       "    <tr>\n",
       "      <th>9</th>\n",
       "      <td>WASHINGTON/LONDON (Reuters) - Republican presi...</td>\n",
       "      <td>1</td>\n",
       "      <td>train</td>\n",
       "    </tr>\n",
       "  </tbody>\n",
       "</table>\n",
       "</div>"
      ],
      "text/plain": [
       "                                                text  class   part\n",
       "0  Trump and the House GOP suffered a stunning de...      0   test\n",
       "1  LJUBLJANA (Reuters) - Slovenia, birth country ...      1  train\n",
       "2  During the 2016 presidential campaign, Preside...      0   test\n",
       "3  MANILA (Reuters) - Philippine President Rodrig...      1  train\n",
       "4  MADRID (Reuters) - Catalan pro-independence pa...      1  train\n",
       "5  MADRID (Reuters) - More than half of Spanish v...      1  train\n",
       "6  DUBAI (Reuters) - The United Arab Emirates is ...      1  train\n",
       "7  WINSTON-SALEM, N.C. (Reuters) - Minority voter...      1  train\n",
       "8  CARACAS (Reuters) - Venezuelan President Nicol...      1   test\n",
       "9  WASHINGTON/LONDON (Reuters) - Republican presi...      1  train"
      ]
     },
     "execution_count": 11,
     "metadata": {},
     "output_type": "execute_result"
    }
   ],
   "source": [
    "df.head(10)"
   ]
  },
  {
   "cell_type": "code",
   "execution_count": 12,
   "metadata": {},
   "outputs": [
    {
     "data": {
      "text/plain": [
       "(30918, 3863, 3866)"
      ]
     },
     "execution_count": 12,
     "metadata": {},
     "output_type": "execute_result"
    }
   ],
   "source": [
    "len(df[df['part'] == 'train']), len(df[df['part'] == 'val']), len(df[df['part'] == 'test'])"
   ]
  },
  {
   "cell_type": "code",
   "execution_count": 13,
   "metadata": {},
   "outputs": [],
   "source": [
    "df.head(10).to_csv('../data/sample.csv', index=None)"
   ]
  },
  {
   "cell_type": "code",
   "execution_count": 14,
   "metadata": {},
   "outputs": [
    {
     "name": "stdout",
     "output_type": "stream",
     "text": [
      "0 Trump and the House GOP suffered a stunning defeat on legislation they promised would deliver better healthcare to millions, despite that promise being a lie. They pulled the Trumpcare bill from the floor early Friday afternoon, before getting a vote, because they knew it wouldn t pass. And that was absolutely humiliating for them.But what may be more humiliating is what the American Action Network a conservative PAC did on Friday night   the exact same day the bill failed. During Friday night basketball games, they ran television ads about the triumph of Trumpcare over Obamacare, saying the following: Republicans are keeping their promise with a new plan for better hrealthcare, More choices and lower costs, putting doctors and patients in charge again. No more big government penalties or job killing mandates. They go on to explain that the tax credits contained within Trumpcare would make healthcare more affordable, and that protections for people with pre-existing conditions would remain in place (which wasn t necessarily true).And then they do something truly amazing, given that these ads ran long after all the drama from the bill s death had quieted down. Watch one of these ads below:Why didn t they have these pulled? That just makes them look completely moronic.Featured image via screen capture from embedded video 0 \n",
      "\n",
      "1 LJUBLJANA (Reuters) - Slovenia, birth country of U.S. First Lady Melania Trump, expects revenues from foreign tourists to jump by about 9 percent this year and by at least 5 percent in 2018, Economy Minister Zdravko Pocivalsek said on Tuesday. 2017 will be the fourth record year in a row for Slovenian tourism after revenues from foreign tourists reached some 2.3 billion euros ($2.71 billion) last year, Pocivalsek told a news conference. Tourism in Slovenia rose strongly because of  a general increase of tourism in Europe and a successful promotion of Slovenia as a safe country. Officials say it also got something of a boost from Melania Trump having been born in the city of Sevnica in southeastern Slovenia before becoming a fashion model and moving to the United States.   We received a lot of attention from (international) journalists because of the U.S. First Lady and we managed to present Slovenia as an attractive, green country,  Maja Pak, head of the Slovenian Tourist Organisation, told the same news conference. About 60 percent of Slovenia is covered by forests while the country has some resorts on the Adriatic sea as well as a number of Alpine and spa tourist resorts.  Pocivalsek also said Slovenia plans to gradually privative all tourist accommodation infrastructure which should further improve tourism business. At present about 40 percent of hotels in Slovenia are in state hands.  I want a well-considered privatization ... which will be in favor of the state and the companies that are being sold,  Pocivalsek said. In the first 10 months of 2017 the number of foreign tourists jumped by almost 17 percent year-on-year, the statistics office said last month.  In the first nine months of the year, the latest data available, the number of tourists from the United States rose by 23.4 percent, it added.  According to the government s tourism strategy the revenues from foreign tourists should rise to at least 3.7 billion euros per year by the end of 2021. ($1 = 0.8472 euros)  1 \n",
      "\n",
      "2 During the 2016 presidential campaign, President Donald Trump made a lot of promises on immigration. He was going to build a wall between the United States and Mexico, that Mexico would fund. He was going to keep Muslims from coming into the country. Lastly, he was going to cut funding to  sanctuary cities.  Now it looks like none of that is going to happen. The travel bans have been struck down. The border wall is never going to happen. Now, a federal court has ruled against taking funding away from sanctuary cities.Sanctuary cities are those that refuse to work with Immigration and Customs Enforcement (ICE) to deport undocumented immigrants who report crimes. It s important to note that lacking documentation is a civil offense, not a criminal one. This is the second of Trump s main policy initiatives to be struck down because it violates the U.S. Constitution.Both San Francisco and Santa Clara County won orders squashing an executive order, signed by Trump on January 25, 2017 to halt funding to any cities who refuse to deport undocumented immigrants for minor offenses. The president has said these cities can cause,  immeasurable harm to the American people and to the very fabric of our republic.  U.S. District Judge William Orrick did not see it that way. He sided with San Francisco and Santa Clara County.While Trump wants to appear powerful, it is clear that he is not aware of what limits there are on presidential power. The president does not decide how federal funds are spent. That s Congress s job. The budget that is submitted by the White House every year is simply a wish list of what the president would like to see federal money spent on. Congress is under no obligation to follow the budget. By the same token, once funds have been allocated for a program, a president cannot just block that funding because it suits his or her objectives.The White House promises to appeal the decision and Chief of Staff Reince Priebus has said that the courts in California are  going bananas.  He added,  The idea that an agency can t put in some reasonable restriction on how some of these monies are spent is something that will be overturned eventually, and we ll win at the Supreme Court level at some point. For its part, the Department of Justice assets that federal agencies are still allowed to act against any cities or towns that violate or ignore federal immigration laws. Department spokesman Ian Prior said,  The court upheld the government s ability to use lawful means to enforce existing conditions of federal grants,  Ian Prior said in an emailed statement. The ruling is not just a victory for these two jurisdictions. Its impact will be felt in sanctuary cities and jurisdictions across the nation. Cities such as New York, Chicago and Los Angeles. This ruling is also giving energy to Californians who want to be seen as leading the resistance against the Trump administration. The Californian state Senate put through the  California Values Act.  This would turn the entire state into a sanctuary zone. 0 \n",
      "\n",
      "3 MANILA (Reuters) - Philippine President Rodrigo Duterte on Wednesday announced that Russia would donate defense hardware to support the military s fight against pro-Islamic State militants, who he said could regroup and attack  anywhere and everywhere . Duterte said Russia would provide about 5,000 assault rifles in a deal to be signed this month, and the Philippine military would no longer have to use second-hand arms.  We will have the Kalashnikov,  he said in a speech to troops, adding that Russia wanted to keep the donation secret. Moscow s gift would follow China s donation of more than 6,000 assault rifles and 100 sniper rifles, among the fruits of Duterte s efforts to form partnerships with two arms-producing powers that are rivals to the United States. The United States has for decades been the Philippines  defense treaty ally and its biggest source or hardware and training, providing about $1 billion in equipment since 2000. Duterte has made no secret of his animosity toward Washington and his disdain for the U.S. military alliance. A senior defense official told Reuters the Russian weapons would arrive later this month, when Russia s defense minister attends a regional meeting. The rifles would be accompanied by millions of rounds of ammunition and dozens of army trucks. Five Russian warships were due to visit in Manila to deliver the equipment, the official said. Four have visited the country this year, in two separate visits. Duterte said the military needed to be properly equipped to handle Islamic State loyalists who had established a dangerous foothold in Mindanao in the south.  They will not disappear, they will regroup anywhere and everywhere,  Duterte said.      1 \n",
      "\n",
      "4 MADRID (Reuters) - Catalan pro-independence party PdeCat (Catalan Democratic Party)said on Monday it will take part in a snap regional elections on Dec.21, a tacit admission that Catalonia s previous ruling party had been fired and parliament dissolved. Earlier, another Catalan pro-independence party, Esquerra Republicana de Catalunya (ERC), also said it would participate in the elections. Spain s Prime Minister Mariano Rajoy sacked the regional government, dissolved parliament and called a snap election on Friday after Catalonia leaders made a unilateral declaration of independence.  1 \n",
      "\n",
      "5 MADRID (Reuters) - More than half of Spanish voters favor an early national election, a survey showed on Monday, as support waned for a minority government embroiled in the country s worst political crisis in decades. Prime Minister Mariano Rajoy imposed direct rule on the region of Catalonia after it held an independence referendum on Oct. 1 that Spanish courts had declared illegal. The term of the minority government led by his center-right People s Party (PP) expires in 2020, but 55 percent of respondents in Monday s survey said they wanted a ballot before then. The figure in an equivalent survey in October was 49 percent.  The poll was taken by pollsters Metroscopia for newspaper El Pais newspaper between Nov. 6 and 8 as former Catalan president Carles Puigdemont   whose government was sacked by Rajoy   pursued his campaign for the region s independence from self-imposed exile in Belgium.  Authorities in Madrid have called an election in Catalonia for Dec. 21. Rajoy was given a second term in October 2016 when the PP won the most votes but failed to take a parliament majority. The PP s weakness in parliament has meant the government has struggled to pass legislation, including the 2018 budget. Support for the PP, if the elections were held today, slipped to 26.1 percent in November from 26.9 percent in July. Backing for Ciudadanos (Citizens), a pro-Spanish unity party originally from Catalonia, jumped to 22.7 percent from 18.5 percent, putting it equal second with the Socialists. The poll reflected an official survey taken at the beginning of October that showed support for Ciudadanos had risen during the Catalan crisis, which has become Spaniards  second-largest issue of concern after unemployment. Left-wing Podemos, which supports a negotiated referendum on Catalan independence, saw voting intentions drop to 14.7 percent from 18.7 percent previously, the Metroscopia poll showed.  1 \n",
      "\n",
      "6 DUBAI (Reuters) - The United Arab Emirates is ending the mission of North Korea s non-resident ambassador and terminating its own envoy s services in Pyongyang, its Foreign Ministry said in a statement on Thursday carried by state news agency WAM. The UAE will also stop issuing new visas or company licences to North Korean citizens, WAM said. Several thousand North Korean workers reside in the U.S-allied Gulf region, mainly working on construction sites.  The measures... come within the context of (the UAE s) obligation as a responsible member of the international community to strengthen the international will and to stop the proliferation of nuclear weapons and missile programs,  the Foreign Ministry said. U.S. President Donald Trump urged United Nations member states last month to turn up the pressure on North Korea to give up its nuclear weapons, using his maiden speech to the world body to address what he has said is the top global challenge. North Korea s nuclear tests and missile launches have stirred global tensions and prompted several rounds of international sanctions at the U.N. Security Council. In Washington, the U.S. State Department welcomed the UAE s decision.  Very happy to hear that,  State Department spokesman Heather Nauert told reporters.  There are many countries that are taking those steps that we have asked (them) to take.      The UAE announcement follows similar moves by the UAE s Gulf Arab neighbors Qatar and Kuwait, which last month downgraded their ties with Pyongyang and ceased issuing new visas to North Korean citizens.  1 \n",
      "\n",
      "7 WINSTON-SALEM, N.C. (Reuters) - Minority voters in North Carolina will have a harder time casting a ballot this presidential election year if a judge allows a law requiring photo identification at the polls to take effect, challengers of the law said in federal court on Monday. But a lawyer representing the state said only a small number of people may not have the necessary forms of identification and exceptions will be allowed under an amended version of the measure. “It’s a policy question,” lawyer Thomas Farr said. “The evidence here does not rise anywhere close to showing a discriminatory intent.” The trial in Winston-Salem is one of several closely watched voting rights battles that will play out across the country as Democrats and Republicans fight for the White House in November.  Democrats argue voter ID laws passed by Republican-led state legislatures target voters who typically support the Democratic party. Proponents of the measures say they are intended to prevent voter fraud. The case in North Carolina tests a key piece of broad voting restrictions passed soon after the U.S. Supreme Court ruled in 2013 that states with a history of discrimination no longer needed federal approval for voting law changes affecting minorities. The U.S. Justice Department and National Association for the Advancement of Colored People argue North Carolina’s revised voting protocol disproportionately burdens African-Americans and Hispanics, who are more likely than whites to lack the acceptable forms of identification. The law “threatens to deter, confuse and disenfranchise voters,” said Michael Glick, a lawyer representing the NAACP. “It sets out to solve a problem that never existed.” Last summer, U.S. District Judge Thomas Schroeder heard arguments about the state’s decision to shorten its early voting period, end same-day registration, eliminate pre-registration for 16- and 17-year-olds and stop provisional ballots cast outside the correct precinct from being counted. He has not issued a decision. The voter ID requirement is getting a separate vetting after lawmakers amended it in 2015 ahead of the initial trial. Now voters who cite a “reasonable impediment” to being able to obtain acceptable identification will be allowed to cast a provisional ballot. South Carolina is the only other state with a reasonable impediment provision, Farr said. Challengers said the law remains discriminatory and could give election workers too much discretion. It is unknown if Schroeder will rule before the state’s presidential primaries in March.  1 \n",
      "\n",
      "8 CARACAS (Reuters) - Venezuelan President Nicolas Maduro baited U.S. President Donald Trump on Sunday by thanking him for a barrage of criticism that had made him famous worldwide.   It s an honor that the head of the empire mentions me every day,  said the 54-year-old president, just back in Venezuela from a trip to Russia, Belarus and Turkey.   That means I m doing something right!  Maduro laughed, during his weekly program on state TV. Saying Venezuela has become a corrupt and repressive dictatorship, the U.S. government has widened individual sanctions on top officials including Maduro and also prohibited new debt dealings with Caracas.  Businessman-turned-president Trump has repeatedly criticized Maduro and his Socialist Party in public and at meetings with other heads of state.  Donald Trump has become the head of the Venezuelan opposition,  said Maduro, who has ruled the OPEC member since 2013 but seen his popularity plummet during an economic crisis.  He has made me famous around the world. Every time he mentions me, they love me more,  Maduro added, saying he had been acclaimed by people abroad on his visit to nations who have all had frayed relations with Washington. Maduro said he had a one-and-half hour meeting with Russian President Vladimir Putin where, among other subjects, he discussed the possibility of trading Venezuelan oil in rubles because of the U.S. financial sanctions.   A whole new world is opening up for Venezuela thanks to Trump s sanctions,  said Maduro, who has also said he hopes to move Venezuela s commercial transactions to euros, yen and rupees. On Oct. 15, Maduro s government faces off with Venezuela s opposition in elections for state governors. Maduro used his TV show to accuse foes of sabotaging public services during the campaign, including cutting electricity cables. Appearing next to him on TV, Vice President Tareck el Aissami said that an opposition-linked activist had been arrested for an explosion that injured seven policemen during anti-Maduro protests earlier this year. Venezuela s opposition says the government routinely frames activists by planting explosive materials, arms and money, and invents links between them and criminals, to justify political repression.  1 \n",
      "\n",
      "9 WASHINGTON/LONDON (Reuters) - Republican presidential candidate Donald Trump said on Thursday he thought Britain would be better off out of the European Union, the opposite stance to that taken by his likely rival Hillary Clinton and by many political leaders around the world. Britons will vote in a referendum on June 23 on whether to leave the 28-member EU, a momentous decision with trade, investment, defense and political ramifications that stretch far beyond Britain’s borders. “I would say that they’re better off without it personally, but I’m not making that as a recommendation - just my feeling,” Trump said in an interview with Fox News television, adding that he wanted Britons to make their own decision. “I think the migration has been a horrible thing for Europe. A lot of that was pushed by the EU,” he said, without providing any specifics. Initial reaction to Trump’s comments, which went further than what he had previously said on the subject, was muted in Britain where the focus was on the incoming results of local and regional elections. Given Trump’s controversial statements and his negative image in the eyes of many Europeans, including Britons, it is not clear whether his endorsement would be good, bad or indifferent for Britain’s “Leave” campaign. A spokesman for the campaign declined to comment. U.S. President Barack Obama made a passionate intervention in the EU debate during a visit to London last month, saying EU membership magnified Britain’s role in the world and made it more prosperous. Obama warned Britons their country would find itself “in the back of the queue” for a trade deal with the United States if they voted to leave the EU. The “Remain” camp, led by Prime Minister David Cameron, has repeatedly said that none of Britain’s significant allies wants it to leave the bloc. On Thursday, Japanese Prime Minister Shinzo Abe became the latest foreign leader to say it would be better for Britain and its allies if it remained in the European club. After Obama’s intervention, the “Remain” campaign published an advertisement with side-by-side photos of Obama smiling and Trump with a distorted facial expression and a finger in the air.  The slogan read: “Obama thinks the UK is stronger in Europe. Trump thinks the UK should leave Europe. Whose side are you on?” The image suggested that the official “Remain” campaign viewed Trump as repellent to British voters. A spokesman for the campaign had no immediate comment on Friday.  1 \n",
      "\n",
      "10 Ivanka Trump just proved that she doesn t support pay equality, and the Internet damned her to hell for her hypocrisy.During his presidency, President Obama issued a set of rules designed to help end pay discrimination on the basis of gender and race.The rules would have required employers to give pay data to the Equal Employment Opportunity Commission. Such data would have been used as evidence of pay discrimination which could then be used to shape policies to end such practices.But Donald Trump killed those rules this week and excused his action by claiming that they violate the Paperwork Reduction Act. In short, Trump used a bullshit excuse to hurt women and minorities, and gave employers the power to discriminate at will.One would think that Ivanka Trump would be pissed about this, considering that she frequently claims to be a champion for equal pay. But, no.In fact, daddy s little girl actually backed her dad s decision. Ultimately, while I believe the intention was good and agree that pay transparency is important, the proposed policy would not yield the intended results,  Ivanka said.  We look forward to continuing to work with EEOC, OMB, Congress and all relevant stakeholders on robust policies aimed at eliminating the gender wage gap. Killing evidence-gathering rules actually kills the very transparency Trump claims is  important. Once again, Ivanka Trump proves that when it comes right down to it, she is a hypocrite and is complicit.Ivanka s betrayal of women and minorities drew a sharp rebuke from Twitter users.@IvankaTrump You re a sell out. So much for your BS about fighting for pay, gender, and racial equality. Daddy s girl through and through.  JenBoudreau (@Jen_Boudreau) August 30, 2017@IvankaTrump @IvankaHQ Way to influence @realDonaldTrump on pay equality. #complicit #unqualified #resign https://t.co/k3oLIePEZ4  Angry Dem (@suzeysway1) August 30, 2017@IvankaTrump siding w/racist sexist father on scrapping pay equality measures. Shameful grifter. No end to their deceit  Brian (@BrianAndrewD) August 30, 2017Why??? @IvankaTrump , WTH, I thought you were leading the change for pay equality for women. Do you have no sway with your father? https://t.co/zUr0DPVpYh  Catenigma (@Catenigma) August 30, 2017To Ivanka Trump, at the risk of making her feel even less comfy in DC: Lady! Overturning wage transparency rules won t fix the pay gap  Cate Gormley (@cate_gee) August 30, 2017.#HYPOCRITE & #LIAR @IvankaTrump Backs Dad s Plan 2 Scrap Rules Preventing Pay Discrim n https://t.co/deGNEXHR9VART FOR THE RESISTANCE pic.twitter.com/6EbY6AAofJ  Proudly Liberal (@LiberalProudly) August 30, 2017So much for your promises in your father helping women! Thanks @IvankaTrump!https://t.co/noRo8QnWDi  Zach Filzer (@zacharyfilzer) August 30, 2017Let them Eat Cake: Ivanka Backs Trump Administration s Plan to Scrap Obama Rules Preventing Pay Discrimination https://t.co/HQNmTrt09Q  Herbert (@HHooversGhost) August 30, 2017If she really cared about achieving pay equality, Ivanka Trump would have supported these rules. Instead, she demonstrated that she is nothing more than a collaborator in her dad s sexist and racist administration.Featured Image: Sean Gallup/Getty Images 0 \n",
      "\n"
     ]
    }
   ],
   "source": [
    "for index, row in df.iterrows():\n",
    "    if index > 10:\n",
    "        break\n",
    "    print(index, row['text'], row['class'], '\\n')"
   ]
  },
  {
   "cell_type": "code",
   "execution_count": 15,
   "metadata": {},
   "outputs": [
    {
     "name": "stdout",
     "output_type": "stream",
     "text": [
      "Boos and chants of  Lock her up!  were heard in the crowd assembled at the West Front of the U.S. Capitol Friday morning when defeated Democratic Party presidential nominee Hillary Clinton was introduced at the inaugural ceremony for President-elect Donald Trump.#InaugurationDay Lock her up pic.twitter.com/APVtyyYote  Bill Simms (@Mittens1245) January 20, 2017The crowd on the mall booed when the jumbotron showed a close-up shot of Hillary Clinton at #Inauguration https://t.co/1dvY5lxdKo  gpbnews (@gpbnews) January 20, 2017Some in crowd chanting LOCK HER UP as Hillary Clinton arrives  Jamie Dupree (@jamiedupree) January 20, 2017Via: Gateway Pundit \n"
     ]
    }
   ],
   "source": [
    "example_text = df.iloc[df[df['text'] == 'Boos and chants of  Lock her up!  were heard in the crowd assembled at the West Front of the U.S. Capitol Friday morning when defeated Democratic Party presidential nominee Hillary Clinton was introduced at the inaugural ceremony for President-elect Donald Trump.#InaugurationDay Lock her up pic.twitter.com/APVtyyYote  Bill Simms (@Mittens1245) January 20, 2017The crowd on the mall booed when the jumbotron showed a close-up shot of Hillary Clinton at #Inauguration https://t.co/1dvY5lxdKo  gpbnews (@gpbnews) January 20, 2017Some in crowd chanting LOCK HER UP as Hillary Clinton arrives  Jamie Dupree (@jamiedupree) January 20, 2017Via: Gateway Pundit '].index, 0].values[0]\n",
    "print(example_text)"
   ]
  },
  {
   "attachments": {},
   "cell_type": "markdown",
   "metadata": {},
   "source": [
    "We need to take care about names (i.e. @jamiedupree should be treated as separate token), hash tags (#Inauguration is one token here). Also let's say that we want to keep web sites as one token (pic.twitter.com/APVtyyYote or https://t.co/1dvY5lxdKo)."
   ]
  },
  {
   "cell_type": "code",
   "execution_count": 16,
   "metadata": {},
   "outputs": [
    {
     "name": "stdout",
     "output_type": "stream",
     "text": [
      "Boos and chants of  Lock her up!\n",
      "were heard in the crowd assembled at the West Front of the U.S. Capitol Friday morning when defeated Democratic Party presidential nominee Hillary Clinton was introduced at the inaugural ceremony for President-elect Donald Trump.\n",
      "#InaugurationDay Lock her up pic.twitter.com/APVtyyYote  Bill Simms (@Mittens1245) January 20, 2017The crowd on the mall booed when the jumbotron showed a close-up shot of Hillary Clinton at #Inauguration https://t.co/1dvY5lxdKo  gpbnews (@gpbnews) January 20, 2017Some in crowd chanting LOCK HER UP as Hillary Clinton arrives  Jamie Dupree (@jamiedupree) January 20, 2017Via: Gateway Pundit\n"
     ]
    }
   ],
   "source": [
    "def split_into_sentences(text):\n",
    "    # so the website will not split into two separate sentences by comma:\n",
    "    sentence_endings = re.compile(r'(?<!\\w\\.\\w.)(?<![A-Z][a-z]\\.)(?<=\\.|\\?|!)(?=\\s|[#])')\n",
    "    sentences = sentence_endings.split(text)\n",
    "    sentences = [sentence.strip() for sentence in sentences if sentence.strip()]\n",
    "    return sentences\n",
    "\n",
    "sentences = split_into_sentences(example_text)\n",
    "for sentence in sentences:\n",
    "    print(sentence)"
   ]
  },
  {
   "cell_type": "code",
   "execution_count": 17,
   "metadata": {},
   "outputs": [
    {
     "name": "stdout",
     "output_type": "stream",
     "text": [
      "['Boos', 'and', 'chants', 'of', 'Lock', 'her', 'up', '!']\n",
      "['were', 'heard', 'in', 'the', 'crowd', 'assembled', 'at', 'the', 'West', 'Front', 'of', 'the', 'U', '.', 'S', '.', 'Capitol', 'Friday', 'morning', 'when', 'defeated', 'Democratic', 'Party', 'presidential', 'nominee', 'Hillary', 'Clinton', 'was', 'introduced', 'at', 'the', 'inaugural', 'ceremony', 'for', 'President', '-elect', 'Donald', 'Trump', '.']\n",
      "['#InaugurationDay', 'Lock', 'her', 'up', 'pic.twitter.com/APVtyyYote', 'Bill', 'Simms', '@Mittens1245', 'January', '20', ',', '2017The', 'crowd', 'on', 'the', 'mall', 'booed', 'when', 'the', 'jumbotron', 'showed', 'a', 'close', '-up', 'shot', 'of', 'Hillary', 'Clinton', 'at', '#Inauguration', 'https://t.co/1dvY5lxdKo', 'gpbnews', '@gpbnews', 'January', '20', ',', '2017Some', 'in', 'crowd', 'chanting', 'LOCK', 'HER', 'UP', 'as', 'Hillary', 'Clinton', 'arrives', 'Jamie', 'Dupree', '@jamiedupree', 'January', '20', ',', '2017Via', 'Gateway', 'Pundit']\n"
     ]
    }
   ],
   "source": [
    "def split_into_words(sentences):\n",
    "    # Regular expression to match URLs, hashtags, handles, words, and standalone punctuation\n",
    "    word_pattern = re.compile(r'pic.twitter.com/\\S+|https?://\\S+|www\\.\\S+|\\#\\S+|\\@\\w+|\\b\\w+\\'?\\w*|[\\w\\'-]+|[.,!?;]')\n",
    "    tokenized_sentences = []\n",
    "    for sentence in sentences:\n",
    "        words = word_pattern.findall(sentence)\n",
    "        tokenized_sentences.append(words)\n",
    "    return tokenized_sentences\n",
    "\n",
    "tokenized = split_into_words(sentences)\n",
    "for tokens in tokenized:\n",
    "    print(tokens)"
   ]
  },
  {
   "cell_type": "code",
   "execution_count": 21,
   "metadata": {},
   "outputs": [],
   "source": [
    "def process_text(text):\n",
    "    sentences = split_into_sentences(text)\n",
    "    tokenized = split_into_words(sentences)\n",
    "    return tokenized"
   ]
  },
  {
   "cell_type": "code",
   "execution_count": 22,
   "metadata": {},
   "outputs": [],
   "source": [
    "df['sentences'] = df['text'].apply(process_text)"
   ]
  },
  {
   "cell_type": "code",
   "execution_count": 23,
   "metadata": {},
   "outputs": [
    {
     "data": {
      "text/html": [
       "<div>\n",
       "<style scoped>\n",
       "    .dataframe tbody tr th:only-of-type {\n",
       "        vertical-align: middle;\n",
       "    }\n",
       "\n",
       "    .dataframe tbody tr th {\n",
       "        vertical-align: top;\n",
       "    }\n",
       "\n",
       "    .dataframe thead th {\n",
       "        text-align: right;\n",
       "    }\n",
       "</style>\n",
       "<table border=\"1\" class=\"dataframe\">\n",
       "  <thead>\n",
       "    <tr style=\"text-align: right;\">\n",
       "      <th></th>\n",
       "      <th>text</th>\n",
       "      <th>class</th>\n",
       "      <th>part</th>\n",
       "      <th>sentences</th>\n",
       "    </tr>\n",
       "  </thead>\n",
       "  <tbody>\n",
       "    <tr>\n",
       "      <th>0</th>\n",
       "      <td>Trump and the House GOP suffered a stunning de...</td>\n",
       "      <td>0</td>\n",
       "      <td>test</td>\n",
       "      <td>[[Trump, and, the, House, GOP, suffered, a, st...</td>\n",
       "    </tr>\n",
       "    <tr>\n",
       "      <th>1</th>\n",
       "      <td>LJUBLJANA (Reuters) - Slovenia, birth country ...</td>\n",
       "      <td>1</td>\n",
       "      <td>train</td>\n",
       "      <td>[[LJUBLJANA, Reuters, -, Slovenia, ,, birth, c...</td>\n",
       "    </tr>\n",
       "    <tr>\n",
       "      <th>2</th>\n",
       "      <td>During the 2016 presidential campaign, Preside...</td>\n",
       "      <td>0</td>\n",
       "      <td>test</td>\n",
       "      <td>[[During, the, 2016, presidential, campaign, ,...</td>\n",
       "    </tr>\n",
       "    <tr>\n",
       "      <th>3</th>\n",
       "      <td>MANILA (Reuters) - Philippine President Rodrig...</td>\n",
       "      <td>1</td>\n",
       "      <td>train</td>\n",
       "      <td>[[MANILA, Reuters, -, Philippine, President, R...</td>\n",
       "    </tr>\n",
       "    <tr>\n",
       "      <th>4</th>\n",
       "      <td>MADRID (Reuters) - Catalan pro-independence pa...</td>\n",
       "      <td>1</td>\n",
       "      <td>train</td>\n",
       "      <td>[[MADRID, Reuters, -, Catalan, pro, -independe...</td>\n",
       "    </tr>\n",
       "    <tr>\n",
       "      <th>...</th>\n",
       "      <td>...</td>\n",
       "      <td>...</td>\n",
       "      <td>...</td>\n",
       "      <td>...</td>\n",
       "    </tr>\n",
       "    <tr>\n",
       "      <th>38642</th>\n",
       "      <td>DETROIT (Reuters) - Recording star Kid Rock, a...</td>\n",
       "      <td>1</td>\n",
       "      <td>train</td>\n",
       "      <td>[[DETROIT, Reuters, -, Recording, star, Kid, R...</td>\n",
       "    </tr>\n",
       "    <tr>\n",
       "      <th>38643</th>\n",
       "      <td>He threw the reputation of the FBI under the ...</td>\n",
       "      <td>0</td>\n",
       "      <td>train</td>\n",
       "      <td>[[He, threw, the, reputation, of, the, FBI, un...</td>\n",
       "    </tr>\n",
       "    <tr>\n",
       "      <th>38644</th>\n",
       "      <td>Omarosa Manigault, a senior staff member of Pr...</td>\n",
       "      <td>0</td>\n",
       "      <td>test</td>\n",
       "      <td>[[Omarosa, Manigault, ,, a, senior, staff, mem...</td>\n",
       "    </tr>\n",
       "    <tr>\n",
       "      <th>38645</th>\n",
       "      <td>After Roy Moore s ugly loss in the Alabama Sen...</td>\n",
       "      <td>0</td>\n",
       "      <td>train</td>\n",
       "      <td>[[After, Roy, Moore, s, ugly, loss, in, the, A...</td>\n",
       "    </tr>\n",
       "    <tr>\n",
       "      <th>38646</th>\n",
       "      <td>CLEVELAND (Reuters) - As Republicans spilled i...</td>\n",
       "      <td>1</td>\n",
       "      <td>train</td>\n",
       "      <td>[[CLEVELAND, Reuters, -, As, Republicans, spil...</td>\n",
       "    </tr>\n",
       "  </tbody>\n",
       "</table>\n",
       "<p>38647 rows × 4 columns</p>\n",
       "</div>"
      ],
      "text/plain": [
       "                                                    text  class   part  \\\n",
       "0      Trump and the House GOP suffered a stunning de...      0   test   \n",
       "1      LJUBLJANA (Reuters) - Slovenia, birth country ...      1  train   \n",
       "2      During the 2016 presidential campaign, Preside...      0   test   \n",
       "3      MANILA (Reuters) - Philippine President Rodrig...      1  train   \n",
       "4      MADRID (Reuters) - Catalan pro-independence pa...      1  train   \n",
       "...                                                  ...    ...    ...   \n",
       "38642  DETROIT (Reuters) - Recording star Kid Rock, a...      1  train   \n",
       "38643   He threw the reputation of the FBI under the ...      0  train   \n",
       "38644  Omarosa Manigault, a senior staff member of Pr...      0   test   \n",
       "38645  After Roy Moore s ugly loss in the Alabama Sen...      0  train   \n",
       "38646  CLEVELAND (Reuters) - As Republicans spilled i...      1  train   \n",
       "\n",
       "                                               sentences  \n",
       "0      [[Trump, and, the, House, GOP, suffered, a, st...  \n",
       "1      [[LJUBLJANA, Reuters, -, Slovenia, ,, birth, c...  \n",
       "2      [[During, the, 2016, presidential, campaign, ,...  \n",
       "3      [[MANILA, Reuters, -, Philippine, President, R...  \n",
       "4      [[MADRID, Reuters, -, Catalan, pro, -independe...  \n",
       "...                                                  ...  \n",
       "38642  [[DETROIT, Reuters, -, Recording, star, Kid, R...  \n",
       "38643  [[He, threw, the, reputation, of, the, FBI, un...  \n",
       "38644  [[Omarosa, Manigault, ,, a, senior, staff, mem...  \n",
       "38645  [[After, Roy, Moore, s, ugly, loss, in, the, A...  \n",
       "38646  [[CLEVELAND, Reuters, -, As, Republicans, spil...  \n",
       "\n",
       "[38647 rows x 4 columns]"
      ]
     },
     "execution_count": 23,
     "metadata": {},
     "output_type": "execute_result"
    }
   ],
   "source": [
    "df"
   ]
  },
  {
   "cell_type": "code",
   "execution_count": 25,
   "metadata": {},
   "outputs": [],
   "source": [
    "# df_train, df_test = train_test_split(df, test_size=0.2, random_state=random_seed)"
   ]
  },
  {
   "cell_type": "code",
   "execution_count": 26,
   "metadata": {},
   "outputs": [],
   "source": [
    "model = SentenceTransformer('sentence-transformers/all-MiniLM-L6-v2').to('cuda')"
   ]
  },
  {
   "cell_type": "code",
   "execution_count": 28,
   "metadata": {},
   "outputs": [],
   "source": [
    "def vectorize_sentences(sentences):\n",
    "    joined_sentences = [' '.join(sentence) for sentence in sentences]\n",
    "    return model.encode(joined_sentences)"
   ]
  },
  {
   "cell_type": "code",
   "execution_count": 36,
   "metadata": {},
   "outputs": [
    {
     "name": "stderr",
     "output_type": "stream",
     "text": [
      "100%|██████████| 38647/38647 [05:04<00:00, 127.11it/s]\n"
     ]
    }
   ],
   "source": [
    "df['sentence_vectors'] = df['sentences'].progress_apply(vectorize_sentences)"
   ]
  },
  {
   "cell_type": "code",
   "execution_count": 37,
   "metadata": {},
   "outputs": [
    {
     "data": {
      "text/plain": [
       "(8, 384)"
      ]
     },
     "execution_count": 37,
     "metadata": {},
     "output_type": "execute_result"
    }
   ],
   "source": [
    "df.iloc[0, -1].shape"
   ]
  },
  {
   "cell_type": "code",
   "execution_count": 45,
   "metadata": {},
   "outputs": [],
   "source": [
    "df.to_csv('df.csv')"
   ]
  },
  {
   "cell_type": "code",
   "execution_count": null,
   "metadata": {},
   "outputs": [],
   "source": []
  },
  {
   "cell_type": "code",
   "execution_count": null,
   "metadata": {},
   "outputs": [],
   "source": []
  },
  {
   "cell_type": "code",
   "execution_count": null,
   "metadata": {},
   "outputs": [],
   "source": []
  },
  {
   "cell_type": "code",
   "execution_count": null,
   "metadata": {},
   "outputs": [],
   "source": []
  }
 ],
 "metadata": {
  "kernelspec": {
   "display_name": "py38_clone",
   "language": "python",
   "name": "python3"
  },
  "language_info": {
   "codemirror_mode": {
    "name": "ipython",
    "version": 3
   },
   "file_extension": ".py",
   "mimetype": "text/x-python",
   "name": "python",
   "nbconvert_exporter": "python",
   "pygments_lexer": "ipython3",
   "version": "3.8.5"
  },
  "orig_nbformat": 4
 },
 "nbformat": 4,
 "nbformat_minor": 2
}
