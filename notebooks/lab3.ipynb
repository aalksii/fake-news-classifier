{
 "cells": [
  {
   "attachments": {},
   "cell_type": "markdown",
   "metadata": {},
   "source": [
    "# Laboratory work #3 (text vectorization)"
   ]
  },
  {
   "cell_type": "code",
   "execution_count": 1,
   "metadata": {},
   "outputs": [
    {
     "name": "stderr",
     "output_type": "stream",
     "text": [
      "[nltk_data] Downloading package punkt to /Users/aleksei/nltk_data...\n",
      "[nltk_data]   Package punkt is already up-to-date!\n",
      "[nltk_data] Downloading package stopwords to\n",
      "[nltk_data]     /Users/aleksei/nltk_data...\n",
      "[nltk_data]   Package stopwords is already up-to-date!\n"
     ]
    }
   ],
   "source": [
    "import re\n",
    "import os\n",
    "from collections import defaultdict, Counter\n",
    "import string\n",
    "\n",
    "from pathlib import Path\n",
    "import pandas as pd\n",
    "import nltk\n",
    "from nltk.corpus import stopwords\n",
    "nltk.download('punkt')\n",
    "nltk.download('stopwords')\n",
    "stop_words = set(stopwords.words('english'))\n",
    "\n",
    "\n",
    "import matplotlib.pyplot as plt\n",
    "from pandas.errors import EmptyDataError\n",
    "import numpy as np\n",
    "from math import log1p\n",
    "import gensim"
   ]
  },
  {
   "cell_type": "code",
   "execution_count": 2,
   "metadata": {},
   "outputs": [],
   "source": [
    "def read_files(root_dir, n=None):\n",
    "    file_paths = []\n",
    "    \n",
    "    for subdir, dirs, files in os.walk(root_dir):\n",
    "        for file in files:\n",
    "            if file.endswith('.tsv'):\n",
    "                file_paths.append(os.path.join(subdir, file))\n",
    "\n",
    "    data = []\n",
    "    for i, file_path in enumerate(file_paths):\n",
    "        if n is not None and i >= n:\n",
    "            break\n",
    "        try:\n",
    "            d = pd.read_csv(file_path, sep='\\t', header=None)\n",
    "            d.columns = ['Token', 'Stem', 'Lemma']\n",
    "        except EmptyDataError as e:\n",
    "            print(i, file_path, e)\n",
    "        data.append(d.dropna())\n",
    "        \n",
    "    \n",
    "    ids = [os.path.splitext(os.path.basename(path))[0] for path in file_paths]\n",
    "    return ids, data"
   ]
  },
  {
   "cell_type": "code",
   "execution_count": 4,
   "metadata": {},
   "outputs": [
    {
     "name": "stdout",
     "output_type": "stream",
     "text": [
      "2209 ../assets/annotated-corpus/test/fake/1382.tsv No columns to parse from file\n"
     ]
    }
   ],
   "source": [
    "train_ids, train = read_files('../assets/annotated-corpus/train', \n",
    "                   1000\n",
    "                   )\n",
    "# val_ids, val = read_files('../assets/annotated-corpus/val', \n",
    "#                 #  100\n",
    "#                  )\n",
    "test_ids, test = read_files('../assets/annotated-corpus/test', \n",
    "                #   100\n",
    "                  )"
   ]
  },
  {
   "cell_type": "code",
   "execution_count": 5,
   "metadata": {},
   "outputs": [
    {
     "data": {
      "text/html": [
       "<div>\n",
       "<style scoped>\n",
       "    .dataframe tbody tr th:only-of-type {\n",
       "        vertical-align: middle;\n",
       "    }\n",
       "\n",
       "    .dataframe tbody tr th {\n",
       "        vertical-align: top;\n",
       "    }\n",
       "\n",
       "    .dataframe thead th {\n",
       "        text-align: right;\n",
       "    }\n",
       "</style>\n",
       "<table border=\"1\" class=\"dataframe\">\n",
       "  <thead>\n",
       "    <tr style=\"text-align: right;\">\n",
       "      <th></th>\n",
       "      <th>Token</th>\n",
       "      <th>Stem</th>\n",
       "      <th>Lemma</th>\n",
       "    </tr>\n",
       "  </thead>\n",
       "  <tbody>\n",
       "    <tr>\n",
       "      <th>0</th>\n",
       "      <td>WASHINGTON</td>\n",
       "      <td>washington</td>\n",
       "      <td>WASHINGTON</td>\n",
       "    </tr>\n",
       "    <tr>\n",
       "      <th>1</th>\n",
       "      <td>Reuters</td>\n",
       "      <td>reuter</td>\n",
       "      <td>Reuters</td>\n",
       "    </tr>\n",
       "    <tr>\n",
       "      <th>2</th>\n",
       "      <td>-</td>\n",
       "      <td>-</td>\n",
       "      <td>-</td>\n",
       "    </tr>\n",
       "    <tr>\n",
       "      <th>3</th>\n",
       "      <td>The</td>\n",
       "      <td>the</td>\n",
       "      <td>The</td>\n",
       "    </tr>\n",
       "    <tr>\n",
       "      <th>4</th>\n",
       "      <td>U</td>\n",
       "      <td>u</td>\n",
       "      <td>U</td>\n",
       "    </tr>\n",
       "  </tbody>\n",
       "</table>\n",
       "</div>"
      ],
      "text/plain": [
       "        Token        Stem       Lemma\n",
       "0  WASHINGTON  washington  WASHINGTON\n",
       "1     Reuters      reuter     Reuters\n",
       "2           -           -           -\n",
       "3         The         the         The\n",
       "4           U           u           U"
      ]
     },
     "execution_count": 5,
     "metadata": {},
     "output_type": "execute_result"
    }
   ],
   "source": [
    "train[0].head()"
   ]
  },
  {
   "cell_type": "code",
   "execution_count": 6,
   "metadata": {},
   "outputs": [
    {
     "data": {
      "text/plain": [
       "'!\"#$%&\\'()*+,-./:;<=>?@[\\\\]^_`{|}~'"
      ]
     },
     "execution_count": 6,
     "metadata": {},
     "output_type": "execute_result"
    }
   ],
   "source": [
    "string.punctuation"
   ]
  },
  {
   "cell_type": "code",
   "execution_count": 7,
   "metadata": {},
   "outputs": [],
   "source": [
    "def is_valid_token(token, token_frequencies, min_frequency=2):\n",
    "    if token in string.punctuation:\n",
    "        return False\n",
    "    if token.lower() in stop_words:\n",
    "        return False\n",
    "    if token_frequencies[token] < min_frequency:\n",
    "        return False\n",
    "    return True\n",
    "\n",
    "\n",
    "def get_freqs(dfs):\n",
    "    token_frequencies = Counter()\n",
    "    term_document_matrix = defaultdict(lambda: defaultdict(int))\n",
    "\n",
    "    for doc_id, df in enumerate(dfs):\n",
    "        tokens = df['Token'].tolist()\n",
    "        token_frequencies.update(tokens)\n",
    "\n",
    "        for token in tokens:\n",
    "            if is_valid_token(token, token_frequencies):\n",
    "                term_document_matrix[doc_id][token] += 1\n",
    "                \n",
    "    # filter all tokens that return is_valid_token False\n",
    "    token_frequencies = Counter(dict({(token, freq) for (token, freq) in token_frequencies.items() if is_valid_token(token, token_frequencies)}))\n",
    "\n",
    "    for doc_id, terms in term_document_matrix.items():\n",
    "        term_document_matrix[doc_id] = {token: freq for token, freq in terms.items() if is_valid_token(token, token_frequencies)}\n",
    "\n",
    "    return token_frequencies, term_document_matrix"
   ]
  },
  {
   "cell_type": "code",
   "execution_count": 8,
   "metadata": {},
   "outputs": [
    {
     "data": {
      "text/plain": [
       "[('said', 4498),\n",
       " ('Trump', 2440),\n",
       " ('U', 1938),\n",
       " ('would', 1439),\n",
       " ('Reuters', 1368),\n",
       " ('President', 882),\n",
       " ('government', 843),\n",
       " ('Republican', 751),\n",
       " ('also', 705),\n",
       " ('House', 697),\n",
       " ('United', 685),\n",
       " ('people', 658),\n",
       " ('told', 646),\n",
       " ('could', 644),\n",
       " ('state', 598),\n",
       " ('States', 587),\n",
       " ('percent', 543),\n",
       " ('year', 534),\n",
       " ('two', 520),\n",
       " ('last', 516)]"
      ]
     },
     "execution_count": 8,
     "metadata": {},
     "output_type": "execute_result"
    }
   ],
   "source": [
    "token_frequencies, term_document_matrix = get_freqs(train)\n",
    "token_frequencies.most_common(20)"
   ]
  },
  {
   "cell_type": "code",
   "execution_count": 9,
   "metadata": {},
   "outputs": [
    {
     "data": {
      "text/plain": [
       "{'Reuters': 3,\n",
       " 'U': 3,\n",
       " 'State': 3,\n",
       " 'Department': 2,\n",
       " 'certified': 2,\n",
       " 'government': 3,\n",
       " 'corruption': 3,\n",
       " 'rights': 2,\n",
       " 'Honduras': 8,\n",
       " 'receive': 2,\n",
       " 'millions': 2,\n",
       " 'dollars': 2,\n",
       " 'aid': 2,\n",
       " 'document': 2,\n",
       " 'seen': 3,\n",
       " 'showed': 2,\n",
       " 'Monday': 2,\n",
       " 'election': 3,\n",
       " 'violent': 2,\n",
       " 'winner': 2,\n",
       " 'week': 2,\n",
       " 'certification': 2,\n",
       " 'congressional': 2,\n",
       " 'President': 4,\n",
       " 'Trump': 2,\n",
       " 'administration': 2,\n",
       " 'taking': 3,\n",
       " 'one': 3,\n",
       " 'officials': 2,\n",
       " 'requirements': 2,\n",
       " 'Congress': 2,\n",
       " 'governments': 2,\n",
       " 'including': 2,\n",
       " 'former': 4,\n",
       " 'opposition': 2,\n",
       " 'Salvador': 2,\n",
       " 'victory': 2,\n",
       " 'Hernandez': 4,\n",
       " 'Nasralla': 3}"
      ]
     },
     "execution_count": 9,
     "metadata": {},
     "output_type": "execute_result"
    }
   ],
   "source": [
    "term_document_matrix[0]"
   ]
  },
  {
   "cell_type": "code",
   "execution_count": 9,
   "metadata": {},
   "outputs": [],
   "source": [
    "data_dir = Path('../assets/data/')\n",
    "data_dir.mkdir(parents=True, exist_ok=True)\n",
    "with open(data_dir / 'token_frequencies.tsv', 'w', encoding='utf-8') as file:\n",
    "    for token, freq in token_frequencies.items():\n",
    "        if is_valid_token(token, token_frequencies):\n",
    "            file.write(f'{token}\\t{freq}\\n')\n",
    "\n",
    "with open(data_dir / 'term_document_matrix.tsv', 'w', encoding='utf-8') as file:\n",
    "    for doc_id, terms in term_document_matrix.items():\n",
    "        for token, freq in terms.items():\n",
    "            file.write(f'{doc_id}\\t{token}\\t{freq}\\n')"
   ]
  },
  {
   "cell_type": "code",
   "execution_count": 10,
   "metadata": {},
   "outputs": [],
   "source": [
    "data_dir = Path('../assets/data/')\n",
    "\n",
    "token_frequencies = {}\n",
    "with open(data_dir / 'token_frequencies.tsv', 'r', encoding='utf-8') as file:\n",
    "    for line in file:\n",
    "        token, freq = line.strip().split('\\t')\n",
    "        token_frequencies[token] = int(freq)\n",
    "\n",
    "term_document_matrix = {}\n",
    "with open(data_dir / 'term_document_matrix.tsv', 'r', encoding='utf-8') as file:\n",
    "    for line in file:\n",
    "        doc_id, token, freq = line.strip().split('\\t')\n",
    "        doc_id = int(doc_id)\n",
    "        freq = int(freq)\n",
    "        if doc_id not in term_document_matrix:\n",
    "            term_document_matrix[doc_id] = {}\n",
    "        term_document_matrix[doc_id][token] = freq"
   ]
  },
  {
   "cell_type": "code",
   "execution_count": 10,
   "metadata": {},
   "outputs": [
    {
     "data": {
      "text/plain": [
       "{'Reuters': 3,\n",
       " 'U': 3,\n",
       " 'State': 3,\n",
       " 'Department': 2,\n",
       " 'certified': 2,\n",
       " 'government': 3,\n",
       " 'corruption': 3,\n",
       " 'rights': 2,\n",
       " 'Honduras': 8,\n",
       " 'receive': 2,\n",
       " 'millions': 2,\n",
       " 'dollars': 2,\n",
       " 'aid': 2,\n",
       " 'document': 2,\n",
       " 'seen': 3,\n",
       " 'showed': 2,\n",
       " 'Monday': 2,\n",
       " 'election': 3,\n",
       " 'violent': 2,\n",
       " 'winner': 2,\n",
       " 'week': 2,\n",
       " 'certification': 2,\n",
       " 'congressional': 2,\n",
       " 'President': 4,\n",
       " 'Trump': 2,\n",
       " 'administration': 2,\n",
       " 'taking': 3,\n",
       " 'one': 3,\n",
       " 'officials': 2,\n",
       " 'requirements': 2,\n",
       " 'Congress': 2,\n",
       " 'governments': 2,\n",
       " 'including': 2,\n",
       " 'former': 4,\n",
       " 'opposition': 2,\n",
       " 'Salvador': 2,\n",
       " 'victory': 2,\n",
       " 'Hernandez': 4,\n",
       " 'Nasralla': 3}"
      ]
     },
     "execution_count": 10,
     "metadata": {},
     "output_type": "execute_result"
    }
   ],
   "source": [
    "term_document_matrix[0]"
   ]
  },
  {
   "cell_type": "code",
   "execution_count": 11,
   "metadata": {},
   "outputs": [],
   "source": [
    "def get_term_document_vector(token, term_document_matrix):\n",
    "    vector = []\n",
    "    for k, v in term_document_matrix.items():\n",
    "        freq = v.get(token, 0)\n",
    "        vector.append(freq)\n",
    "    return vector"
   ]
  },
  {
   "cell_type": "code",
   "execution_count": 12,
   "metadata": {},
   "outputs": [
    {
     "data": {
      "text/plain": [
       "[3, 1, 1, 1, 1]"
      ]
     },
     "execution_count": 12,
     "metadata": {},
     "output_type": "execute_result"
    }
   ],
   "source": [
    "get_term_document_vector('Reuters', term_document_matrix)[:5]"
   ]
  },
  {
   "cell_type": "code",
   "execution_count": 13,
   "metadata": {},
   "outputs": [
    {
     "data": {
      "text/plain": [
       "[0, 0, 0, 0, 0]"
      ]
     },
     "execution_count": 13,
     "metadata": {},
     "output_type": "execute_result"
    }
   ],
   "source": [
    "get_term_document_vector('cat', term_document_matrix)[:5]"
   ]
  },
  {
   "cell_type": "code",
   "execution_count": 14,
   "metadata": {},
   "outputs": [],
   "source": [
    "def preprocess_text(text):\n",
    "    def split_into_sentences(text):\n",
    "        # so the website will not split into two separate sentences by comma:\n",
    "        sentence_endings = re.compile(r'(?<!\\w\\.\\w.)(?<![A-Z][a-z]\\.)(?<=\\.|\\?|!)(?=\\s|[#])')\n",
    "        sentences = sentence_endings.split(text)\n",
    "        sentences = [sentence.strip() for sentence in sentences if sentence.strip()]\n",
    "        return sentences\n",
    "    \n",
    "    def split_into_words(sentences):\n",
    "        # regular expression to match complex URLs, simple URLs, hashtags, Twitter handles, and words\n",
    "        word_pattern = re.compile(r'pic.twitter.com/\\S+|https?://\\S+|www\\.\\S+|\\#\\S+|\\@\\w+|\\b\\w+\\'?\\w*|-?\\w+\\'?\\w*')\n",
    "        tokenized_sentences = []\n",
    "        for sentence in sentences:\n",
    "            words = word_pattern.findall(sentence)\n",
    "            tokenized_sentences.append(words)\n",
    "        return tokenized_sentences\n",
    "\n",
    "    sentences = split_into_sentences(text)\n",
    "    tokenized = split_into_words(sentences)\n",
    "    return tokenized"
   ]
  },
  {
   "cell_type": "code",
   "execution_count": 15,
   "metadata": {},
   "outputs": [],
   "source": [
    "def compute_tf(sentence_tokens, token):\n",
    "    return sentence_tokens.count(token) / len(sentence_tokens)\n",
    "\n",
    "\n",
    "def compute_idf(token, term_document_matrix, total_documents):\n",
    "    doc_count = sum(1 for doc in term_document_matrix if token in term_document_matrix[doc])\n",
    "    return log1p(total_documents / (1 + doc_count))\n",
    "\n",
    "\n",
    "def process_text_and_create_matrices(text, token_frequencies, term_document_matrix):\n",
    "    tokenized_sentences = preprocess_text(text)\n",
    "    total_documents = len(term_document_matrix)\n",
    "    vocabulary = sorted(token_frequencies.keys())\n",
    "\n",
    "    max_sentence_length = max(len(sentence) for sentence in tokenized_sentences)\n",
    "\n",
    "    frequency_matrix = []\n",
    "    tfidf_matrix = []\n",
    "\n",
    "    for sentence in tokenized_sentences:\n",
    "        sentence_freq_vector = [0] * max_sentence_length\n",
    "        sentence_tfidf_vector = [0] * max_sentence_length\n",
    "\n",
    "        for i, token in enumerate(sentence):\n",
    "            if token in vocabulary:\n",
    "                tf = compute_tf(sentence, token)\n",
    "                idf = compute_idf(token, term_document_matrix, total_documents)\n",
    "\n",
    "                sentence_freq_vector[i] = tf\n",
    "                sentence_tfidf_vector[i] = tf * idf\n",
    "\n",
    "        frequency_matrix.append(sentence_freq_vector)\n",
    "        tfidf_matrix.append(sentence_tfidf_vector)\n",
    "\n",
    "    frequency_matrix = np.array(frequency_matrix)\n",
    "    tfidf_matrix = np.array(tfidf_matrix)\n",
    "\n",
    "    document_vector_freq = np.mean(frequency_matrix, axis=0)\n",
    "    document_vector_tfidf = np.mean(tfidf_matrix, axis=0)\n",
    "\n",
    "    return document_vector_freq, document_vector_tfidf"
   ]
  },
  {
   "cell_type": "code",
   "execution_count": 16,
   "metadata": {},
   "outputs": [
    {
     "name": "stdout",
     "output_type": "stream",
     "text": [
      "Boos and chants of  Lock her up!  were heard in the crowd assembled at the West Front of the U.S. Capitol Friday morning when defeated Democratic Party presidential nominee Hillary Clinton was introduced at the inaugural ceremony for President-elect Donald Trump.#InaugurationDay Lock her up pic.twitter.com/APVtyyYote  Bill Simms (@Mittens1245) January 20, 2017The crowd on the mall booed when the jumbotron showed a close-up shot of Hillary Clinton at #Inauguration https://t.co/1dvY5lxdKo  gpbnews (@gpbnews) January 20, 2017Some in crowd chanting LOCK HER UP as Hillary Clinton arrives  Jamie Dupree (@jamiedupree) January 20, 2017Via: Gateway Pundit \n"
     ]
    }
   ],
   "source": [
    "text = 'Boos and chants of  Lock her up!  were heard in the crowd assembled at the West Front of the U.S. Capitol Friday morning when defeated Democratic Party presidential nominee Hillary Clinton was introduced at the inaugural ceremony for President-elect Donald Trump.#InaugurationDay Lock her up pic.twitter.com/APVtyyYote  Bill Simms (@Mittens1245) January 20, 2017The crowd on the mall booed when the jumbotron showed a close-up shot of Hillary Clinton at #Inauguration https://t.co/1dvY5lxdKo  gpbnews (@gpbnews) January 20, 2017Some in crowd chanting LOCK HER UP as Hillary Clinton arrives  Jamie Dupree (@jamiedupree) January 20, 2017Via: Gateway Pundit '\n",
    "print(text)"
   ]
  },
  {
   "cell_type": "code",
   "execution_count": 17,
   "metadata": {},
   "outputs": [
    {
     "data": {
      "text/plain": [
       "((53,), (53,))"
      ]
     },
     "execution_count": 17,
     "metadata": {},
     "output_type": "execute_result"
    }
   ],
   "source": [
    "document_vector_freq, document_vector_tfidf = process_text_and_create_matrices(text, token_frequencies, term_document_matrix)\n",
    "document_vector_freq.shape, document_vector_tfidf.shape"
   ]
  },
  {
   "cell_type": "code",
   "execution_count": 18,
   "metadata": {},
   "outputs": [
    {
     "data": {
      "text/plain": [
       "array([0.        , 0.00925926, 0.04761905, 0.        , 0.00925926,\n",
       "       0.00628931, 0.        , 0.        , 0.02812718, 0.02812718,\n",
       "       0.        , 0.01257862, 0.00925926, 0.        , 0.00925926,\n",
       "       0.00925926, 0.00925926, 0.        , 0.00925926, 0.01554857,\n",
       "       0.00925926, 0.01554857, 0.01554857, 0.01554857, 0.00925926,\n",
       "       0.01257862, 0.02183788, 0.        , 0.        , 0.00925926,\n",
       "       0.00925926, 0.        , 0.02812718, 0.02812718, 0.00925926,\n",
       "       0.00925926, 0.01257862, 0.00628931, 0.        , 0.        ,\n",
       "       0.        , 0.        , 0.01257862, 0.01257862, 0.        ,\n",
       "       0.00628931, 0.        , 0.        , 0.01886792, 0.01886792,\n",
       "       0.        , 0.        , 0.        ])"
      ]
     },
     "execution_count": 18,
     "metadata": {},
     "output_type": "execute_result"
    }
   ],
   "source": [
    "document_vector_freq"
   ]
  },
  {
   "cell_type": "code",
   "execution_count": 19,
   "metadata": {},
   "outputs": [
    {
     "data": {
      "text/plain": [
       "array([0.        , 0.03336265, 0.29602886, 0.        , 0.03304673,\n",
       "       0.02064435, 0.        , 0.        , 0.08169652, 0.08886944,\n",
       "       0.        , 0.04489367, 0.00876609, 0.        , 0.04185926,\n",
       "       0.01586091, 0.02994782, 0.        , 0.04106275, 0.03311441,\n",
       "       0.02228737, 0.03041956, 0.04741797, 0.04646397, 0.02155723,\n",
       "       0.02993596, 0.0652484 , 0.        , 0.        , 0.04910468,\n",
       "       0.03596311, 0.        , 0.06131343, 0.07238644, 0.01099263,\n",
       "       0.01077756, 0.04489367, 0.03475128, 0.        , 0.        ,\n",
       "       0.        , 0.        , 0.02993596, 0.02928529, 0.        ,\n",
       "       0.03125044, 0.        , 0.        , 0.05196293, 0.04286184,\n",
       "       0.        , 0.        , 0.        ])"
      ]
     },
     "execution_count": 19,
     "metadata": {},
     "output_type": "execute_result"
    }
   ],
   "source": [
    "document_vector_tfidf"
   ]
  },
  {
   "cell_type": "code",
   "execution_count": 20,
   "metadata": {},
   "outputs": [],
   "source": [
    "train_texts = [[token for token in ds['Token'].to_list() if token in token_frequencies.keys() and is_valid_token(token, token_frequencies)] for ds in train]"
   ]
  },
  {
   "cell_type": "code",
   "execution_count": 21,
   "metadata": {},
   "outputs": [
    {
     "data": {
      "text/plain": [
       "['WASHINGTON',\n",
       " 'Reuters',\n",
       " 'U',\n",
       " 'State',\n",
       " 'Department',\n",
       " 'certified',\n",
       " 'Honduran',\n",
       " 'government',\n",
       " 'fighting',\n",
       " 'corruption']"
      ]
     },
     "execution_count": 21,
     "metadata": {},
     "output_type": "execute_result"
    }
   ],
   "source": [
    "train_texts[0][:10]"
   ]
  },
  {
   "cell_type": "code",
   "execution_count": 22,
   "metadata": {},
   "outputs": [],
   "source": [
    "model = gensim.models.Word2Vec(sentences=train_texts, vector_size=30, window=5, min_count=2, workers=4)"
   ]
  },
  {
   "cell_type": "code",
   "execution_count": 23,
   "metadata": {},
   "outputs": [],
   "source": [
    "Path('../models/').mkdir(parents=True, exist_ok=True)\n",
    "model_path = '../models/word2vec.model'\n",
    "model.save(model_path)"
   ]
  },
  {
   "cell_type": "code",
   "execution_count": 24,
   "metadata": {},
   "outputs": [
    {
     "name": "stdout",
     "output_type": "stream",
     "text": [
      "Word: 351\n",
      "Close: 366 340 369\n",
      "Same area 32 136 355\n",
      "Other semantic 54 54 51\n"
     ]
    }
   ],
   "source": [
    "print('Word:', token_frequencies['Monday'])\n",
    "print('Close:', token_frequencies['Tuesday'], token_frequencies['Wednesday'], token_frequencies['Thursday'])\n",
    "print('Same area', token_frequencies['weekend'], token_frequencies['day'], token_frequencies['week'])\n",
    "print('Other semantic', token_frequencies['funds'], token_frequencies['town'], token_frequencies['territory'])"
   ]
  },
  {
   "cell_type": "code",
   "execution_count": 25,
   "metadata": {},
   "outputs": [
    {
     "name": "stdout",
     "output_type": "stream",
     "text": [
      "Word: 30\n",
      "Close: 25 13 11\n",
      "Same area 197 59 12\n",
      "Other semantic 357 51 46\n"
     ]
    }
   ],
   "source": [
    "print('Word:', token_frequencies['north'])\n",
    "print('Close:', token_frequencies['south'], token_frequencies['west'], token_frequencies['east'])\n",
    "print('Same area', token_frequencies['world'], token_frequencies['side'], token_frequencies['direction'])\n",
    "print('Other semantic', token_frequencies['party'], token_frequencies['senator'], token_frequencies['husband'])"
   ]
  },
  {
   "cell_type": "code",
   "execution_count": 26,
   "metadata": {},
   "outputs": [
    {
     "name": "stdout",
     "output_type": "stream",
     "text": [
      "Word: 53\n",
      "Close: 19 49 90\n",
      "Same area 81 12 190\n",
      "Other semantic 2440 103 282\n"
     ]
    }
   ],
   "source": [
    "print('Word:', token_frequencies['Spain'])\n",
    "print('Close:', token_frequencies['Madrid'], token_frequencies['Catalonia'], token_frequencies['Europe'])\n",
    "print('Same area', token_frequencies['Brexit'], token_frequencies['kingdom'], token_frequencies['EU'])\n",
    "print('Other semantic', token_frequencies['Trump'], token_frequencies['Twitter'], token_frequencies['Korea'])"
   ]
  },
  {
   "cell_type": "code",
   "execution_count": 27,
   "metadata": {},
   "outputs": [
    {
     "name": "stdout",
     "output_type": "stream",
     "text": [
      "Cosine distances for \"Monday\":\n",
      "\tSimilar: {'Tuesday': 0.98521554, 'Wednesday': 0.9956391, 'Thursday': 0.99442405}\n",
      "\tRelated: {'weekend': 0.9199952, 'day': 0.9706025, 'week': 0.8846852}\n",
      "\tUnrelated: {'funds': 0.8974621, 'town': 0.9121232, 'territory': 0.9063075}\n",
      "Cosine distances for \"north\":\n",
      "\tSimilar: {'south': 0.9950781, 'west': 0.9908334, 'east': 0.9901164}\n",
      "\tRelated: {'world': 0.9888181, 'side': 0.9933237, 'direction': 0.9749533}\n",
      "\tUnrelated: {'party': 0.96269864, 'senator': 0.9135714, 'husband': 0.9536501}\n",
      "Cosine distances for \"Spain\":\n",
      "\tSimilar: {'Madrid': 0.9944941, 'Catalonia': 0.99844, 'Europe': 0.9946334}\n",
      "\tRelated: {'Brexit': 0.99536973, 'kingdom': 0.9904338, 'EU': 0.98713017}\n",
      "\tUnrelated: {'Trump': 0.7496816, 'Twitter': 0.9833913, 'Korea': 0.5986631}\n"
     ]
    }
   ],
   "source": [
    "def cosine_similarity(vec_a, vec_b):\n",
    "    dot_product = np.dot(vec_a, vec_b)\n",
    "    norm_a = np.linalg.norm(vec_a)\n",
    "    norm_b = np.linalg.norm(vec_b)\n",
    "    return dot_product / (norm_a * norm_b)\n",
    "\n",
    "\n",
    "words_to_analyze = ['Monday', 'north', 'Spain']\n",
    "similar_words = {\n",
    "    'Monday': ['Tuesday', 'Wednesday', 'Thursday'], \n",
    "    'north': ['south', 'west', 'east'],\n",
    "    'Spain': ['Madrid', 'Catalonia', 'Europe']\n",
    "}\n",
    "\n",
    "related_words = {\n",
    "    'Monday': ['weekend', 'day', 'week'], \n",
    "    'north': ['world', 'side', 'direction'],\n",
    "    'Spain': ['Brexit', 'kingdom', 'EU']\n",
    "}\n",
    "\n",
    "unrelated_words = {\n",
    "    'Monday': ['funds', 'town', 'territory'], \n",
    "    'north': ['party', 'senator', 'husband'],\n",
    "    'Spain': ['Trump', 'Twitter', 'Korea']\n",
    "}\n",
    "\n",
    "for word in words_to_analyze:\n",
    "    word_vec = model.wv[word]\n",
    "    print(f'Cosine distances for \"{word}\":')\n",
    "    for group, words in [('Similar', similar_words), ('Related', related_words), ('Unrelated', unrelated_words)]:\n",
    "        distances = {target_word: cosine_similarity(word_vec, model.wv[target_word]) for target_word in words[word]}\n",
    "        print(f'\\t{group}: {distances}')"
   ]
  },
  {
   "cell_type": "code",
   "execution_count": 28,
   "metadata": {},
   "outputs": [
    {
     "name": "stdout",
     "output_type": "stream",
     "text": [
      "Cosine distances for \"Monday\":\n",
      "\tSimilar: {'Tuesday': 0.24013497172980114, 'Wednesday': 0.09500680105219181, 'Thursday': 0.12213416677724975}\n",
      "\tRelated: {'weekend': 0.20891954827216885, 'day': 0.20346547637930487, 'week': 0.29776708853401584}\n",
      "\tUnrelated: {'funds': 0.10768513954141816, 'town': 0.1068187511177002, 'territory': 0.09110917257960921}\n",
      "Cosine distances for \"north\":\n",
      "\tSimilar: {'south': 0.24262373970773643, 'west': 0.04075695729696112, 'east': 0.14467284665112365}\n",
      "\tRelated: {'world': 0.022649412708342614, 'side': 0.04933303124557308, 'direction': 0.13794014696151088}\n",
      "\tUnrelated: {'party': 0.0571824055100569, 'senator': 0.0, 'husband': 0.0}\n",
      "Cosine distances for \"Spain\":\n",
      "\tSimilar: {'Madrid': 0.6707700464776317, 'Catalonia': 0.8567311328463756, 'Europe': 0.09002191295904333}\n",
      "\tRelated: {'Brexit': 0.0, 'kingdom': 0.0, 'EU': 0.09194621406122841}\n",
      "\tUnrelated: {'Trump': 0.0019796542475018055, 'Twitter': 0.0, 'Korea': 0.0}\n"
     ]
    }
   ],
   "source": [
    "for word in words_to_analyze:\n",
    "    word_vec = get_term_document_vector(word, term_document_matrix)\n",
    "    print(f'Cosine distances for \"{word}\":')\n",
    "    for group, words in [('Similar', similar_words), ('Related', related_words), ('Unrelated', unrelated_words)]:\n",
    "        distances = {target_word: cosine_similarity(word_vec, get_term_document_vector(target_word, term_document_matrix)) for target_word in words[word]}\n",
    "        print(f'\\t{group}: {distances}')"
   ]
  },
  {
   "cell_type": "code",
   "execution_count": 29,
   "metadata": {},
   "outputs": [],
   "source": [
    "term_document_df = np.zeros((len(token_frequencies), len(term_document_matrix)))"
   ]
  },
  {
   "cell_type": "code",
   "execution_count": 30,
   "metadata": {},
   "outputs": [
    {
     "data": {
      "text/plain": [
       "(13011, 1000)"
      ]
     },
     "execution_count": 30,
     "metadata": {},
     "output_type": "execute_result"
    }
   ],
   "source": [
    "term_document_df.shape"
   ]
  },
  {
   "cell_type": "code",
   "execution_count": 31,
   "metadata": {},
   "outputs": [
    {
     "name": "stdout",
     "output_type": "stream",
     "text": [
      "0\n",
      "1000\n",
      "2000\n",
      "3000\n",
      "4000\n",
      "5000\n",
      "6000\n",
      "7000\n",
      "8000\n",
      "9000\n",
      "10000\n",
      "11000\n",
      "12000\n",
      "13000\n"
     ]
    }
   ],
   "source": [
    "for i, term in enumerate(token_frequencies.keys()):\n",
    "    if i % 1000 == 0:\n",
    "        print(i)\n",
    "    term_document_df[i, :] = np.array(get_term_document_vector(term, term_document_matrix), dtype=np.float16)"
   ]
  },
  {
   "cell_type": "code",
   "execution_count": 32,
   "metadata": {},
   "outputs": [],
   "source": [
    "# term_document_df_ = term_document_df[:5000, :]"
   ]
  },
  {
   "cell_type": "code",
   "execution_count": 33,
   "metadata": {},
   "outputs": [
    {
     "data": {
      "text/plain": [
       "(13011, 30)"
      ]
     },
     "execution_count": 33,
     "metadata": {},
     "output_type": "execute_result"
    }
   ],
   "source": [
    "from sklearn.decomposition import PCA\n",
    "\n",
    "\n",
    "n_components = 30\n",
    "\n",
    "pca = PCA(n_components=n_components)\n",
    "reduced_tfidf_vectors = pca.fit_transform(term_document_df)\n",
    "reduced_tfidf_vectors.shape"
   ]
  },
  {
   "cell_type": "code",
   "execution_count": 34,
   "metadata": {},
   "outputs": [],
   "source": [
    "np.save('../assets/reduced_tfidf_vectors.npy', reduced_tfidf_vectors)"
   ]
  },
  {
   "cell_type": "code",
   "execution_count": 35,
   "metadata": {},
   "outputs": [],
   "source": [
    "reduced_tfidf_vectors = pd.DataFrame.from_records(reduced_tfidf_vectors)"
   ]
  },
  {
   "cell_type": "code",
   "execution_count": 37,
   "metadata": {},
   "outputs": [],
   "source": [
    "reduced_tfidf_vectors.index = list(token_frequencies.keys())"
   ]
  },
  {
   "cell_type": "code",
   "execution_count": 38,
   "metadata": {},
   "outputs": [
    {
     "data": {
      "text/html": [
       "<div>\n",
       "<style scoped>\n",
       "    .dataframe tbody tr th:only-of-type {\n",
       "        vertical-align: middle;\n",
       "    }\n",
       "\n",
       "    .dataframe tbody tr th {\n",
       "        vertical-align: top;\n",
       "    }\n",
       "\n",
       "    .dataframe thead th {\n",
       "        text-align: right;\n",
       "    }\n",
       "</style>\n",
       "<table border=\"1\" class=\"dataframe\">\n",
       "  <thead>\n",
       "    <tr style=\"text-align: right;\">\n",
       "      <th></th>\n",
       "      <th>0</th>\n",
       "      <th>1</th>\n",
       "      <th>2</th>\n",
       "      <th>3</th>\n",
       "      <th>4</th>\n",
       "      <th>5</th>\n",
       "      <th>6</th>\n",
       "      <th>7</th>\n",
       "      <th>8</th>\n",
       "      <th>9</th>\n",
       "      <th>...</th>\n",
       "      <th>20</th>\n",
       "      <th>21</th>\n",
       "      <th>22</th>\n",
       "      <th>23</th>\n",
       "      <th>24</th>\n",
       "      <th>25</th>\n",
       "      <th>26</th>\n",
       "      <th>27</th>\n",
       "      <th>28</th>\n",
       "      <th>29</th>\n",
       "    </tr>\n",
       "  </thead>\n",
       "  <tbody>\n",
       "    <tr>\n",
       "      <th>cremation</th>\n",
       "      <td>-0.540339</td>\n",
       "      <td>0.035638</td>\n",
       "      <td>0.010455</td>\n",
       "      <td>-0.022096</td>\n",
       "      <td>-0.032935</td>\n",
       "      <td>0.034010</td>\n",
       "      <td>-0.002652</td>\n",
       "      <td>-0.023045</td>\n",
       "      <td>0.039716</td>\n",
       "      <td>-0.017300</td>\n",
       "      <td>...</td>\n",
       "      <td>0.146327</td>\n",
       "      <td>-0.020718</td>\n",
       "      <td>0.114045</td>\n",
       "      <td>-0.042284</td>\n",
       "      <td>-0.115863</td>\n",
       "      <td>-0.080562</td>\n",
       "      <td>0.086859</td>\n",
       "      <td>-0.021938</td>\n",
       "      <td>-0.055345</td>\n",
       "      <td>-0.150202</td>\n",
       "    </tr>\n",
       "    <tr>\n",
       "      <th>Neue</th>\n",
       "      <td>-0.544954</td>\n",
       "      <td>0.030545</td>\n",
       "      <td>-0.013619</td>\n",
       "      <td>-0.037163</td>\n",
       "      <td>-0.073567</td>\n",
       "      <td>0.012588</td>\n",
       "      <td>-0.030445</td>\n",
       "      <td>-0.002170</td>\n",
       "      <td>-0.073183</td>\n",
       "      <td>-0.046952</td>\n",
       "      <td>...</td>\n",
       "      <td>-0.084547</td>\n",
       "      <td>-0.102780</td>\n",
       "      <td>-0.073078</td>\n",
       "      <td>0.156571</td>\n",
       "      <td>0.011845</td>\n",
       "      <td>-0.014279</td>\n",
       "      <td>-0.044121</td>\n",
       "      <td>0.122493</td>\n",
       "      <td>0.055656</td>\n",
       "      <td>0.065843</td>\n",
       "    </tr>\n",
       "    <tr>\n",
       "      <th>precise</th>\n",
       "      <td>-0.432102</td>\n",
       "      <td>0.074185</td>\n",
       "      <td>-0.013650</td>\n",
       "      <td>-0.039179</td>\n",
       "      <td>-0.124273</td>\n",
       "      <td>-0.045746</td>\n",
       "      <td>-0.127163</td>\n",
       "      <td>-0.201595</td>\n",
       "      <td>-0.080385</td>\n",
       "      <td>-0.145168</td>\n",
       "      <td>...</td>\n",
       "      <td>0.198775</td>\n",
       "      <td>0.161539</td>\n",
       "      <td>0.009426</td>\n",
       "      <td>-0.088758</td>\n",
       "      <td>0.130933</td>\n",
       "      <td>-0.167473</td>\n",
       "      <td>0.098699</td>\n",
       "      <td>-0.086390</td>\n",
       "      <td>-0.023247</td>\n",
       "      <td>-0.138215</td>\n",
       "    </tr>\n",
       "    <tr>\n",
       "      <th>weather</th>\n",
       "      <td>-0.309921</td>\n",
       "      <td>-0.144929</td>\n",
       "      <td>-0.022938</td>\n",
       "      <td>-0.008633</td>\n",
       "      <td>-0.030558</td>\n",
       "      <td>0.052401</td>\n",
       "      <td>-0.186585</td>\n",
       "      <td>0.165663</td>\n",
       "      <td>0.002704</td>\n",
       "      <td>0.133029</td>\n",
       "      <td>...</td>\n",
       "      <td>-0.036045</td>\n",
       "      <td>0.052101</td>\n",
       "      <td>0.181940</td>\n",
       "      <td>0.026502</td>\n",
       "      <td>-0.119375</td>\n",
       "      <td>-0.097576</td>\n",
       "      <td>0.050044</td>\n",
       "      <td>0.142145</td>\n",
       "      <td>-0.136805</td>\n",
       "      <td>-0.069830</td>\n",
       "    </tr>\n",
       "    <tr>\n",
       "      <th>struggling</th>\n",
       "      <td>-0.199181</td>\n",
       "      <td>-0.119069</td>\n",
       "      <td>0.102443</td>\n",
       "      <td>0.049092</td>\n",
       "      <td>0.149471</td>\n",
       "      <td>0.020211</td>\n",
       "      <td>-0.056222</td>\n",
       "      <td>0.140698</td>\n",
       "      <td>-0.107173</td>\n",
       "      <td>-0.066946</td>\n",
       "      <td>...</td>\n",
       "      <td>-0.061467</td>\n",
       "      <td>-0.208787</td>\n",
       "      <td>0.604421</td>\n",
       "      <td>-0.092057</td>\n",
       "      <td>0.029561</td>\n",
       "      <td>-0.100921</td>\n",
       "      <td>-0.229308</td>\n",
       "      <td>-0.069991</td>\n",
       "      <td>0.157938</td>\n",
       "      <td>0.237455</td>\n",
       "    </tr>\n",
       "  </tbody>\n",
       "</table>\n",
       "<p>5 rows × 30 columns</p>\n",
       "</div>"
      ],
      "text/plain": [
       "                  0         1         2         3         4         5   \\\n",
       "cremation  -0.540339  0.035638  0.010455 -0.022096 -0.032935  0.034010   \n",
       "Neue       -0.544954  0.030545 -0.013619 -0.037163 -0.073567  0.012588   \n",
       "precise    -0.432102  0.074185 -0.013650 -0.039179 -0.124273 -0.045746   \n",
       "weather    -0.309921 -0.144929 -0.022938 -0.008633 -0.030558  0.052401   \n",
       "struggling -0.199181 -0.119069  0.102443  0.049092  0.149471  0.020211   \n",
       "\n",
       "                  6         7         8         9   ...        20        21  \\\n",
       "cremation  -0.002652 -0.023045  0.039716 -0.017300  ...  0.146327 -0.020718   \n",
       "Neue       -0.030445 -0.002170 -0.073183 -0.046952  ... -0.084547 -0.102780   \n",
       "precise    -0.127163 -0.201595 -0.080385 -0.145168  ...  0.198775  0.161539   \n",
       "weather    -0.186585  0.165663  0.002704  0.133029  ... -0.036045  0.052101   \n",
       "struggling -0.056222  0.140698 -0.107173 -0.066946  ... -0.061467 -0.208787   \n",
       "\n",
       "                  22        23        24        25        26        27  \\\n",
       "cremation   0.114045 -0.042284 -0.115863 -0.080562  0.086859 -0.021938   \n",
       "Neue       -0.073078  0.156571  0.011845 -0.014279 -0.044121  0.122493   \n",
       "precise     0.009426 -0.088758  0.130933 -0.167473  0.098699 -0.086390   \n",
       "weather     0.181940  0.026502 -0.119375 -0.097576  0.050044  0.142145   \n",
       "struggling  0.604421 -0.092057  0.029561 -0.100921 -0.229308 -0.069991   \n",
       "\n",
       "                  28        29  \n",
       "cremation  -0.055345 -0.150202  \n",
       "Neue        0.055656  0.065843  \n",
       "precise    -0.023247 -0.138215  \n",
       "weather    -0.136805 -0.069830  \n",
       "struggling  0.157938  0.237455  \n",
       "\n",
       "[5 rows x 30 columns]"
      ]
     },
     "execution_count": 38,
     "metadata": {},
     "output_type": "execute_result"
    }
   ],
   "source": [
    "reduced_tfidf_vectors.head()"
   ]
  },
  {
   "cell_type": "code",
   "execution_count": 39,
   "metadata": {},
   "outputs": [
    {
     "name": "stdout",
     "output_type": "stream",
     "text": [
      "Cosine distances for \"Monday\":\n",
      "\tSimilar: {'Tuesday': 0.7412937971336343, 'Wednesday': 0.742750490343868, 'Thursday': 0.7709688174526034}\n",
      "\tRelated: {'weekend': 0.447151308208404, 'day': 0.6517535306402553, 'week': 0.730666778204977}\n",
      "\tUnrelated: {'funds': 0.3396216055992591, 'town': 0.5495935383936134, 'territory': 0.32590710734520684}\n",
      "Cosine distances for \"north\":\n",
      "\tSimilar: {'south': 0.7228655236836695, 'west': 0.36476536750590405, 'east': 0.44368036203785716}\n",
      "\tRelated: {'world': 0.15237492504146236, 'side': 0.506183825414011, 'direction': -0.07216604762507903}\n",
      "\tUnrelated: {'party': 0.03762348843509121, 'senator': -0.06554823839538687, 'husband': -0.08733275792774}\n",
      "Cosine distances for \"Spain\":\n",
      "\tSimilar: {'Madrid': 0.9092780714144346, 'Catalonia': 0.9903170930767478, 'Europe': 0.3029619019984378}\n",
      "\tRelated: {'Brexit': 0.21044026434925178, 'kingdom': 0.022636910888994183, 'EU': 0.2812210798714555}\n",
      "\tUnrelated: {'Trump': -0.07953689601364596, 'Twitter': -0.14423247694889688, 'Korea': -0.03555008544484807}\n"
     ]
    }
   ],
   "source": [
    "for word in words_to_analyze:\n",
    "    try:\n",
    "        word_vec = reduced_tfidf_vectors.loc[word]\n",
    "        print(f'Cosine distances for \"{word}\":')\n",
    "        for group, words in [('Similar', similar_words), ('Related', related_words), ('Unrelated', unrelated_words)]:\n",
    "            distances = {target_word: cosine_similarity(word_vec, reduced_tfidf_vectors.loc[target_word]) for target_word in words[word]}\n",
    "            print(f'\\t{group}: {distances}')\n",
    "    except:\n",
    "        print('no words')"
   ]
  },
  {
   "cell_type": "code",
   "execution_count": 40,
   "metadata": {},
   "outputs": [],
   "source": [
    "def vectorize_with_w2v(text, model):\n",
    "    tokenized_sentences = preprocess_text(text)\n",
    "    sentence_vectors = []\n",
    "    \n",
    "    for sentence in tokenized_sentences:\n",
    "        word_vectors = []\n",
    "        \n",
    "        for word in sentence:\n",
    "            if word in model.wv.key_to_index:\n",
    "                word_vector = model.wv[word]\n",
    "                word_vectors.append(word_vector)\n",
    "                \n",
    "        if word_vectors:\n",
    "                sentence_vector = np.mean(word_vectors, axis=0)\n",
    "                sentence_vectors.append(sentence_vector)\n",
    "\n",
    "    if sentence_vectors:\n",
    "        document_vector = np.mean(sentence_vectors, axis=0)\n",
    "        return document_vector\n",
    "    else:\n",
    "        return np.zeros(model.vector_size)\n"
   ]
  },
  {
   "cell_type": "code",
   "execution_count": 41,
   "metadata": {},
   "outputs": [
    {
     "name": "stdout",
     "output_type": "stream",
     "text": [
      "WASHINGTON Reuters U State Department certified Honduran government fighting corruption supporting human rights clearing way Honduras receive millions dollars U aid document seen Reuters showed document dated Nov 28 seen Reuters Monday showed Secretary State Rex Tillerson certified Honduras assistance two days controversial presidential election claimed ally Washington Honduras faced violent protests disputed results election still produced clear winner week vote ended decision issue certification prompted concern congressional Democrats Republican President Donald Trump administration could seen taking sides kind message send one congressional aide asked State Department officials immediate response questioned timing certification Honduras required fulfill dozen requirements order receive share million U Congress program assist Central American governments Among requirements combating corruption including investigating prosecuting current former government officials alleged corrupt protecting rights political opposition parties Honduras struggles violent drug gangs one world highest murder rates endemic poverty recent years many Hondurans including children attempted migrate United States hopes migration former President Barack Obama administration 2015 came plan included sending hundreds millions dollars additional aid Honduras Guatemala El Salvador Congress agreed provide money governments found taking steps fight crime corruption preliminary ballot count Honduras Monday pointed narrow victory President Juan Orlando Hernandez opposition challenger Salvador Nasralla although electoral tribunal declared winner Early last week Nasralla former game show host appeared set upset victory Hernandez counting process suddenly halted day began leaning favor Hernandez resuming Opposition leaders said wanted accused government stealing election Hernandez 49 implemented military -led crackdown gang violence taking office 2014 supported Trump chief staff John Kelly Nasralla 64 one Honduras best -known faces backed former President Manuel Zelaya leftist ousted coup 2009\n",
      "(30,)\n"
     ]
    }
   ],
   "source": [
    "text = ' '.join(train_texts[0])\n",
    "print(text)\n",
    "print(vectorize_with_w2v(text, model).shape)"
   ]
  },
  {
   "cell_type": "code",
   "execution_count": 42,
   "metadata": {},
   "outputs": [],
   "source": [
    "test_texts = [[token for token in ds['Token'].to_list() if is_valid_token(token, token_frequencies)] for ds in test]"
   ]
  },
  {
   "cell_type": "code",
   "execution_count": 43,
   "metadata": {},
   "outputs": [],
   "source": [
    "test_vectors = [vectorize_with_w2v(' '.join(text), model) for text in test_texts]"
   ]
  },
  {
   "cell_type": "code",
   "execution_count": 44,
   "metadata": {},
   "outputs": [
    {
     "data": {
      "text/plain": [
       "(30,)"
      ]
     },
     "execution_count": 44,
     "metadata": {},
     "output_type": "execute_result"
    }
   ],
   "source": [
    "test_vectors[0].shape"
   ]
  },
  {
   "cell_type": "code",
   "execution_count": 285,
   "metadata": {},
   "outputs": [],
   "source": [
    "with open('../assets/annotated-corpus/test-embeddings.tsv', 'w') as file:\n",
    "    for doc_id, vector in zip(test_ids, test_vectors):\n",
    "        vector_str = '\\t'.join(map(str, vector))\n",
    "        file.write(f'{doc_id}\\t{vector_str}\\n')"
   ]
  },
  {
   "cell_type": "code",
   "execution_count": null,
   "metadata": {},
   "outputs": [],
   "source": []
  }
 ],
 "metadata": {
  "kernelspec": {
   "display_name": "py310",
   "language": "python",
   "name": "python3"
  },
  "language_info": {
   "codemirror_mode": {
    "name": "ipython",
    "version": 3
   },
   "file_extension": ".py",
   "mimetype": "text/x-python",
   "name": "python",
   "nbconvert_exporter": "python",
   "pygments_lexer": "ipython3",
   "version": "3.10.13"
  },
  "orig_nbformat": 4
 },
 "nbformat": 4,
 "nbformat_minor": 2
}
