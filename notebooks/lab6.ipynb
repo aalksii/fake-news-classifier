{
 "cells": [
  {
   "attachments": {},
   "cell_type": "markdown",
   "metadata": {},
   "source": [
    "# Laboratory work #6 (QA)"
   ]
  },
  {
   "cell_type": "code",
   "execution_count": 1,
   "metadata": {},
   "outputs": [],
   "source": [
    "from huggingface_hub import hf_hub_download\n",
    "from llama_cpp import Llama\n",
    "\n",
    "from db_utils import ChromaDataBase"
   ]
  },
  {
   "cell_type": "code",
   "execution_count": 2,
   "metadata": {},
   "outputs": [],
   "source": [
    "model_name = \"TheBloke/Mistral-7B-OpenOrca-GGUF\"\n",
    "model_file = \"mistral-7b-openorca.Q4_K_M.gguf\""
   ]
  },
  {
   "cell_type": "code",
   "execution_count": 3,
   "metadata": {},
   "outputs": [],
   "source": [
    "model_path = hf_hub_download(model_name, filename=model_file)"
   ]
  },
  {
   "cell_type": "code",
   "execution_count": 4,
   "metadata": {},
   "outputs": [
    {
     "name": "stderr",
     "output_type": "stream",
     "text": [
      "llama_model_loader: loaded meta data with 20 key-value pairs and 291 tensors from /home/azureuser/.cache/huggingface/hub/models--TheBloke--Mistral-7B-OpenOrca-GGUF/snapshots/fbd9cd059e5fa0bba72a0abe8aea7e127d7994cb/mistral-7b-openorca.Q4_K_M.gguf (version GGUF V2)\n",
      "llama_model_loader: Dumping metadata keys/values. Note: KV overrides do not apply in this output.\n",
      "llama_model_loader: - kv   0:                       general.architecture str              = llama\n",
      "llama_model_loader: - kv   1:                               general.name str              = open-orca_mistral-7b-openorca\n",
      "llama_model_loader: - kv   2:                       llama.context_length u32              = 32768\n",
      "llama_model_loader: - kv   3:                     llama.embedding_length u32              = 4096\n",
      "llama_model_loader: - kv   4:                          llama.block_count u32              = 32\n",
      "llama_model_loader: - kv   5:                  llama.feed_forward_length u32              = 14336\n",
      "llama_model_loader: - kv   6:                 llama.rope.dimension_count u32              = 128\n",
      "llama_model_loader: - kv   7:                 llama.attention.head_count u32              = 32\n",
      "llama_model_loader: - kv   8:              llama.attention.head_count_kv u32              = 8\n",
      "llama_model_loader: - kv   9:     llama.attention.layer_norm_rms_epsilon f32              = 0.000010\n",
      "llama_model_loader: - kv  10:                       llama.rope.freq_base f32              = 10000.000000\n",
      "llama_model_loader: - kv  11:                          general.file_type u32              = 15\n",
      "llama_model_loader: - kv  12:                       tokenizer.ggml.model str              = llama\n",
      "llama_model_loader: - kv  13:                      tokenizer.ggml.tokens arr[str,32002]   = [\"<unk>\", \"<s>\", \"</s>\", \"<0x00>\", \"<...\n",
      "llama_model_loader: - kv  14:                      tokenizer.ggml.scores arr[f32,32002]   = [0.000000, 0.000000, 0.000000, 0.0000...\n",
      "llama_model_loader: - kv  15:                  tokenizer.ggml.token_type arr[i32,32002]   = [2, 3, 3, 6, 6, 6, 6, 6, 6, 6, 6, 6, ...\n",
      "llama_model_loader: - kv  16:                tokenizer.ggml.bos_token_id u32              = 1\n",
      "llama_model_loader: - kv  17:                tokenizer.ggml.eos_token_id u32              = 32000\n",
      "llama_model_loader: - kv  18:            tokenizer.ggml.unknown_token_id u32              = 0\n",
      "llama_model_loader: - kv  19:               general.quantization_version u32              = 2\n",
      "llama_model_loader: - type  f32:   65 tensors\n",
      "llama_model_loader: - type q4_K:  193 tensors\n",
      "llama_model_loader: - type q6_K:   33 tensors\n",
      "llm_load_vocab: special tokens definition check successful ( 261/32002 ).\n",
      "llm_load_print_meta: format           = GGUF V2\n",
      "llm_load_print_meta: arch             = llama\n",
      "llm_load_print_meta: vocab type       = SPM\n",
      "llm_load_print_meta: n_vocab          = 32002\n",
      "llm_load_print_meta: n_merges         = 0\n",
      "llm_load_print_meta: n_ctx_train      = 32768\n",
      "llm_load_print_meta: n_embd           = 4096\n",
      "llm_load_print_meta: n_head           = 32\n",
      "llm_load_print_meta: n_head_kv        = 8\n",
      "llm_load_print_meta: n_layer          = 32\n",
      "llm_load_print_meta: n_rot            = 128\n",
      "llm_load_print_meta: n_embd_head_k    = 128\n",
      "llm_load_print_meta: n_embd_head_v    = 128\n",
      "llm_load_print_meta: n_gqa            = 4\n",
      "llm_load_print_meta: n_embd_k_gqa     = 1024\n",
      "llm_load_print_meta: n_embd_v_gqa     = 1024\n",
      "llm_load_print_meta: f_norm_eps       = 0.0e+00\n",
      "llm_load_print_meta: f_norm_rms_eps   = 1.0e-05\n",
      "llm_load_print_meta: f_clamp_kqv      = 0.0e+00\n",
      "llm_load_print_meta: f_max_alibi_bias = 0.0e+00\n",
      "llm_load_print_meta: n_ff             = 14336\n",
      "llm_load_print_meta: n_expert         = 0\n",
      "llm_load_print_meta: n_expert_used    = 0\n",
      "llm_load_print_meta: rope scaling     = linear\n",
      "llm_load_print_meta: freq_base_train  = 10000.0\n",
      "llm_load_print_meta: freq_scale_train = 1\n",
      "llm_load_print_meta: n_yarn_orig_ctx  = 32768\n",
      "llm_load_print_meta: rope_finetuned   = unknown\n",
      "llm_load_print_meta: model type       = 7B\n",
      "llm_load_print_meta: model ftype      = Q4_K - Medium\n",
      "llm_load_print_meta: model params     = 7.24 B\n",
      "llm_load_print_meta: model size       = 4.07 GiB (4.83 BPW) \n",
      "llm_load_print_meta: general.name     = open-orca_mistral-7b-openorca\n",
      "llm_load_print_meta: BOS token        = 1 '<s>'\n",
      "llm_load_print_meta: EOS token        = 32000 '<dummy32000>'\n",
      "llm_load_print_meta: UNK token        = 0 '<unk>'\n",
      "llm_load_print_meta: LF token         = 13 '<0x0A>'\n",
      "llm_load_tensors: ggml ctx size =    0.11 MiB\n",
      "llm_load_tensors: offloading 0 repeating layers to GPU\n",
      "llm_load_tensors: offloaded 0/33 layers to GPU\n",
      "llm_load_tensors:        CPU buffer size =  4165.38 MiB\n",
      "...............................................................................................\n",
      "llama_new_context_with_model: n_ctx      = 4096\n",
      "llama_new_context_with_model: freq_base  = 10000.0\n",
      "llama_new_context_with_model: freq_scale = 1\n",
      "llama_kv_cache_init:        CPU KV buffer size =   512.00 MiB\n",
      "llama_new_context_with_model: KV self size  =  512.00 MiB, K (f16):  256.00 MiB, V (f16):  256.00 MiB\n",
      "llama_new_context_with_model: graph splits (measure): 1\n",
      "llama_new_context_with_model:        CPU compute buffer size =   292.00 MiB\n",
      "AVX = 1 | AVX_VNNI = 0 | AVX2 = 1 | AVX512 = 0 | AVX512_VBMI = 0 | AVX512_VNNI = 0 | FMA = 1 | NEON = 0 | ARM_FMA = 0 | F16C = 1 | FP16_VA = 0 | WASM_SIMD = 0 | BLAS = 0 | SSE3 = 1 | SSSE3 = 1 | VSX = 0 | \n",
      "Model metadata: {'tokenizer.ggml.unknown_token_id': '0', 'tokenizer.ggml.eos_token_id': '32000', 'general.architecture': 'llama', 'llama.rope.freq_base': '10000.000000', 'llama.context_length': '32768', 'general.name': 'open-orca_mistral-7b-openorca', 'llama.embedding_length': '4096', 'llama.feed_forward_length': '14336', 'llama.attention.layer_norm_rms_epsilon': '0.000010', 'llama.rope.dimension_count': '128', 'tokenizer.ggml.bos_token_id': '1', 'llama.attention.head_count': '32', 'llama.block_count': '32', 'llama.attention.head_count_kv': '8', 'general.quantization_version': '2', 'tokenizer.ggml.model': 'llama', 'general.file_type': '15'}\n"
     ]
    }
   ],
   "source": [
    "model_kwargs = {\n",
    "  \"n_ctx\":4096,    # Context length to use\n",
    "  \"n_threads\":4,   # Number of CPU threads to use\n",
    "  \"n_gpu_layers\":0,# Number of model layers to offload to GPU. Set to 0 if only using CPU\n",
    "}\n",
    "\n",
    "## Instantiate model from downloaded file\n",
    "llm = Llama(model_path=model_path, **model_kwargs)"
   ]
  },
  {
   "cell_type": "code",
   "execution_count": 5,
   "metadata": {},
   "outputs": [],
   "source": [
    "## Generation kwargs\n",
    "generation_kwargs = {\n",
    "    \"max_tokens\":200, # Max number of new tokens to generate\n",
    "    \"stop\":[\"<|endoftext|>\", \"</s>\"], # Text sequences to stop generation on\n",
    "    \"echo\":False, # Echo the prompt in the output\n",
    "    \"top_k\":1 # This is essentially greedy decoding, since the model will always return the highest-probability token. Set this value > 1 for sampling decoding\n",
    "}\n",
    "\n",
    "prompt = \"The meaning of life is \""
   ]
  },
  {
   "cell_type": "code",
   "execution_count": 6,
   "metadata": {},
   "outputs": [
    {
     "name": "stdout",
     "output_type": "stream",
     "text": [
      "42, according to the Hitchhiker's Guide to the Galaxy. But what if you're not a fan of that particular science fiction series? What if you're looking for something more grounded in reality or philosophy?\n",
      "\n",
      "Well, there are many different theories and ideas about the meaning of life. Some people believe it is to find happiness, others think it is to serve a greater purpose, while some might argue that there is no inherent meaning at all. Here are ten different perspectives on the meaning of life:\n",
      "\n",
      "1. The religious perspective: Many religions propose that the meaning of life is to worship God or a higher power and follow their teachings in order to achieve spiritual growth and salvation.\n",
      "\n",
      "2. The existentialist perspective: Existentialists believe that humans create their own meaning in life through individual choices, experiences, and relationships. They argue that there is no predetermined purpose for existence.\n",
      "\n",
      "3\n"
     ]
    },
    {
     "name": "stderr",
     "output_type": "stream",
     "text": [
      "\n",
      "llama_print_timings:        load time =     183.69 ms\n",
      "llama_print_timings:      sample time =      31.46 ms /   200 runs   (    0.16 ms per token,  6356.87 tokens per second)\n",
      "llama_print_timings: prompt eval time =     183.61 ms /     7 tokens (   26.23 ms per token,    38.12 tokens per second)\n",
      "llama_print_timings:        eval time =   17824.32 ms /   199 runs   (   89.57 ms per token,    11.16 tokens per second)\n",
      "llama_print_timings:       total time =   18521.29 ms /   206 tokens\n"
     ]
    }
   ],
   "source": [
    "res = llm(prompt, **generation_kwargs) # Res is a dictionary\n",
    "\n",
    "## Unpack and the generated text from the LLM response dictionary and print it\n",
    "print(res[\"choices\"][0][\"text\"])"
   ]
  },
  {
   "cell_type": "code",
   "execution_count": 7,
   "metadata": {},
   "outputs": [
    {
     "data": {
      "text/plain": [
       "76095"
      ]
     },
     "execution_count": 7,
     "metadata": {},
     "output_type": "execute_result"
    }
   ],
   "source": [
    "db = ChromaDataBase()\n",
    "db.collection.count()"
   ]
  },
  {
   "cell_type": "code",
   "execution_count": 36,
   "metadata": {},
   "outputs": [],
   "source": [
    "def answer_on(question, verbose=True):\n",
    "    result = db.query(\n",
    "        query_texts=[question],\n",
    "        n_results=10,\n",
    "        where={'class': 1}\n",
    "    )\n",
    "    \n",
    "    context = ' '.join(result['documents'][0])\n",
    "    prompt = f'Here is the context: {context}. Here is the question: {question}. Here is the answer to this question:'\n",
    "    \n",
    "    if verbose:\n",
    "        print(f'Prompt: {prompt}')\n",
    "    \n",
    "    res = llm(prompt, **generation_kwargs)\n",
    "    return res[\"choices\"][0][\"text\"]"
   ]
  },
  {
   "cell_type": "code",
   "execution_count": 49,
   "metadata": {},
   "outputs": [
    {
     "name": "stdout",
     "output_type": "stream",
     "text": [
      "Prompt: Here is the context: Earlier , another Catalan pro -independence party , Esquerra Republicana de Catalunya ERC , also said it would participate in the elections . On Saturday , Puigdemont - who PDeCAT said on Sunday would lead the party in the election - called for a united Catalan political front for independence from Spain and against the detention of his former members of government . MADRID Reuters - Catalan pro -independence party PdeCat Catalan Democratic Party said on Monday it will take part in a snap regional elections on Dec . 21 , a tacit admission that Catalonia s previous ruling party had been fired and parliament dissolved . But the majority of Catalans do want the opportunity to vote on whether to split from Spain . Knowing that in the end there won t be independence , I feel sorry for all the people tricked into thinking there could be and the divisions they ve driven through Catalan society . If he says he did not declare it , then the far -left Catalan party CUP would probably withdraw its support for his minority government . The CUP s claim of betrayal reveals the shaky political foundations upon which Catalonia s independence movement is built , a jumble of parties ranging from anti -capitalists to free marketeers whose only common cause is to split from Spain . Catalonia s head of foreign affairs said on Friday the region s parliament would meet on Monday to debate independence , in defiance of a ruling by the country s Constitutional Court . NMADRID Reuters - Catalonia s pro -independence parties were seen losing their parliamentary majority in the regional election on Dec . Two polls on Sunday suggested pro -Catalonia independence parties will together win December s regional election although they may fall just short of a majority of seats in parliament needed to revive the secession campaign .. Here is the question: Where is the Catalan pro-independence party?. Here is the answer to this question:\n"
     ]
    },
    {
     "name": "stderr",
     "output_type": "stream",
     "text": [
      "Llama.generate: prefix-match hit\n"
     ]
    },
    {
     "name": "stdout",
     "output_type": "stream",
     "text": [
      "\n",
      "Question #0:\n",
      "Where is the Catalan pro-independence party?\n",
      "Possible answer: Catalonia, Spain\n",
      "LLM's answer:  The Catalan pro-independence party, PdeCat, is based in Catalonia, Spain.\n",
      "\n"
     ]
    },
    {
     "name": "stderr",
     "output_type": "stream",
     "text": [
      "\n",
      "llama_print_timings:        load time =     183.69 ms\n",
      "llama_print_timings:      sample time =       3.40 ms /    22 runs   (    0.15 ms per token,  6476.30 tokens per second)\n",
      "llama_print_timings: prompt eval time =   10365.30 ms /   413 tokens (   25.10 ms per token,    39.84 tokens per second)\n",
      "llama_print_timings:        eval time =    1935.37 ms /    21 runs   (   92.16 ms per token,    10.85 tokens per second)\n",
      "llama_print_timings:       total time =   12350.64 ms /   434 tokens\n"
     ]
    },
    {
     "name": "stdout",
     "output_type": "stream",
     "text": [
      "Prompt: Here is the context: President -elect Donald Trump , who takes office on Jan . Trump , who took office on Jan . Trump , who took office on Jan . Trump , a Republican elected on Nov . Trump , the front -runner to win the Republican nomination for the Nov . Trump , who is set to take office on Jan . Trump , who will take office on Jan . Trump , who takes office on Jan . Trump , who takes office on Jan . Trump , who takes office on Jan .. Here is the question: Who was the president of US in 2018?. Here is the answer to this question:\n"
     ]
    },
    {
     "name": "stderr",
     "output_type": "stream",
     "text": [
      "Llama.generate: prefix-match hit\n",
      "\n",
      "llama_print_timings:        load time =     183.69 ms\n",
      "llama_print_timings:      sample time =      20.19 ms /   132 runs   (    0.15 ms per token,  6538.86 tokens per second)\n",
      "llama_print_timings: prompt eval time =    2975.71 ms /   122 tokens (   24.39 ms per token,    41.00 tokens per second)\n",
      "llama_print_timings:        eval time =   11792.89 ms /   131 runs   (   90.02 ms per token,    11.11 tokens per second)\n",
      "llama_print_timings:       total time =   15095.72 ms /   253 tokens\n"
     ]
    },
    {
     "name": "stdout",
     "output_type": "stream",
     "text": [
      "\n",
      "Question #1:\n",
      "Who was the president of US in 2018?\n",
      "Possible answer: Donald Trump\n",
      "LLM's answer:  Donald Trump.\n",
      "\n",
      "The text above seems to be a series of sentences that are all referring to the same person, President-elect Donald Trump. The context provided indicates that he took office on January and was elected in November. However, the year mentioned in the question is 2018, which is not consistent with the information given in the text.\n",
      "\n",
      "Based on the information provided in the text, it cannot be determined who the president of the United States was in 2018. The text only provides information about Donald Trump taking office in January and being elected in November, but it does not specify which year this occurred.\n",
      "\n",
      "Prompt: Here is the context: Trump , who took office on Jan . Trump , who took office on Jan . President -elect Donald Trump , who takes office on Jan . Trump , who succeeds Democratic President Barack Obama on Jan . Trump , a Republican elected on Nov . Trump , who is set to take office on Jan . Trump , a Republican , won election in November and takes office on Jan . Trump , who takes office on Jan . Trump , who takes office on Jan . Trump , who takes office on Jan .. Here is the question: Who was the president of US in 2016?. Here is the answer to this question:\n"
     ]
    },
    {
     "name": "stderr",
     "output_type": "stream",
     "text": [
      "Llama.generate: prefix-match hit\n",
      "\n",
      "llama_print_timings:        load time =     183.69 ms\n",
      "llama_print_timings:      sample time =      22.49 ms /   143 runs   (    0.16 ms per token,  6357.82 tokens per second)\n",
      "llama_print_timings: prompt eval time =    3054.45 ms /   125 tokens (   24.44 ms per token,    40.92 tokens per second)\n",
      "llama_print_timings:        eval time =   12793.61 ms /   142 runs   (   90.10 ms per token,    11.10 tokens per second)\n",
      "llama_print_timings:       total time =   16208.39 ms /   267 tokens\n"
     ]
    },
    {
     "name": "stdout",
     "output_type": "stream",
     "text": [
      "\n",
      "Question #2:\n",
      "Who was the president of US in 2016?\n",
      "Possible answer: Barack Obama\n",
      "LLM's answer:  Donald Trump.\n",
      "\n",
      "The context provided above contains numerous instances of the name \"Trump\" and various phrases referring to his presidency, such as \"President-elect,\" \"Republican elected,\" and \"takes office on Jan.\" However, it does not directly state that Donald Trump was the president of the United States in 2016.\n",
      "\n",
      "To answer the question \"Who was the president of US in 2016?\", one needs to look for a specific statement or phrase that explicitly mentions the year 2016 and associates it with Trump's presidency. In this case, the answer is not explicitly provided within the context given.\n",
      "\n",
      "Prompt: Here is the context: About 60 percent of Slovenia is covered by forests while the country has some resorts on the Adriatic sea as well as a number of Alpine and spa tourist resorts . In addition , the tribunal established a 2 . 5 nautical mile -wide and some 10 nautical mile -long corridor through Croatian waters to give Slovenia much -coveted direct access to international waters . 2017 will be the fourth record year in a row for Slovenian tourism after revenues from foreign tourists reached some 2 . 3 billion euros 2 . 71 billion last year , Pocivalsek told a news conference . At present about 40 percent of hotels in Slovenia are in state hands . Portugal represents just about 2 . 1 percent of Europe s total landmass . Slovenia will start the implementation where it can do it alone , and it will seek dialogue and cooperation from Croatia where it cannot act alone . Three times he made it to Slovenia , but was caught and deported back to Serbia . Bulgaria , which has a population of 7 . 1 million , has the highest road death rate in the European Union . According to official data there are as many as 4 , 500 migrants in government -operated camps in Serbia . He was Slovenia s prime minister from 2008 to 2012 , the years that led to the worst financial crisis in Slovenia s history .. Here is the question: How much forest is there in Slovenia?. Here is the answer to this question:\n"
     ]
    },
    {
     "name": "stderr",
     "output_type": "stream",
     "text": [
      "Llama.generate: prefix-match hit\n"
     ]
    },
    {
     "name": "stdout",
     "output_type": "stream",
     "text": [
      "\n",
      "Question #3:\n",
      "How much forest is there in Slovenia?\n",
      "Possible answer: About 60 percent of Slovenia is covered by forests\n",
      "LLM's answer:  About 60 percent of Slovenia is covered by forests.\n",
      "\n"
     ]
    },
    {
     "name": "stderr",
     "output_type": "stream",
     "text": [
      "\n",
      "llama_print_timings:        load time =     183.69 ms\n",
      "llama_print_timings:      sample time =       2.16 ms /    15 runs   (    0.14 ms per token,  6954.10 tokens per second)\n",
      "llama_print_timings: prompt eval time =    8750.11 ms /   350 tokens (   25.00 ms per token,    40.00 tokens per second)\n",
      "llama_print_timings:        eval time =    1281.46 ms /    14 runs   (   91.53 ms per token,    10.93 tokens per second)\n",
      "llama_print_timings:       total time =   10067.70 ms /   364 tokens\n"
     ]
    },
    {
     "name": "stdout",
     "output_type": "stream",
     "text": [
      "Prompt: Here is the context: Is Donald going to be the nominee ? Trump is expected officially to become the Republican presidential nominee when the party holds its convention in another 2 -1 2 weeks . Trump has not yet formally nominated anyone else for the remaining SEC spots - one Democrat and one Republican . His nomination now goes to the Republican -controlled Senate for confirmation . Although some said they still expected his campaign to founder before his party picks its nominee for the November election many said it was no longer unthinkable that he could be the Republican candidate . Trump nominated him in July . As I clearly wrote in yesterday s article , in no way should anyone interpret our press credentialing and subsequent interview with Donald Trump , Jr . as any kind of endorsement by the Trump campaign . Donald Trump won a majority of the states holding nominating contests on Super Tuesday , accelerating his march to the Republican nomination . He does not have an opponent or even a field of Democrats yet vying to run for their party s presidential nomination . Trump , 69 , is the front -runner in the race for the Republican nomination for the Nov . Republican presidential nominee Donald Trump has been a vocal opponent of increased limits on American gun ownership , while Democrat Hillary Clinton has advocated for an assault weapons ban and comprehensive background checks on would -be gun owners , following a slew of deadly mass shootings in the United States .. Here is the question: Is Donald Trump Republican Party nominee?. Here is the answer to this question:\n"
     ]
    },
    {
     "name": "stderr",
     "output_type": "stream",
     "text": [
      "Llama.generate: prefix-match hit\n",
      "\n",
      "llama_print_timings:        load time =     183.69 ms\n",
      "llama_print_timings:      sample time =       2.12 ms /    13 runs   (    0.16 ms per token,  6117.65 tokens per second)\n",
      "llama_print_timings: prompt eval time =    7740.07 ms /   312 tokens (   24.81 ms per token,    40.31 tokens per second)\n",
      "llama_print_timings:        eval time =    1098.93 ms /    12 runs   (   91.58 ms per token,    10.92 tokens per second)\n",
      "llama_print_timings:       total time =    8870.37 ms /   324 tokens\n"
     ]
    },
    {
     "name": "stdout",
     "output_type": "stream",
     "text": [
      "\n",
      "Question #4:\n",
      "Is Donald Trump Republican Party nominee?\n",
      "Possible answer: Yes\n",
      "LLM's answer:  Yes, Donald Trump is the Republican Party nominee.\n",
      "\n",
      "Prompt: Here is the context: Is Donald going to be the nominee ? Trump nominated him in July . Trump is expected officially to become the Republican presidential nominee when the party holds its convention in another 2 -1 2 weeks . He does not have an opponent or even a field of Democrats yet vying to run for their party s presidential nomination . His nomination now goes to the Republican -controlled Senate for confirmation . Trump , who succeeds Democratic President Barack Obama on Jan . Trump has not yet formally nominated anyone else for the remaining SEC spots - one Democrat and one Republican . As I clearly wrote in yesterday s article , in no way should anyone interpret our press credentialing and subsequent interview with Donald Trump , Jr . as any kind of endorsement by the Trump campaign . Donald Trump won a majority of the states holding nominating contests on Super Tuesday , accelerating his march to the Republican nomination . He promised a disciplined , deliberate and consistent foreign policy in contrast to the reckless , rudderless and aimless policies of Obama and former Secretary of State Hillary Clinton , Trump s likely Democratic opponent if he secures the Republican nomination . Clinton , who received the Democratic nomination on Tuesday at the party s convention in Philadelphia , will face Republican Donald Trump in the election .. Here is the question: Is Donald Trump Democratic Party nominee?. Here is the answer to this question:\n"
     ]
    },
    {
     "name": "stderr",
     "output_type": "stream",
     "text": [
      "Llama.generate: prefix-match hit\n",
      "\n",
      "llama_print_timings:        load time =     183.69 ms\n",
      "llama_print_timings:      sample time =       3.36 ms /    23 runs   (    0.15 ms per token,  6841.17 tokens per second)\n",
      "llama_print_timings: prompt eval time =    6754.62 ms /   272 tokens (   24.83 ms per token,    40.27 tokens per second)\n",
      "llama_print_timings:        eval time =    2006.08 ms /    22 runs   (   91.19 ms per token,    10.97 tokens per second)\n",
      "llama_print_timings:       total time =    8814.66 ms /   294 tokens\n"
     ]
    },
    {
     "name": "stdout",
     "output_type": "stream",
     "text": [
      "\n",
      "Question #5:\n",
      "Is Donald Trump Democratic Party nominee?\n",
      "Possible answer: No\n",
      "LLM's answer:  No, Donald Trump is not a Democratic Party nominee. He is the Republican Party nominee.\n",
      "\n",
      "Prompt: Here is the context: Revamping the U . S . tax code has become a new legislative test for President Donald Trump after a Republican push to repeal former President Barack Obama s signature healthcare law failed last month in a humiliating defeat for the party . The U . S . tax code is riddled with narrow subsidies and loopholes , many of them deeply embedded in the economy and defended by the interests they benefit , such as the mortgage interest deduction and the business interest deductibility . The bill significantly lowers the income tax rate for U . S . companies - to 21 percent from 35 percent - allows them to repatriate cash from overseas , and modifies numerous deductions , among other changes . We re trying to deliver great tax reform to the American public . Among its key elements , Brady s proposal would cut the U . S . corporate tax rate to 20 percent from 35 percent , permit immediate deductions for capital investment and introduce a border adjustment tax system that would tax imports into the United States but not tax revenue generated by exports out of the country . This cannot be the intended impact from a Congress who has worked for years to enact a more globally competitive tax code . Companies in the U . S . pharmaceutical and medical research industry plowed about 17 percent of total revenue into R D in their most recent fiscal year , according to Thomson Reuters data . Under the bill , millions of Americans would stop itemizing deductions , putting tax breaks that incentivize home ownership and charitable donations out of their reach , but also making tax returns somewhat simpler and shorter . As part of the new tax code , U . S . multinational companies could bring back some of the estimated 2 . 6 trillion in business profits they have overseas and the Treasury Department could benefit from the taxes on the repatriated money . Under a new territorial system , the bill would exempt U . S . corporations from taxes on most of their future foreign profits . It would also lower the top U . S . corporate tax rate from 35 percent , the highest in the industrialized world , to 20 percent , as well as shift to a territorial style tax system aimed at exempting the earnings of American companies abroad from U . S . taxation .. Here is the question: What does the new U.S. tax code target?. Here is the answer to this question:\n"
     ]
    },
    {
     "name": "stderr",
     "output_type": "stream",
     "text": [
      "Llama.generate: prefix-match hit\n",
      "\n",
      "llama_print_timings:        load time =     183.69 ms\n",
      "llama_print_timings:      sample time =      10.90 ms /    72 runs   (    0.15 ms per token,  6604.90 tokens per second)\n",
      "llama_print_timings: prompt eval time =   12949.14 ms /   511 tokens (   25.34 ms per token,    39.46 tokens per second)\n",
      "llama_print_timings:        eval time =    6604.75 ms /    71 runs   (   93.02 ms per token,    10.75 tokens per second)\n",
      "llama_print_timings:       total time =   19726.96 ms /   582 tokens\n"
     ]
    },
    {
     "name": "stdout",
     "output_type": "stream",
     "text": [
      "\n",
      "Question #6:\n",
      "What does the new U.S. tax code target?\n",
      "Possible answer: The new U.S. tax code targets high-tax states\n",
      "LLM's answer:  The new U.S. tax code targets several aspects of the current tax system, including lowering the corporate tax rate, allowing for immediate deductions for capital investment, introducing a border adjustment tax system, and shifting to a territorial style tax system aimed at exempting the earnings of American companies abroad from U.S. taxation.\n",
      "\n",
      "Prompt: Here is the context: He s the best president Peru ever had , said Maria Luisa Cuculiza , a friend and former minister of Fujimori , adding that he no longer had any political ambitions . Peru s new president , Pedro Pablo Kuczynski , has also voiced worries about a Trump presidency . Kuczynski later congratulated Trump on his surprise electoral victory and described their talk on Friday as cordial and constructive . Trump called Peru , a country of 30 million in South America , a fantastic neighbor and said it was an honor to have Kuczynski in the White House , according to video showing the two posing for pictures after the meeting . In Peru he will see Chinese President Xi Jinping and other Pacific leaders at an economic summit . Fujimori is a deeply divisive figure in Peru . Peru declared the ambassador , Kim Hak -Chol , a persona non grata on Monday to protest North Korea s refusal to heed the world s constant calls to end its nuclear program - giving him five days to leave the Andean country . Without a doubt this is the most important fiscal effort in Peru s recent history , de la Flor told a press conference . Despite his downfall , the right -wing populist movement that Fujimori built has remained one of the most potent political forces in Peru . LA PAZ Reuters - Bolivia s socialist President Evo Morales on Wednesday hailed a decision by the country s highest court to allow him to run for another re -election as a great surprise for the people , for the revolutionaries , for the anti -imperialists . The ambassador , Kim Hak -Chol , has five days to leave Peru , the foreign affairs ministry said in a statement .. Here is the question: Who is Peru’s President in 2017?. Here is the answer to this question:\n"
     ]
    },
    {
     "name": "stderr",
     "output_type": "stream",
     "text": [
      "Llama.generate: prefix-match hit\n",
      "\n",
      "llama_print_timings:        load time =     183.69 ms\n",
      "llama_print_timings:      sample time =       3.29 ms /    21 runs   (    0.16 ms per token,  6377.16 tokens per second)\n",
      "llama_print_timings: prompt eval time =    9983.35 ms /   398 tokens (   25.08 ms per token,    39.87 tokens per second)\n",
      "llama_print_timings:        eval time =    1842.69 ms /    20 runs   (   92.13 ms per token,    10.85 tokens per second)\n",
      "llama_print_timings:       total time =   11875.24 ms /   418 tokens\n"
     ]
    },
    {
     "name": "stdout",
     "output_type": "stream",
     "text": [
      "\n",
      "Question #7:\n",
      "Who is Peru’s President in 2017?\n",
      "Possible answer: Pedro Pablo Kuczynski\n",
      "LLM's answer:  Pedro Pablo Kuczynski is Peru’s President in 2017.\n",
      "\n",
      "Prompt: Here is the context: SAN FRANCISCO Reuters - Apple Inc , Alphabet Inc s Google and Facebook Inc are among more than 60 technology companies that appear to have backed away from the legal fight against U . S . President Donald Trump s controversial travel ban , deciding not to put their weight behind a lawsuit seeking to block the second version of his executive order . Apple has retained two prominent , free -speech lawyers to do battle with the government , according to court papers Theodore Olson , who won the political -speech case Citizens United v . The legal battle between the FBI and Apple briefly united many around the idea that Congress - not the courts - should decide the issue . Other tech giants such as Facebook Inc FB . O , Twitter Inc TWTR . N and Alphabet Inc s GOOGL . O Google have rallied to support Apple . The high court said then that the All Writs Act , a law from 1789 , authorized the order , and the scope of that ruling is expected to be a main target of Apple when it files a response in court by early next week . When the Federal Bureau of Investigation took Apple to court in February to try to open the iPhone in its investigation of the San Bernardino slayings , the cause gained traction in Washington . But Apple will likely also broaden its challenge to include the First Amendment s guarantee of speech rights , according to lawyers who are not involved in the dispute but who are following it . Apple fought back , arguing , among other things , that only Congressional legislation could authorize what the court was demanding . In addition , the iPhone in dispute was owned not by Farook but by his employer , a local government , which has consented to the search of the iPhone . Government lawyers from the U . S . Justice Department have defended their request in court papers by citing various authorities , such as a 1977 U . S . Supreme Court ruling that upheld an order compelling a telephone company to provide assistance with setting up a device to record telephone numbers .. Here is the question: Did Google and Apple joined court papers?. Here is the answer to this question:\n"
     ]
    },
    {
     "name": "stderr",
     "output_type": "stream",
     "text": [
      "Llama.generate: prefix-match hit\n",
      "\n",
      "llama_print_timings:        load time =     183.69 ms\n",
      "llama_print_timings:      sample time =       1.89 ms /    12 runs   (    0.16 ms per token,  6359.30 tokens per second)\n",
      "llama_print_timings: prompt eval time =   11252.84 ms /   447 tokens (   25.17 ms per token,    39.72 tokens per second)\n",
      "llama_print_timings:        eval time =    1016.78 ms /    11 runs   (   92.44 ms per token,    10.82 tokens per second)\n",
      "llama_print_timings:       total time =   12297.57 ms /   458 tokens\n"
     ]
    },
    {
     "name": "stdout",
     "output_type": "stream",
     "text": [
      "\n",
      "Question #8:\n",
      "Did Google and Apple joined court papers?\n",
      "Possible answer: Yes\n",
      "LLM's answer:  Yes, both Google and Apple have joined court papers.\n",
      "\n",
      "Prompt: Here is the context: He was Slovenia s prime minister from 2008 to 2012 , the years that led to the worst financial crisis in Slovenia s history . Benediktsson will become finance minister in the new government . Ablyazov , once a wealthy businessman who became a government minister , led an opposition political movement in the early 2000s until being convicted on corruption charges in 2002 . What other bank CEO is getting as much one -on-one face time with the prime minister ? As the prime minister made clear yesterday . . . Modi also named a new minister for the railways to restore confidence in the world s fourth -biggest rail network after a string of accidents , as well as a new leader to head a planned clean up of the river Ganges that has failed to make headway . This story corrects name of Australian prime minister in paragraph 5 That prompted Polish Prime Minister Beata Szydlo at the time to call him arrogant and inexperienced . He noted Tito s cozy ties with dictators around the world , the exodus of Italian residents of Rijeka when he took the city as part of Yugoslavia , and his denial of democracy during 35 years of one -man rule until his death in 1980 . But tensions started easing after Jeenbekov , a former prime minister , took office this month .. Here is the question: Was Silvio Berlusconi an Italian prime minister?. Here is the answer to this question:\n"
     ]
    },
    {
     "name": "stderr",
     "output_type": "stream",
     "text": [
      "Llama.generate: prefix-match hit\n"
     ]
    },
    {
     "name": "stdout",
     "output_type": "stream",
     "text": [
      "\n",
      "Question #9:\n",
      "Was Silvio Berlusconi an Italian prime minister?\n",
      "Possible answer: Yes\n",
      "LLM's answer:  Yes, Silvio Berlusconi was an Italian prime minister. He served as Italy s prime minister on three separate occasions from 1994 to 2011.\n",
      "\n"
     ]
    },
    {
     "name": "stderr",
     "output_type": "stream",
     "text": [
      "\n",
      "llama_print_timings:        load time =     183.69 ms\n",
      "llama_print_timings:      sample time =       6.23 ms /    41 runs   (    0.15 ms per token,  6577.89 tokens per second)\n",
      "llama_print_timings: prompt eval time =    8246.08 ms /   331 tokens (   24.91 ms per token,    40.14 tokens per second)\n",
      "llama_print_timings:        eval time =    3661.75 ms /    40 runs   (   91.54 ms per token,    10.92 tokens per second)\n",
      "llama_print_timings:       total time =   12005.82 ms /   371 tokens\n"
     ]
    }
   ],
   "source": [
    "questions = [\n",
    "    'Where is the Catalan pro-independence party?',\n",
    "    'Who was the president of US in 2018?',\n",
    "    'Who was the president of US in 2016?',\n",
    "    'How much forest is there in Slovenia?',\n",
    "    'Is Donald Trump Republican Party nominee?',\n",
    "    'Is Donald Trump Democratic Party nominee?',\n",
    "    'What does the new U.S. tax code target?',\n",
    "    'Who is Peru’s President in 2017?',\n",
    "    'Did Google and Apple joined court papers?',\n",
    "    'Was Silvio Berlusconi an Italian prime minister?'\n",
    "]\n",
    "answers = [\n",
    "    'Catalonia, Spain',\n",
    "    'Donald Trump',\n",
    "    'Barack Obama',\n",
    "    'About 60 percent of Slovenia is covered by forests',\n",
    "    'Yes',\n",
    "    'No',\n",
    "    'The new U.S. tax code targets high-tax states',\n",
    "    'Pedro Pablo Kuczynski',\n",
    "    'Yes',\n",
    "    'Yes'\n",
    "]\n",
    "\n",
    "for i in range(len(questions)):\n",
    "    output = answer_on(questions[i], verbose=True)\n",
    "    print(f'\\nQuestion #{i}:\\n{questions[i]}\\nPossible answer: {answers[i]}\\nLLM\\'s answer: {output}\\n')"
   ]
  }
 ],
 "metadata": {
  "kernelspec": {
   "display_name": "py38_clone",
   "language": "python",
   "name": "python3"
  },
  "language_info": {
   "codemirror_mode": {
    "name": "ipython",
    "version": 3
   },
   "file_extension": ".py",
   "mimetype": "text/x-python",
   "name": "python",
   "nbconvert_exporter": "python",
   "pygments_lexer": "ipython3",
   "version": "3.8.5"
  },
  "orig_nbformat": 4
 },
 "nbformat": 4,
 "nbformat_minor": 2
}
